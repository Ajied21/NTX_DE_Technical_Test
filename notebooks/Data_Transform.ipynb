{
  "cells": [
    {
      "cell_type": "code",
      "execution_count": 1,
      "metadata": {},
      "outputs": [],
      "source": [
        "# Importing required libraries\n",
        "import pandas as pd\n",
        "import plotly.express as px"
      ]
    },
    {
      "cell_type": "code",
      "execution_count": 2,
      "metadata": {
        "colab": {
          "base_uri": "https://localhost:8080/",
          "height": 1000
        },
        "id": "aWLUwlBrD3PQ",
        "outputId": "e37c228d-40c7-4f0b-ad23-356e5d883da6"
      },
      "outputs": [
        {
          "name": "stdout",
          "output_type": "stream",
          "text": [
            "<class 'pandas.core.frame.DataFrame'>\n",
            "RangeIndex: 10000 entries, 0 to 9999\n",
            "Data columns (total 32 columns):\n",
            " #   Column                   Non-Null Count  Dtype  \n",
            "---  ------                   --------------  -----  \n",
            " 0   fullVisitorId            10000 non-null  uint64 \n",
            " 1   channelGrouping          10000 non-null  object \n",
            " 2   time                     10000 non-null  int64  \n",
            " 3   country                  10000 non-null  object \n",
            " 4   city                     10000 non-null  object \n",
            " 5   totalTransactionRevenue  619 non-null    float64\n",
            " 6   transactions             628 non-null    float64\n",
            " 7   timeOnSite               9713 non-null   float64\n",
            " 8   pageviews                9999 non-null   float64\n",
            " 9   sessionQualityDim        19 non-null     float64\n",
            " 10  date                     10000 non-null  int64  \n",
            " 11  visitId                  10000 non-null  int64  \n",
            " 12  type                     10000 non-null  object \n",
            " 13  productRefundAmount      0 non-null      float64\n",
            " 14  productQuantity          45 non-null     float64\n",
            " 15  productPrice             10000 non-null  int64  \n",
            " 16  productRevenue           0 non-null      float64\n",
            " 17  productSKU               10000 non-null  object \n",
            " 18  v2ProductName            10000 non-null  object \n",
            " 19  v2ProductCategory        10000 non-null  object \n",
            " 20  productVariant           10000 non-null  object \n",
            " 21  currencyCode             9614 non-null   object \n",
            " 22  itemQuantity             0 non-null      float64\n",
            " 23  itemRevenue              0 non-null      float64\n",
            " 24  transactionRevenue       0 non-null      float64\n",
            " 25  transactionId            0 non-null      float64\n",
            " 26  pageTitle                9908 non-null   object \n",
            " 27  searchKeyword            0 non-null      float64\n",
            " 28  pagePathLevel1           10000 non-null  object \n",
            " 29  eCommerceAction_type     10000 non-null  int64  \n",
            " 30  eCommerceAction_step     10000 non-null  int64  \n",
            " 31  eCommerceAction_option   0 non-null      float64\n",
            "dtypes: float64(14), int64(6), object(11), uint64(1)\n",
            "memory usage: 2.4+ MB\n"
          ]
        }
      ],
      "source": [
        "# Configuring pandas to display all columns\n",
        "pd.set_option('display.max_columns', None)\n",
        "\n",
        "# Loading the dataset\n",
        "df = pd.read_csv(\"C:/Users/G2 Academy/OneDrive/Desktop/NTX_Solusi_Teknologi/data/ecommerce-session-bigquery.csv\") #adjust the data path you will use\n",
        "\n",
        "# Display dataset information and initial rows\n",
        "df.info()"
      ]
    },
    {
      "cell_type": "markdown",
      "metadata": {},
      "source": [
        "# Cleansing"
      ]
    },
    {
      "cell_type": "code",
      "execution_count": 3,
      "metadata": {},
      "outputs": [
        {
          "name": "stdout",
          "output_type": "stream",
          "text": [
            "Percentage of Missing Values by Column:\n",
            "fullVisitorId                0.00\n",
            "channelGrouping              0.00\n",
            "time                         0.00\n",
            "country                      0.00\n",
            "city                         0.00\n",
            "totalTransactionRevenue     93.81\n",
            "transactions                93.72\n",
            "timeOnSite                   2.87\n",
            "pageviews                    0.01\n",
            "sessionQualityDim           99.81\n",
            "date                         0.00\n",
            "visitId                      0.00\n",
            "type                         0.00\n",
            "productRefundAmount        100.00\n",
            "productQuantity             99.55\n",
            "productPrice                 0.00\n",
            "productRevenue             100.00\n",
            "productSKU                   0.00\n",
            "v2ProductName                0.00\n",
            "v2ProductCategory            0.00\n",
            "productVariant               0.00\n",
            "currencyCode                 3.86\n",
            "itemQuantity               100.00\n",
            "itemRevenue                100.00\n",
            "transactionRevenue         100.00\n",
            "transactionId              100.00\n",
            "pageTitle                    0.92\n",
            "searchKeyword              100.00\n",
            "pagePathLevel1               0.00\n",
            "eCommerceAction_type         0.00\n",
            "eCommerceAction_step         0.00\n",
            "eCommerceAction_option     100.00\n",
            "dtype: float64\n",
            "\n",
            "Columns with missing values above 20%:\n",
            "totalTransactionRevenue     93.81\n",
            "transactions                93.72\n",
            "sessionQualityDim           99.81\n",
            "productRefundAmount        100.00\n",
            "productQuantity             99.55\n",
            "productRevenue             100.00\n",
            "itemQuantity               100.00\n",
            "itemRevenue                100.00\n",
            "transactionRevenue         100.00\n",
            "transactionId              100.00\n",
            "searchKeyword              100.00\n",
            "eCommerceAction_option     100.00\n",
            "dtype: float64\n"
          ]
        }
      ],
      "source": [
        "# Calculate the percentage of missing values ​​for each column\n",
        "missing_percentage = df.isna().sum() / len(df) * 100\n",
        "\n",
        "# Displays the percentage of missing values\n",
        "print(\"Percentage of Missing Values by Column:\")\n",
        "print(missing_percentage)\n",
        "\n",
        "# Displays columns with missing values ​​above a certain threshold (example:20%)\n",
        "threshold = 20\n",
        "columns_above_threshold = missing_percentage[missing_percentage > threshold]\n",
        "print(f\"\\nColumns with missing values above {threshold}%:\")\n",
        "print(columns_above_threshold)"
      ]
    },
    {
      "cell_type": "code",
      "execution_count": 4,
      "metadata": {},
      "outputs": [
        {
          "name": "stdout",
          "output_type": "stream",
          "text": [
            "<class 'pandas.core.frame.DataFrame'>\n",
            "RangeIndex: 10000 entries, 0 to 9999\n",
            "Data columns (total 22 columns):\n",
            " #   Column                   Non-Null Count  Dtype  \n",
            "---  ------                   --------------  -----  \n",
            " 0   fullVisitorId            10000 non-null  uint64 \n",
            " 1   channelGrouping          10000 non-null  object \n",
            " 2   time                     10000 non-null  int64  \n",
            " 3   country                  10000 non-null  object \n",
            " 4   city                     10000 non-null  object \n",
            " 5   totalTransactionRevenue  619 non-null    float64\n",
            " 6   transactions             628 non-null    float64\n",
            " 7   timeOnSite               9713 non-null   float64\n",
            " 8   pageviews                9999 non-null   float64\n",
            " 9   sessionQualityDim        19 non-null     float64\n",
            " 10  date                     10000 non-null  int64  \n",
            " 11  visitId                  10000 non-null  int64  \n",
            " 12  type                     10000 non-null  object \n",
            " 13  productPrice             10000 non-null  int64  \n",
            " 14  productSKU               10000 non-null  object \n",
            " 15  v2ProductName            10000 non-null  object \n",
            " 16  v2ProductCategory        10000 non-null  object \n",
            " 17  currencyCode             9614 non-null   object \n",
            " 18  pageTitle                9908 non-null   object \n",
            " 19  pagePathLevel1           10000 non-null  object \n",
            " 20  eCommerceAction_type     10000 non-null  int64  \n",
            " 21  eCommerceAction_step     10000 non-null  int64  \n",
            "dtypes: float64(5), int64(6), object(10), uint64(1)\n",
            "memory usage: 1.7+ MB\n"
          ]
        }
      ],
      "source": [
        "# Dropping unnecessary columns\n",
        "df = df.drop(columns=[\n",
        "    'productRefundAmount', 'productRevenue', 'itemQuantity', 'productQuantity',\n",
        "    'itemRevenue', 'transactionRevenue', 'transactionId', 'productVariant', \n",
        "    'searchKeyword', 'eCommerceAction_option'\n",
        "])\n",
        "df.info()"
      ]
    },
    {
      "cell_type": "code",
      "execution_count": 5,
      "metadata": {
        "colab": {
          "base_uri": "https://localhost:8080/"
        },
        "id": "xdCX2wgOV579",
        "outputId": "1e406bff-5706-44fc-b655-0c4dc538515f"
      },
      "outputs": [
        {
          "name": "stdout",
          "output_type": "stream",
          "text": [
            "currencyCode\n",
            "['USD' nan]\n",
            "\n",
            "pageTitle\n",
            "[nan 'Fun' 'Pet' 'Bags']\n",
            "\n",
            "transactions\n",
            "[nan  1.  2.  3.  6.]\n",
            "\n",
            "timeOnSite\n",
            "[1567.  321.  927. ... 1554.  765. 3184.]\n",
            "\n",
            "v2ProductCategory\n",
            "['(not set)' 'Home/Shop by Brand/YouTube/'\n",
            " \"Home/Apparel/Men's/Men's-T-Shirts/\" 'Home/Bags/Backpacks/'\n",
            " '${escCatTitle}' 'Home/Accessories/Fun/' 'Home/Fun/'\n",
            " 'Home/Lifestyle/Fun/' 'Home/Accessories/Pet/' 'Home/Bags/'\n",
            " 'Home/Limited Supply/Bags/']\n",
            "\n",
            "city\n",
            "['(not set)' 'not available in demo dataset' 'San Francisco' 'Boulder'\n",
            " 'Ann Arbor' 'Mountain View' 'Los Angeles' 'Houston' 'Palo Alto' 'Paris'\n",
            " 'Chicago' 'New York' 'Zurich' 'Sunnyvale' 'Atlanta' 'Washington' 'Kiev'\n",
            " 'Seattle' 'Toronto' 'Hong Kong' 'Bangkok' 'Austin' 'Goose Creek'\n",
            " 'Ho Chi Minh City' 'Santa Clara' 'Kirkland' 'Cambridge' 'Sao Paulo'\n",
            " 'Sydney' 'San Jose' 'London' 'Brno' 'Warsaw' 'Barcelona' 'Dublin'\n",
            " 'Manila' 'Mexico City' 'Wheaton' 'Hyderabad' 'Gurgaon' 'Oviedo' 'Dallas'\n",
            " 'Montreal' 'Ashburn' 'San Diego' 'Minneapolis' 'Salem' 'Rio de Janeiro'\n",
            " 'Mumbai' 'Stockholm' 'Colombo' 'Phoenix' 'Quebec City' 'Karachi' 'Madrid'\n",
            " 'Pittsburgh' 'Bengaluru' 'Alexandria' 'Ankara' 'Melbourne' 'Bogota'\n",
            " 'Bordeaux' 'La Victoria' 'Cupertino' 'Seoul' 'San Carlos' 'Abu Dhabi'\n",
            " 'Boston' 'Singapore' 'Rome' 'Bursa' 'Hanoi' 'Pozuelo de Alarcon'\n",
            " 'Amsterdam' 'Minato' 'New Delhi' 'Fremont' 'Jakarta' 'Oslo' 'Brisbane'\n",
            " 'Krakow' 'Santiago' 'South San Francisco' 'Odense' 'Las Vegas'\n",
            " 'Piscataway Township' 'Shibuya' 'Orlando' 'Chico' 'San Bruno' 'Vienna'\n",
            " 'Moscow' 'Edison' 'Cape Town' 'Prague' 'Columbia' 'Irvine' 'Milan'\n",
            " 'Athens' 'Kuala Lumpur' 'Roskilde' 'Munich' 'Charlotte' 'Maracaibo'\n",
            " 'Belgrade' 'Tel Aviv-Yafo' 'Dubai' 'Bucharest' 'Pune' 'Buenos Aires'\n",
            " 'Talence' 'Chennai' 'Oakland' 'Council Bluffs' 'Hamburg' 'Osaka'\n",
            " 'Cincinnati' 'Medellin' 'Ahmedabad' 'Mankato' 'Portland' 'Kolkata'\n",
            " 'Kharkiv' 'Saint Petersburg' 'Monterrey' 'Smyrna' 'Columbus' 'Istanbul'\n",
            " 'Tempe' 'Quezon City' 'Mississauga' 'Vladivostok' 'El Paso' 'Auckland'\n",
            " 'Nice' 'Normandy' 'Zagreb' 'Lagos' 'Milpitas' 'Yokohama' 'Makati'\n",
            " 'Riyadh' 'Hamden' 'Denver' 'Kuwait City' 'Timisoara' 'Izmir' 'Manchester'\n",
            " 'Vancouver' 'Santiago de Surco' 'Frankfurt' 'Miami' 'San Antonio'\n",
            " 'Kansas City' 'Nairobi' 'Berlin' 'Pleasanton' 'Cabimas' 'Skopje'\n",
            " 'Curitiba' 'Fort Worth' 'Targu Mures' 'The Dalles' 'Budapest' 'Stuttgart'\n",
            " 'Sapporo' 'Amã' 'Druid Hills' 'Naples' 'South El Monte' 'Alba Iulia']\n",
            "\n",
            "sessionQualityDim\n",
            "[17. nan 63. 38. 53. 87. 71. 62. 85. 80. 22. 45.  1. 69.  9. 78. 92.]\n",
            "\n",
            "pagePathLevel1\n",
            "['/storeitem.html' '/google+redesign/' '/store.html']\n"
          ]
        }
      ],
      "source": [
        "# Displaying unique values of specific columns\n",
        "print(\"currencyCode\")\n",
        "print(df['currencyCode'].unique())\n",
        "\n",
        "print(\"\\npageTitle\")\n",
        "print(df['pageTitle'].unique())\n",
        "\n",
        "print(\"\\ntransactions\")\n",
        "print(df['transactions'].unique())\n",
        "\n",
        "print(\"\\ntimeOnSite\")\n",
        "print(df['timeOnSite'].unique())\n",
        "\n",
        "print(\"\\nv2ProductCategory\")\n",
        "print(df['v2ProductCategory'].unique())\n",
        "\n",
        "print(\"\\ncity\")\n",
        "print(df['city'].unique())\n",
        "\n",
        "print(\"\\nsessionQualityDim\")\n",
        "print(df['sessionQualityDim'].unique())\n",
        "\n",
        "print(\"\\npagePathLevel1\")\n",
        "print(df['pagePathLevel1'].unique())"
      ]
    },
    {
      "cell_type": "code",
      "execution_count": 6,
      "metadata": {
        "colab": {
          "base_uri": "https://localhost:8080/"
        },
        "id": "qg8xtj1hHkBn",
        "outputId": "234fe921-446a-420a-f791-80fa7d338498"
      },
      "outputs": [
        {
          "name": "stderr",
          "output_type": "stream",
          "text": [
            "C:\\Users\\G2 Academy\\AppData\\Local\\Temp\\ipykernel_3004\\882956702.py:4: FutureWarning: A value is trying to be set on a copy of a DataFrame or Series through chained assignment using an inplace method.\n",
            "The behavior will change in pandas 3.0. This inplace method will never work because the intermediate object on which we are setting values always behaves as a copy.\n",
            "\n",
            "For example, when doing 'df[col].method(value, inplace=True)', try using 'df.method({col: value}, inplace=True)' or df[col] = df[col].method(value) instead, to perform the operation inplace on the original object.\n",
            "\n",
            "\n",
            "  df['pageviews'].fillna(pageviews, inplace=True)\n",
            "C:\\Users\\G2 Academy\\AppData\\Local\\Temp\\ipykernel_3004\\882956702.py:9: FutureWarning: A value is trying to be set on a copy of a DataFrame or Series through chained assignment using an inplace method.\n",
            "The behavior will change in pandas 3.0. This inplace method will never work because the intermediate object on which we are setting values always behaves as a copy.\n",
            "\n",
            "For example, when doing 'df[col].method(value, inplace=True)', try using 'df.method({col: value}, inplace=True)' or df[col] = df[col].method(value) instead, to perform the operation inplace on the original object.\n",
            "\n",
            "\n",
            "  df['timeOnSite'].fillna(timeOnSite, inplace=True)\n"
          ]
        }
      ],
      "source": [
        "# Get the most frequent value (mode) for the 'pageviews' column\n",
        "pageviews = df['pageviews'].mode()[0]\n",
        "# Fill missing values (NaN) in the 'pageviews' column with the most frequent value (mode)\n",
        "df['pageviews'].fillna(pageviews, inplace=True)\n",
        "\n",
        "# Get the most frequent value (mode) for the 'timeOnSite' column\n",
        "timeOnSite = df['timeOnSite'].mode()[0]\n",
        "# Fill missing values (NaN) in the 'timeOnSite' column with the most frequent value (mode)\n",
        "df['timeOnSite'].fillna(timeOnSite, inplace=True)"
      ]
    },
    {
      "cell_type": "code",
      "execution_count": 7,
      "metadata": {
        "id": "ObjYs_vjWNAo"
      },
      "outputs": [],
      "source": [
        "# Fill missing values (NaN) in the 'currencyCode' column with the value 'other'\n",
        "df['currencyCode'] = df['currencyCode'].fillna('other')\n",
        "\n",
        "# Fill missing values (NaN) in the 'pageTitle' column with the value 'other'\n",
        "df['pageTitle'] = df['pageTitle'].fillna('other')\n",
        "\n",
        "# Fill missing values (NaN) in the 'transactions' column with the value 0\n",
        "df['transactions'] = df['transactions'].fillna(0)\n",
        "\n",
        "# Fill missing values (NaN) in the 'totalTransactionRevenue' column with the value 0\n",
        "df['totalTransactionRevenue'] = df['totalTransactionRevenue'].fillna(0)\n",
        "\n",
        "# Fill missing values (NaN) in the 'sessionQualityDim' column with the value 0\n",
        "df['sessionQualityDim'] = df['sessionQualityDim'].fillna(0)\n",
        "\n",
        "# Replace '(not set)' with 'Unknown' in the 'v2ProductCategory' column\n",
        "df['v2ProductCategory'] = df['v2ProductCategory'].replace('(not set)', 'Unknown')\n",
        "\n",
        "# Replace '(not set)' with 'Unknown' in the 'city' column\n",
        "df['city'] = df['city'].replace('(not set)', 'Unknown')"
      ]
    },
    {
      "cell_type": "code",
      "execution_count": 8,
      "metadata": {},
      "outputs": [],
      "source": [
        "# Convert the 'time' column from seconds since the Unix epoch (timestamp) to a datetime format\n",
        "df['time'] = pd.to_datetime(df['time'], unit='s')\n",
        "\n",
        "# Convert the 'date' column from the format YYYYMMDD to a datetime format\n",
        "df['date'] = pd.to_datetime(df['date'], format='%Y%m%d')"
      ]
    },
    {
      "cell_type": "code",
      "execution_count": 9,
      "metadata": {
        "id": "i_wqkYK_V_g6"
      },
      "outputs": [],
      "source": [
        "# Removing duplicate rows\n",
        "df = df.drop_duplicates()"
      ]
    },
    {
      "cell_type": "code",
      "execution_count": 10,
      "metadata": {
        "colab": {
          "base_uri": "https://localhost:8080/",
          "height": 742
        },
        "id": "7zXttywDKtJY",
        "outputId": "1398fdd8-56f1-477e-9901-f33e57150541"
      },
      "outputs": [
        {
          "data": {
            "text/plain": [
              "fullVisitorId              0\n",
              "channelGrouping            0\n",
              "time                       0\n",
              "country                    0\n",
              "city                       0\n",
              "totalTransactionRevenue    0\n",
              "transactions               0\n",
              "timeOnSite                 0\n",
              "pageviews                  0\n",
              "sessionQualityDim          0\n",
              "date                       0\n",
              "visitId                    0\n",
              "type                       0\n",
              "productPrice               0\n",
              "productSKU                 0\n",
              "v2ProductName              0\n",
              "v2ProductCategory          0\n",
              "currencyCode               0\n",
              "pageTitle                  0\n",
              "pagePathLevel1             0\n",
              "eCommerceAction_type       0\n",
              "eCommerceAction_step       0\n",
              "dtype: int64"
            ]
          },
          "execution_count": 10,
          "metadata": {},
          "output_type": "execute_result"
        }
      ],
      "source": [
        "# Checking for remaining missing values\n",
        "df.isna().sum()"
      ]
    },
    {
      "cell_type": "code",
      "execution_count": 11,
      "metadata": {},
      "outputs": [
        {
          "data": {
            "text/plain": [
              "(10000, 22)"
            ]
          },
          "execution_count": 11,
          "metadata": {},
          "output_type": "execute_result"
        }
      ],
      "source": [
        "# Get the dimensions (number of rows and columns) of the DataFrame\n",
        "df.shape"
      ]
    },
    {
      "cell_type": "code",
      "execution_count": 12,
      "metadata": {},
      "outputs": [
        {
          "data": {
            "text/html": [
              "<div>\n",
              "<style scoped>\n",
              "    .dataframe tbody tr th:only-of-type {\n",
              "        vertical-align: middle;\n",
              "    }\n",
              "\n",
              "    .dataframe tbody tr th {\n",
              "        vertical-align: top;\n",
              "    }\n",
              "\n",
              "    .dataframe thead th {\n",
              "        text-align: right;\n",
              "    }\n",
              "</style>\n",
              "<table border=\"1\" class=\"dataframe\">\n",
              "  <thead>\n",
              "    <tr style=\"text-align: right;\">\n",
              "      <th></th>\n",
              "      <th>fullVisitorId</th>\n",
              "      <th>channelGrouping</th>\n",
              "      <th>time</th>\n",
              "      <th>country</th>\n",
              "      <th>city</th>\n",
              "      <th>totalTransactionRevenue</th>\n",
              "      <th>transactions</th>\n",
              "      <th>timeOnSite</th>\n",
              "      <th>pageviews</th>\n",
              "      <th>sessionQualityDim</th>\n",
              "      <th>date</th>\n",
              "      <th>visitId</th>\n",
              "      <th>type</th>\n",
              "      <th>productPrice</th>\n",
              "      <th>productSKU</th>\n",
              "      <th>v2ProductName</th>\n",
              "      <th>v2ProductCategory</th>\n",
              "      <th>currencyCode</th>\n",
              "      <th>pageTitle</th>\n",
              "      <th>pagePathLevel1</th>\n",
              "      <th>eCommerceAction_type</th>\n",
              "      <th>eCommerceAction_step</th>\n",
              "    </tr>\n",
              "  </thead>\n",
              "  <tbody>\n",
              "    <tr>\n",
              "      <th>4012</th>\n",
              "      <td>9321967957655029034</td>\n",
              "      <td>Referral</td>\n",
              "      <td>1970-01-12 19:00:35</td>\n",
              "      <td>United States</td>\n",
              "      <td>Mountain View</td>\n",
              "      <td>0.0</td>\n",
              "      <td>0.0</td>\n",
              "      <td>1633.0</td>\n",
              "      <td>35.0</td>\n",
              "      <td>0.0</td>\n",
              "      <td>2016-08-04</td>\n",
              "      <td>1470337059</td>\n",
              "      <td>PAGE</td>\n",
              "      <td>3990000</td>\n",
              "      <td>GGOEGBFC018799</td>\n",
              "      <td>Electronics Accessory Pouch</td>\n",
              "      <td>Home/Limited Supply/Bags/</td>\n",
              "      <td>USD</td>\n",
              "      <td>Bags</td>\n",
              "      <td>/google+redesign/</td>\n",
              "      <td>0</td>\n",
              "      <td>1</td>\n",
              "    </tr>\n",
              "    <tr>\n",
              "      <th>4822</th>\n",
              "      <td>1386841622492700501</td>\n",
              "      <td>Direct</td>\n",
              "      <td>1970-01-04 22:30:17</td>\n",
              "      <td>United States</td>\n",
              "      <td>not available in demo dataset</td>\n",
              "      <td>0.0</td>\n",
              "      <td>0.0</td>\n",
              "      <td>913.0</td>\n",
              "      <td>47.0</td>\n",
              "      <td>0.0</td>\n",
              "      <td>2016-08-18</td>\n",
              "      <td>1471555271</td>\n",
              "      <td>PAGE</td>\n",
              "      <td>9990000</td>\n",
              "      <td>GGOEGBJC014399</td>\n",
              "      <td>Google Tote Bag</td>\n",
              "      <td>Home/Limited Supply/Bags/</td>\n",
              "      <td>USD</td>\n",
              "      <td>Bags</td>\n",
              "      <td>/google+redesign/</td>\n",
              "      <td>0</td>\n",
              "      <td>1</td>\n",
              "    </tr>\n",
              "    <tr>\n",
              "      <th>3471</th>\n",
              "      <td>7949388751930191976</td>\n",
              "      <td>Referral</td>\n",
              "      <td>1970-01-01 00:00:00</td>\n",
              "      <td>United States</td>\n",
              "      <td>not available in demo dataset</td>\n",
              "      <td>0.0</td>\n",
              "      <td>0.0</td>\n",
              "      <td>166.0</td>\n",
              "      <td>9.0</td>\n",
              "      <td>0.0</td>\n",
              "      <td>2016-09-27</td>\n",
              "      <td>1475028415</td>\n",
              "      <td>PAGE</td>\n",
              "      <td>4990000</td>\n",
              "      <td>GGOEGBFC018799</td>\n",
              "      <td>Electronics Accessory Pouch</td>\n",
              "      <td>Home/Bags/</td>\n",
              "      <td>USD</td>\n",
              "      <td>Bags</td>\n",
              "      <td>/google+redesign/</td>\n",
              "      <td>0</td>\n",
              "      <td>1</td>\n",
              "    </tr>\n",
              "    <tr>\n",
              "      <th>4832</th>\n",
              "      <td>7166253532069552655</td>\n",
              "      <td>Display</td>\n",
              "      <td>1970-01-04 05:34:14</td>\n",
              "      <td>United States</td>\n",
              "      <td>San Francisco</td>\n",
              "      <td>451700000.0</td>\n",
              "      <td>1.0</td>\n",
              "      <td>1187.0</td>\n",
              "      <td>41.0</td>\n",
              "      <td>0.0</td>\n",
              "      <td>2016-08-18</td>\n",
              "      <td>1471550764</td>\n",
              "      <td>PAGE</td>\n",
              "      <td>9990000</td>\n",
              "      <td>GGOEGBJC014399</td>\n",
              "      <td>Google Tote Bag</td>\n",
              "      <td>Home/Limited Supply/Bags/</td>\n",
              "      <td>USD</td>\n",
              "      <td>Bags</td>\n",
              "      <td>/google+redesign/</td>\n",
              "      <td>0</td>\n",
              "      <td>1</td>\n",
              "    </tr>\n",
              "    <tr>\n",
              "      <th>2389</th>\n",
              "      <td>101246539776970727</td>\n",
              "      <td>Referral</td>\n",
              "      <td>1970-01-03 15:33:31</td>\n",
              "      <td>United States</td>\n",
              "      <td>Chicago</td>\n",
              "      <td>125980000.0</td>\n",
              "      <td>1.0</td>\n",
              "      <td>454.0</td>\n",
              "      <td>27.0</td>\n",
              "      <td>0.0</td>\n",
              "      <td>2016-09-01</td>\n",
              "      <td>1472745909</td>\n",
              "      <td>PAGE</td>\n",
              "      <td>11190000</td>\n",
              "      <td>GGOEGBCR024399</td>\n",
              "      <td>Google Lunch Bag</td>\n",
              "      <td>Home/Bags/</td>\n",
              "      <td>USD</td>\n",
              "      <td>Bags</td>\n",
              "      <td>/google+redesign/</td>\n",
              "      <td>0</td>\n",
              "      <td>1</td>\n",
              "    </tr>\n",
              "  </tbody>\n",
              "</table>\n",
              "</div>"
            ],
            "text/plain": [
              "            fullVisitorId channelGrouping                time        country  \\\n",
              "4012  9321967957655029034        Referral 1970-01-12 19:00:35  United States   \n",
              "4822  1386841622492700501          Direct 1970-01-04 22:30:17  United States   \n",
              "3471  7949388751930191976        Referral 1970-01-01 00:00:00  United States   \n",
              "4832  7166253532069552655         Display 1970-01-04 05:34:14  United States   \n",
              "2389   101246539776970727        Referral 1970-01-03 15:33:31  United States   \n",
              "\n",
              "                               city  totalTransactionRevenue  transactions  \\\n",
              "4012                  Mountain View                      0.0           0.0   \n",
              "4822  not available in demo dataset                      0.0           0.0   \n",
              "3471  not available in demo dataset                      0.0           0.0   \n",
              "4832                  San Francisco              451700000.0           1.0   \n",
              "2389                        Chicago              125980000.0           1.0   \n",
              "\n",
              "      timeOnSite  pageviews  sessionQualityDim       date     visitId  type  \\\n",
              "4012      1633.0       35.0                0.0 2016-08-04  1470337059  PAGE   \n",
              "4822       913.0       47.0                0.0 2016-08-18  1471555271  PAGE   \n",
              "3471       166.0        9.0                0.0 2016-09-27  1475028415  PAGE   \n",
              "4832      1187.0       41.0                0.0 2016-08-18  1471550764  PAGE   \n",
              "2389       454.0       27.0                0.0 2016-09-01  1472745909  PAGE   \n",
              "\n",
              "      productPrice      productSKU                v2ProductName  \\\n",
              "4012       3990000  GGOEGBFC018799  Electronics Accessory Pouch   \n",
              "4822       9990000  GGOEGBJC014399              Google Tote Bag   \n",
              "3471       4990000  GGOEGBFC018799  Electronics Accessory Pouch   \n",
              "4832       9990000  GGOEGBJC014399              Google Tote Bag   \n",
              "2389      11190000  GGOEGBCR024399             Google Lunch Bag   \n",
              "\n",
              "              v2ProductCategory currencyCode pageTitle     pagePathLevel1  \\\n",
              "4012  Home/Limited Supply/Bags/          USD      Bags  /google+redesign/   \n",
              "4822  Home/Limited Supply/Bags/          USD      Bags  /google+redesign/   \n",
              "3471                 Home/Bags/          USD      Bags  /google+redesign/   \n",
              "4832  Home/Limited Supply/Bags/          USD      Bags  /google+redesign/   \n",
              "2389                 Home/Bags/          USD      Bags  /google+redesign/   \n",
              "\n",
              "      eCommerceAction_type  eCommerceAction_step  \n",
              "4012                     0                     1  \n",
              "4822                     0                     1  \n",
              "3471                     0                     1  \n",
              "4832                     0                     1  \n",
              "2389                     0                     1  "
            ]
          },
          "execution_count": 12,
          "metadata": {},
          "output_type": "execute_result"
        }
      ],
      "source": [
        "# Sampling a few rows to validate cleaning\n",
        "df.sample(5)"
      ]
    },
    {
      "cell_type": "markdown",
      "metadata": {},
      "source": [
        "# Visualization"
      ]
    },
    {
      "cell_type": "code",
      "execution_count": 13,
      "metadata": {},
      "outputs": [
        {
          "data": {
            "application/vnd.plotly.v1+json": {
              "config": {
                "plotlyServerURL": "https://plot.ly"
              },
              "data": [
                {
                  "hovertemplate": "v2ProductName=Chevron Shopper<br>date=%{x}<br>totalTransactionRevenue=%{y}<extra></extra>",
                  "legendgroup": "Chevron Shopper",
                  "line": {
                    "color": "#636efa",
                    "dash": "solid"
                  },
                  "marker": {
                    "symbol": "circle"
                  },
                  "mode": "lines",
                  "name": "Chevron Shopper",
                  "showlegend": true,
                  "type": "scattergl",
                  "x": [
                    "2016-08-01T00:00:00",
                    "2016-08-02T00:00:00",
                    "2016-08-03T00:00:00",
                    "2016-08-04T00:00:00",
                    "2016-08-05T00:00:00",
                    "2016-08-06T00:00:00",
                    "2016-08-07T00:00:00",
                    "2016-08-08T00:00:00",
                    "2016-08-09T00:00:00",
                    "2016-08-10T00:00:00",
                    "2016-08-11T00:00:00",
                    "2016-08-12T00:00:00"
                  ],
                  "xaxis": "x",
                  "y": [
                    144790000,
                    191200000,
                    0,
                    0,
                    264780000,
                    0,
                    140590000,
                    30160000,
                    0,
                    197460000,
                    0,
                    262930000
                  ],
                  "yaxis": "y"
                },
                {
                  "hovertemplate": "v2ProductName=Latitudes Foldaway Shopper<br>date=%{x}<br>totalTransactionRevenue=%{y}<extra></extra>",
                  "legendgroup": "Latitudes Foldaway Shopper",
                  "line": {
                    "color": "#EF553B",
                    "dash": "solid"
                  },
                  "marker": {
                    "symbol": "circle"
                  },
                  "mode": "lines",
                  "name": "Latitudes Foldaway Shopper",
                  "showlegend": true,
                  "type": "scattergl",
                  "x": [
                    "2016-08-01T00:00:00",
                    "2016-08-02T00:00:00",
                    "2016-08-03T00:00:00",
                    "2016-08-04T00:00:00",
                    "2016-08-05T00:00:00",
                    "2016-08-06T00:00:00",
                    "2016-08-07T00:00:00",
                    "2016-08-08T00:00:00",
                    "2016-08-09T00:00:00",
                    "2016-08-10T00:00:00",
                    "2016-08-11T00:00:00",
                    "2016-08-12T00:00:00",
                    "2016-08-13T00:00:00"
                  ],
                  "xaxis": "x",
                  "y": [
                    66900000,
                    0,
                    0,
                    0,
                    32950000,
                    0,
                    0,
                    184000000,
                    0,
                    109970000,
                    816610000,
                    0,
                    0
                  ],
                  "yaxis": "y"
                },
                {
                  "hovertemplate": "v2ProductName=Speed Zone Air Mesh Tote<br>date=%{x}<br>totalTransactionRevenue=%{y}<extra></extra>",
                  "legendgroup": "Speed Zone Air Mesh Tote",
                  "line": {
                    "color": "#00cc96",
                    "dash": "solid"
                  },
                  "marker": {
                    "symbol": "circle"
                  },
                  "mode": "lines",
                  "name": "Speed Zone Air Mesh Tote",
                  "showlegend": true,
                  "type": "scattergl",
                  "x": [
                    "2016-08-01T00:00:00",
                    "2016-08-02T00:00:00",
                    "2016-08-03T00:00:00",
                    "2016-08-04T00:00:00",
                    "2016-08-05T00:00:00",
                    "2016-08-06T00:00:00",
                    "2016-08-07T00:00:00",
                    "2016-08-08T00:00:00",
                    "2016-08-09T00:00:00",
                    "2016-08-10T00:00:00",
                    "2016-08-11T00:00:00",
                    "2016-08-12T00:00:00"
                  ],
                  "xaxis": "x",
                  "y": [
                    66900000,
                    108130000,
                    0,
                    0,
                    167980000,
                    0,
                    0,
                    38310000,
                    0,
                    241840000,
                    313180000,
                    0
                  ],
                  "yaxis": "y"
                },
                {
                  "hovertemplate": "v2ProductName=Waterpoof Gear Bag<br>date=%{x}<br>totalTransactionRevenue=%{y}<extra></extra>",
                  "legendgroup": "Waterpoof Gear Bag",
                  "line": {
                    "color": "#ab63fa",
                    "dash": "solid"
                  },
                  "marker": {
                    "symbol": "circle"
                  },
                  "mode": "lines",
                  "name": "Waterpoof Gear Bag",
                  "showlegend": true,
                  "type": "scattergl",
                  "x": [
                    "2016-08-01T00:00:00",
                    "2016-08-02T00:00:00",
                    "2016-08-03T00:00:00",
                    "2016-08-04T00:00:00",
                    "2016-08-05T00:00:00",
                    "2016-08-06T00:00:00",
                    "2016-08-07T00:00:00",
                    "2016-08-08T00:00:00",
                    "2016-08-09T00:00:00",
                    "2016-08-10T00:00:00",
                    "2016-08-11T00:00:00",
                    "2016-08-12T00:00:00",
                    "2016-08-13T00:00:00",
                    "2016-08-14T00:00:00",
                    "2016-08-15T00:00:00",
                    "2016-08-16T00:00:00",
                    "2016-08-17T00:00:00",
                    "2016-08-18T00:00:00",
                    "2016-08-19T00:00:00",
                    "2016-08-20T00:00:00",
                    "2016-08-21T00:00:00",
                    "2016-08-22T00:00:00",
                    "2016-08-23T00:00:00",
                    "2016-08-24T00:00:00",
                    "2016-08-25T00:00:00",
                    "2016-08-26T00:00:00"
                  ],
                  "xaxis": "x",
                  "y": [
                    66900000,
                    0,
                    0,
                    0,
                    218750000,
                    1157700000,
                    0,
                    0,
                    0,
                    204240000,
                    0,
                    221990000,
                    0,
                    114180000,
                    947230000,
                    0,
                    204660000,
                    0,
                    43600000,
                    1455770000,
                    66690000,
                    504040000,
                    0,
                    55860000,
                    1163960000,
                    0
                  ],
                  "yaxis": "y"
                },
                {
                  "hovertemplate": "v2ProductName=1 oz Hand Sanitizer<br>date=%{x}<br>totalTransactionRevenue=%{y}<extra></extra>",
                  "legendgroup": "1 oz Hand Sanitizer",
                  "line": {
                    "color": "#FFA15A",
                    "dash": "solid"
                  },
                  "marker": {
                    "symbol": "circle"
                  },
                  "mode": "lines",
                  "name": "1 oz Hand Sanitizer",
                  "showlegend": true,
                  "type": "scattergl",
                  "x": [
                    "2016-08-01T00:00:00",
                    "2016-08-02T00:00:00",
                    "2016-08-04T00:00:00",
                    "2016-08-06T00:00:00",
                    "2016-08-09T00:00:00",
                    "2016-08-11T00:00:00",
                    "2016-08-12T00:00:00",
                    "2016-08-14T00:00:00",
                    "2016-08-15T00:00:00",
                    "2016-08-17T00:00:00",
                    "2016-08-19T00:00:00",
                    "2016-08-20T00:00:00",
                    "2016-08-29T00:00:00",
                    "2016-09-01T00:00:00",
                    "2016-09-02T00:00:00",
                    "2016-09-04T00:00:00",
                    "2016-09-15T00:00:00",
                    "2016-09-16T00:00:00",
                    "2016-09-17T00:00:00",
                    "2016-09-18T00:00:00",
                    "2016-09-19T00:00:00",
                    "2016-09-20T00:00:00",
                    "2016-09-21T00:00:00",
                    "2016-09-22T00:00:00",
                    "2016-09-23T00:00:00",
                    "2016-09-24T00:00:00",
                    "2016-09-25T00:00:00",
                    "2016-09-26T00:00:00",
                    "2016-09-27T00:00:00",
                    "2016-09-28T00:00:00",
                    "2016-09-29T00:00:00",
                    "2016-09-30T00:00:00",
                    "2016-10-01T00:00:00",
                    "2016-10-02T00:00:00",
                    "2016-10-03T00:00:00",
                    "2016-10-04T00:00:00",
                    "2016-10-05T00:00:00",
                    "2016-10-06T00:00:00"
                  ],
                  "xaxis": "x",
                  "y": [
                    0,
                    0,
                    0,
                    0,
                    0,
                    0,
                    0,
                    0,
                    0,
                    0,
                    0,
                    0,
                    0,
                    0,
                    0,
                    0,
                    2258820000,
                    761940000,
                    34980000,
                    0,
                    0,
                    0,
                    32900000,
                    39990000,
                    0,
                    116840000,
                    0,
                    399640000,
                    0,
                    0,
                    0,
                    0,
                    0,
                    152470000,
                    61780000,
                    51950000,
                    110110000,
                    91950000
                  ],
                  "yaxis": "y"
                },
                {
                  "hovertemplate": "v2ProductName=Bottle Opener Clip<br>date=%{x}<br>totalTransactionRevenue=%{y}<extra></extra>",
                  "legendgroup": "Bottle Opener Clip",
                  "line": {
                    "color": "#19d3f3",
                    "dash": "solid"
                  },
                  "marker": {
                    "symbol": "circle"
                  },
                  "mode": "lines",
                  "name": "Bottle Opener Clip",
                  "showlegend": true,
                  "type": "scattergl",
                  "x": [
                    "2016-08-01T00:00:00",
                    "2016-08-02T00:00:00",
                    "2016-08-05T00:00:00",
                    "2016-08-07T00:00:00",
                    "2016-08-10T00:00:00",
                    "2016-08-14T00:00:00",
                    "2016-08-15T00:00:00",
                    "2016-08-17T00:00:00",
                    "2016-09-05T00:00:00"
                  ],
                  "xaxis": "x",
                  "y": [
                    0,
                    0,
                    0,
                    0,
                    0,
                    0,
                    0,
                    0,
                    0
                  ],
                  "yaxis": "y"
                },
                {
                  "hovertemplate": "v2ProductName=Electronics Accessory Pouch<br>date=%{x}<br>totalTransactionRevenue=%{y}<extra></extra>",
                  "legendgroup": "Electronics Accessory Pouch",
                  "line": {
                    "color": "#FF6692",
                    "dash": "solid"
                  },
                  "marker": {
                    "symbol": "circle"
                  },
                  "mode": "lines",
                  "name": "Electronics Accessory Pouch",
                  "showlegend": true,
                  "type": "scattergl",
                  "x": [
                    "2016-08-01T00:00:00",
                    "2016-08-02T00:00:00",
                    "2016-08-03T00:00:00",
                    "2016-08-04T00:00:00",
                    "2016-08-05T00:00:00",
                    "2016-08-06T00:00:00",
                    "2016-08-07T00:00:00",
                    "2016-08-08T00:00:00",
                    "2016-08-09T00:00:00",
                    "2016-08-10T00:00:00",
                    "2016-08-11T00:00:00",
                    "2016-08-12T00:00:00",
                    "2016-08-13T00:00:00",
                    "2016-08-14T00:00:00",
                    "2016-08-15T00:00:00",
                    "2016-08-16T00:00:00",
                    "2016-08-17T00:00:00",
                    "2016-08-18T00:00:00",
                    "2016-08-19T00:00:00",
                    "2016-08-20T00:00:00",
                    "2016-08-21T00:00:00",
                    "2016-08-22T00:00:00",
                    "2016-08-23T00:00:00",
                    "2016-08-24T00:00:00",
                    "2016-08-25T00:00:00",
                    "2016-08-26T00:00:00",
                    "2016-08-27T00:00:00",
                    "2016-08-28T00:00:00",
                    "2016-08-29T00:00:00",
                    "2016-08-30T00:00:00",
                    "2016-08-31T00:00:00",
                    "2016-09-01T00:00:00",
                    "2016-09-02T00:00:00",
                    "2016-09-03T00:00:00",
                    "2016-09-04T00:00:00",
                    "2016-09-05T00:00:00",
                    "2016-09-06T00:00:00",
                    "2016-09-07T00:00:00",
                    "2016-09-08T00:00:00",
                    "2016-09-09T00:00:00",
                    "2016-09-10T00:00:00",
                    "2016-09-11T00:00:00",
                    "2016-09-12T00:00:00",
                    "2016-09-13T00:00:00",
                    "2016-09-14T00:00:00",
                    "2016-09-15T00:00:00",
                    "2016-09-16T00:00:00",
                    "2016-09-17T00:00:00",
                    "2016-09-18T00:00:00",
                    "2016-09-19T00:00:00",
                    "2016-09-20T00:00:00",
                    "2016-09-21T00:00:00",
                    "2016-09-22T00:00:00",
                    "2016-09-23T00:00:00",
                    "2016-09-24T00:00:00",
                    "2016-09-25T00:00:00",
                    "2016-09-26T00:00:00",
                    "2016-09-27T00:00:00",
                    "2016-09-28T00:00:00",
                    "2016-09-29T00:00:00",
                    "2016-09-30T00:00:00",
                    "2016-10-01T00:00:00",
                    "2016-10-02T00:00:00",
                    "2016-10-03T00:00:00",
                    "2016-10-04T00:00:00",
                    "2016-10-05T00:00:00",
                    "2016-10-06T00:00:00",
                    "2016-10-07T00:00:00",
                    "2016-10-11T00:00:00"
                  ],
                  "xaxis": "x",
                  "y": [
                    0,
                    0,
                    0,
                    0,
                    148710000,
                    0,
                    0,
                    38310000,
                    0,
                    410890000,
                    173420000,
                    409450000,
                    38860000,
                    279480000,
                    374840000,
                    0,
                    498080000,
                    0,
                    186860000,
                    231160000,
                    315460000,
                    150480000,
                    85700000,
                    111460000,
                    232980000,
                    156970000,
                    0,
                    225840000,
                    0,
                    0,
                    0,
                    0,
                    0,
                    454060000,
                    18980000,
                    0,
                    419830000,
                    172640000,
                    17990000,
                    93050000,
                    93490000,
                    0,
                    45850000,
                    0,
                    0,
                    0,
                    0,
                    23990000,
                    0,
                    151120000,
                    152850000,
                    0,
                    0,
                    0,
                    0,
                    0,
                    2708200000,
                    0,
                    0,
                    0,
                    64990000,
                    0,
                    0,
                    0,
                    0,
                    0,
                    111530000,
                    0,
                    0
                  ],
                  "yaxis": "y"
                },
                {
                  "hovertemplate": "v2ProductName=Kick Ball<br>date=%{x}<br>totalTransactionRevenue=%{y}<extra></extra>",
                  "legendgroup": "Kick Ball",
                  "line": {
                    "color": "#B6E880",
                    "dash": "solid"
                  },
                  "marker": {
                    "symbol": "circle"
                  },
                  "mode": "lines",
                  "name": "Kick Ball",
                  "showlegend": true,
                  "type": "scattergl",
                  "x": [
                    "2016-08-01T00:00:00",
                    "2016-08-02T00:00:00",
                    "2016-08-04T00:00:00",
                    "2016-08-05T00:00:00"
                  ],
                  "xaxis": "x",
                  "y": [
                    0,
                    0,
                    0,
                    0
                  ],
                  "yaxis": "y"
                },
                {
                  "hovertemplate": "v2ProductName=SPF-15 Lip Balm<br>date=%{x}<br>totalTransactionRevenue=%{y}<extra></extra>",
                  "legendgroup": "SPF-15 Lip Balm",
                  "line": {
                    "color": "#FF97FF",
                    "dash": "solid"
                  },
                  "marker": {
                    "symbol": "circle"
                  },
                  "mode": "lines",
                  "name": "SPF-15 Lip Balm",
                  "showlegend": true,
                  "type": "scattergl",
                  "x": [
                    "2016-08-01T00:00:00",
                    "2016-08-02T00:00:00",
                    "2016-08-05T00:00:00",
                    "2016-08-08T00:00:00",
                    "2016-08-10T00:00:00",
                    "2016-08-11T00:00:00"
                  ],
                  "xaxis": "x",
                  "y": [
                    0,
                    0,
                    0,
                    0,
                    0,
                    0
                  ],
                  "yaxis": "y"
                },
                {
                  "hovertemplate": "v2ProductName=Windup Android<br>date=%{x}<br>totalTransactionRevenue=%{y}<extra></extra>",
                  "legendgroup": "Windup Android",
                  "line": {
                    "color": "#FECB52",
                    "dash": "solid"
                  },
                  "marker": {
                    "symbol": "circle"
                  },
                  "mode": "lines",
                  "name": "Windup Android",
                  "showlegend": true,
                  "type": "scattergl",
                  "x": [
                    "2016-08-01T00:00:00",
                    "2016-08-02T00:00:00",
                    "2016-08-13T00:00:00",
                    "2016-08-14T00:00:00",
                    "2016-08-17T00:00:00",
                    "2016-09-02T00:00:00",
                    "2016-09-10T00:00:00",
                    "2016-09-11T00:00:00",
                    "2016-09-12T00:00:00",
                    "2016-09-15T00:00:00",
                    "2016-09-16T00:00:00",
                    "2016-09-17T00:00:00",
                    "2016-09-18T00:00:00",
                    "2016-09-19T00:00:00",
                    "2016-09-20T00:00:00",
                    "2016-09-21T00:00:00",
                    "2016-09-22T00:00:00",
                    "2016-09-23T00:00:00",
                    "2016-09-24T00:00:00",
                    "2016-09-25T00:00:00",
                    "2016-09-26T00:00:00",
                    "2016-09-27T00:00:00",
                    "2016-09-28T00:00:00",
                    "2016-09-29T00:00:00",
                    "2016-09-30T00:00:00",
                    "2016-10-01T00:00:00",
                    "2016-10-02T00:00:00",
                    "2016-10-03T00:00:00",
                    "2016-10-04T00:00:00",
                    "2016-10-05T00:00:00",
                    "2016-10-06T00:00:00",
                    "2016-10-07T00:00:00"
                  ],
                  "xaxis": "x",
                  "y": [
                    0,
                    0,
                    0,
                    0,
                    0,
                    0,
                    0,
                    0,
                    0,
                    364640000,
                    313890000,
                    0,
                    0,
                    0,
                    64590000,
                    16450000,
                    478120000,
                    0,
                    128220000,
                    0,
                    0,
                    140220000,
                    1002590000,
                    19390000,
                    64990000,
                    0,
                    0,
                    0,
                    0,
                    22590000,
                    0,
                    0
                  ],
                  "yaxis": "y"
                },
                {
                  "hovertemplate": "v2ProductName=Yoga Mat<br>date=%{x}<br>totalTransactionRevenue=%{y}<extra></extra>",
                  "legendgroup": "Yoga Mat",
                  "line": {
                    "color": "#636efa",
                    "dash": "solid"
                  },
                  "marker": {
                    "symbol": "circle"
                  },
                  "mode": "lines",
                  "name": "Yoga Mat",
                  "showlegend": true,
                  "type": "scattergl",
                  "x": [
                    "2016-08-01T00:00:00",
                    "2016-08-02T00:00:00",
                    "2016-08-05T00:00:00",
                    "2016-08-09T00:00:00",
                    "2016-08-12T00:00:00",
                    "2016-08-14T00:00:00",
                    "2016-08-16T00:00:00",
                    "2016-08-18T00:00:00",
                    "2016-08-25T00:00:00",
                    "2016-08-27T00:00:00",
                    "2016-09-08T00:00:00",
                    "2016-09-10T00:00:00"
                  ],
                  "xaxis": "x",
                  "y": [
                    0,
                    0,
                    0,
                    0,
                    0,
                    0,
                    0,
                    0,
                    0,
                    0,
                    0,
                    0
                  ],
                  "yaxis": "y"
                },
                {
                  "hovertemplate": "v2ProductName=Google Lunch Bag<br>date=%{x}<br>totalTransactionRevenue=%{y}<extra></extra>",
                  "legendgroup": "Google Lunch Bag",
                  "line": {
                    "color": "#EF553B",
                    "dash": "solid"
                  },
                  "marker": {
                    "symbol": "circle"
                  },
                  "mode": "lines",
                  "name": "Google Lunch Bag",
                  "showlegend": true,
                  "type": "scattergl",
                  "x": [
                    "2016-08-02T00:00:00",
                    "2016-08-03T00:00:00",
                    "2016-08-04T00:00:00",
                    "2016-08-05T00:00:00",
                    "2016-08-06T00:00:00",
                    "2016-08-07T00:00:00",
                    "2016-08-08T00:00:00",
                    "2016-08-09T00:00:00",
                    "2016-08-10T00:00:00",
                    "2016-08-11T00:00:00",
                    "2016-08-12T00:00:00",
                    "2016-08-13T00:00:00",
                    "2016-08-14T00:00:00",
                    "2016-08-15T00:00:00",
                    "2016-08-16T00:00:00",
                    "2016-08-17T00:00:00",
                    "2016-08-18T00:00:00",
                    "2016-08-19T00:00:00",
                    "2016-08-20T00:00:00",
                    "2016-08-21T00:00:00",
                    "2016-08-22T00:00:00",
                    "2016-08-23T00:00:00",
                    "2016-08-24T00:00:00",
                    "2016-08-25T00:00:00",
                    "2016-08-26T00:00:00",
                    "2016-08-27T00:00:00",
                    "2016-08-28T00:00:00",
                    "2016-08-29T00:00:00",
                    "2016-08-30T00:00:00",
                    "2016-08-31T00:00:00",
                    "2016-09-01T00:00:00",
                    "2016-09-02T00:00:00",
                    "2016-09-03T00:00:00",
                    "2016-09-04T00:00:00",
                    "2016-09-05T00:00:00",
                    "2016-09-06T00:00:00",
                    "2016-09-07T00:00:00",
                    "2016-09-08T00:00:00",
                    "2016-09-09T00:00:00",
                    "2016-09-10T00:00:00",
                    "2016-09-11T00:00:00",
                    "2016-09-12T00:00:00",
                    "2016-09-13T00:00:00",
                    "2016-09-14T00:00:00",
                    "2016-09-15T00:00:00",
                    "2016-09-16T00:00:00",
                    "2016-09-17T00:00:00",
                    "2016-09-18T00:00:00",
                    "2016-09-19T00:00:00",
                    "2016-09-20T00:00:00",
                    "2016-09-21T00:00:00",
                    "2016-09-22T00:00:00",
                    "2016-09-23T00:00:00",
                    "2016-09-24T00:00:00",
                    "2016-09-25T00:00:00",
                    "2016-09-26T00:00:00",
                    "2016-09-27T00:00:00",
                    "2016-09-28T00:00:00",
                    "2016-09-29T00:00:00",
                    "2016-09-30T00:00:00",
                    "2016-10-01T00:00:00",
                    "2016-10-02T00:00:00",
                    "2016-10-03T00:00:00",
                    "2016-10-04T00:00:00",
                    "2016-10-05T00:00:00",
                    "2016-10-06T00:00:00"
                  ],
                  "xaxis": "x",
                  "y": [
                    0,
                    0,
                    113850000,
                    82810000,
                    986150000,
                    0,
                    0,
                    0,
                    66600000,
                    450620000,
                    98770000,
                    38860000,
                    42910000,
                    26480000,
                    0,
                    69070000,
                    769080000,
                    213120000,
                    279690000,
                    0,
                    272810000,
                    222540000,
                    158360000,
                    556390000,
                    153970000,
                    0,
                    555480000,
                    119740000,
                    9700000,
                    0,
                    697290000,
                    133330000,
                    82400000,
                    0,
                    215000000,
                    419830000,
                    689580000,
                    752210000,
                    93050000,
                    0,
                    0,
                    186460000,
                    0,
                    243620000,
                    33970000,
                    0,
                    0,
                    21990000,
                    0,
                    0,
                    0,
                    0,
                    0,
                    0,
                    0,
                    0,
                    0,
                    0,
                    0,
                    0,
                    0,
                    0,
                    0,
                    0,
                    0,
                    0
                  ],
                  "yaxis": "y"
                },
                {
                  "hovertemplate": "v2ProductName=Google Sunglasses<br>date=%{x}<br>totalTransactionRevenue=%{y}<extra></extra>",
                  "legendgroup": "Google Sunglasses",
                  "line": {
                    "color": "#00cc96",
                    "dash": "solid"
                  },
                  "marker": {
                    "symbol": "circle"
                  },
                  "mode": "lines",
                  "name": "Google Sunglasses",
                  "showlegend": true,
                  "type": "scattergl",
                  "x": [
                    "2016-08-02T00:00:00",
                    "2016-08-03T00:00:00",
                    "2016-08-08T00:00:00",
                    "2016-08-19T00:00:00",
                    "2016-08-24T00:00:00",
                    "2016-08-25T00:00:00",
                    "2016-08-27T00:00:00",
                    "2016-09-10T00:00:00",
                    "2016-09-12T00:00:00",
                    "2016-09-15T00:00:00",
                    "2016-09-16T00:00:00",
                    "2016-09-17T00:00:00",
                    "2016-09-19T00:00:00",
                    "2016-09-20T00:00:00",
                    "2016-09-21T00:00:00",
                    "2016-09-22T00:00:00",
                    "2016-09-23T00:00:00",
                    "2016-09-24T00:00:00",
                    "2016-09-25T00:00:00",
                    "2016-09-26T00:00:00",
                    "2016-09-27T00:00:00",
                    "2016-09-28T00:00:00",
                    "2016-09-29T00:00:00",
                    "2016-09-30T00:00:00",
                    "2016-10-01T00:00:00",
                    "2016-10-02T00:00:00",
                    "2016-10-03T00:00:00",
                    "2016-10-04T00:00:00",
                    "2016-10-05T00:00:00",
                    "2016-10-06T00:00:00",
                    "2016-10-07T00:00:00"
                  ],
                  "xaxis": "x",
                  "y": [
                    0,
                    0,
                    0,
                    0,
                    0,
                    0,
                    0,
                    0,
                    0,
                    0,
                    744590000,
                    0,
                    140440000,
                    331290000,
                    180560000,
                    133750000,
                    0,
                    98360000,
                    0,
                    369660000,
                    0,
                    1352820000,
                    34980000,
                    0,
                    0,
                    0,
                    19790000,
                    56930000,
                    22590000,
                    91950000,
                    0
                  ],
                  "yaxis": "y"
                },
                {
                  "hovertemplate": "v2ProductName=Sport Bag<br>date=%{x}<br>totalTransactionRevenue=%{y}<extra></extra>",
                  "legendgroup": "Sport Bag",
                  "line": {
                    "color": "#ab63fa",
                    "dash": "solid"
                  },
                  "marker": {
                    "symbol": "circle"
                  },
                  "mode": "lines",
                  "name": "Sport Bag",
                  "showlegend": true,
                  "type": "scattergl",
                  "x": [
                    "2016-08-02T00:00:00",
                    "2016-08-03T00:00:00",
                    "2016-08-04T00:00:00",
                    "2016-08-05T00:00:00",
                    "2016-08-06T00:00:00",
                    "2016-08-07T00:00:00",
                    "2016-08-08T00:00:00",
                    "2016-08-09T00:00:00",
                    "2016-08-10T00:00:00",
                    "2016-08-11T00:00:00",
                    "2016-08-12T00:00:00",
                    "2016-08-13T00:00:00",
                    "2016-08-14T00:00:00",
                    "2016-08-15T00:00:00",
                    "2016-08-16T00:00:00",
                    "2016-08-17T00:00:00",
                    "2016-08-18T00:00:00",
                    "2016-08-19T00:00:00",
                    "2016-08-20T00:00:00",
                    "2016-08-21T00:00:00",
                    "2016-08-22T00:00:00",
                    "2016-08-23T00:00:00",
                    "2016-08-24T00:00:00",
                    "2016-08-25T00:00:00",
                    "2016-08-26T00:00:00",
                    "2016-08-27T00:00:00",
                    "2016-08-28T00:00:00",
                    "2016-08-29T00:00:00",
                    "2016-08-30T00:00:00",
                    "2016-08-31T00:00:00",
                    "2016-09-01T00:00:00",
                    "2016-09-02T00:00:00",
                    "2016-09-03T00:00:00",
                    "2016-09-04T00:00:00",
                    "2016-09-05T00:00:00",
                    "2016-09-06T00:00:00",
                    "2016-09-07T00:00:00",
                    "2016-09-08T00:00:00",
                    "2016-09-09T00:00:00",
                    "2016-09-10T00:00:00",
                    "2016-09-11T00:00:00",
                    "2016-09-12T00:00:00",
                    "2016-09-13T00:00:00",
                    "2016-09-14T00:00:00",
                    "2016-09-15T00:00:00",
                    "2016-09-16T00:00:00",
                    "2016-09-17T00:00:00",
                    "2016-09-19T00:00:00",
                    "2016-09-20T00:00:00",
                    "2016-09-21T00:00:00",
                    "2016-09-22T00:00:00",
                    "2016-09-23T00:00:00",
                    "2016-09-24T00:00:00",
                    "2016-09-25T00:00:00",
                    "2016-09-26T00:00:00",
                    "2016-09-27T00:00:00",
                    "2016-09-28T00:00:00",
                    "2016-09-29T00:00:00",
                    "2016-09-30T00:00:00",
                    "2016-10-01T00:00:00",
                    "2016-10-02T00:00:00",
                    "2016-10-03T00:00:00",
                    "2016-10-04T00:00:00",
                    "2016-10-05T00:00:00",
                    "2016-10-06T00:00:00"
                  ],
                  "xaxis": "x",
                  "y": [
                    0,
                    0,
                    0,
                    62870000,
                    0,
                    98590000,
                    0,
                    265420000,
                    110490000,
                    173420000,
                    100470000,
                    0,
                    0,
                    820360000,
                    125870000,
                    0,
                    451700000,
                    0,
                    78150000,
                    43600000,
                    271800000,
                    294420000,
                    0,
                    6239580000,
                    0,
                    0,
                    0,
                    0,
                    217860000,
                    0,
                    0,
                    0,
                    0,
                    0,
                    228960000,
                    0,
                    0,
                    0,
                    0,
                    0,
                    0,
                    0,
                    0,
                    0,
                    0,
                    19990000,
                    0,
                    0,
                    0,
                    0,
                    0,
                    0,
                    0,
                    0,
                    20980000,
                    0,
                    0,
                    0,
                    0,
                    0,
                    0,
                    0,
                    0,
                    0,
                    0
                  ],
                  "yaxis": "y"
                },
                {
                  "hovertemplate": "v2ProductName=Straw Beach Mat<br>date=%{x}<br>totalTransactionRevenue=%{y}<extra></extra>",
                  "legendgroup": "Straw Beach Mat",
                  "line": {
                    "color": "#FFA15A",
                    "dash": "solid"
                  },
                  "marker": {
                    "symbol": "circle"
                  },
                  "mode": "lines",
                  "name": "Straw Beach Mat",
                  "showlegend": true,
                  "type": "scattergl",
                  "x": [
                    "2016-08-02T00:00:00",
                    "2016-08-04T00:00:00",
                    "2016-08-05T00:00:00",
                    "2016-08-07T00:00:00",
                    "2016-08-19T00:00:00",
                    "2016-08-25T00:00:00",
                    "2016-09-15T00:00:00",
                    "2016-09-16T00:00:00",
                    "2016-09-17T00:00:00",
                    "2016-09-18T00:00:00",
                    "2016-09-19T00:00:00",
                    "2016-09-20T00:00:00",
                    "2016-09-21T00:00:00",
                    "2016-09-22T00:00:00",
                    "2016-09-23T00:00:00",
                    "2016-09-24T00:00:00",
                    "2016-09-25T00:00:00",
                    "2016-09-26T00:00:00",
                    "2016-09-27T00:00:00",
                    "2016-09-28T00:00:00",
                    "2016-09-29T00:00:00",
                    "2016-09-30T00:00:00",
                    "2016-10-01T00:00:00",
                    "2016-10-02T00:00:00",
                    "2016-10-03T00:00:00",
                    "2016-10-04T00:00:00",
                    "2016-10-05T00:00:00",
                    "2016-10-06T00:00:00",
                    "2016-10-07T00:00:00"
                  ],
                  "xaxis": "x",
                  "y": [
                    0,
                    0,
                    0,
                    0,
                    0,
                    0,
                    0,
                    449100000,
                    0,
                    0,
                    170010000,
                    50940000,
                    143950000,
                    130720000,
                    119320000,
                    226580000,
                    10480000,
                    0,
                    0,
                    700460000,
                    203920000,
                    0,
                    0,
                    127880000,
                    0,
                    56930000,
                    26990000,
                    0,
                    0
                  ],
                  "yaxis": "y"
                },
                {
                  "hovertemplate": "v2ProductName=Compact Selfie Stick<br>date=%{x}<br>totalTransactionRevenue=%{y}<extra></extra>",
                  "legendgroup": "Compact Selfie Stick",
                  "line": {
                    "color": "#19d3f3",
                    "dash": "solid"
                  },
                  "marker": {
                    "symbol": "circle"
                  },
                  "mode": "lines",
                  "name": "Compact Selfie Stick",
                  "showlegend": true,
                  "type": "scattergl",
                  "x": [
                    "2016-08-03T00:00:00",
                    "2016-08-04T00:00:00",
                    "2016-08-05T00:00:00",
                    "2016-08-07T00:00:00",
                    "2016-08-08T00:00:00",
                    "2016-08-13T00:00:00",
                    "2016-08-15T00:00:00",
                    "2016-08-17T00:00:00",
                    "2016-08-19T00:00:00",
                    "2016-08-27T00:00:00"
                  ],
                  "xaxis": "x",
                  "y": [
                    0,
                    0,
                    0,
                    98590000,
                    0,
                    0,
                    0,
                    0,
                    0,
                    0
                  ],
                  "yaxis": "y"
                },
                {
                  "hovertemplate": "v2ProductName=Google Laptop and Cell Phone Stickers<br>date=%{x}<br>totalTransactionRevenue=%{y}<extra></extra>",
                  "legendgroup": "Google Laptop and Cell Phone Stickers",
                  "line": {
                    "color": "#FF6692",
                    "dash": "solid"
                  },
                  "marker": {
                    "symbol": "circle"
                  },
                  "mode": "lines",
                  "name": "Google Laptop and Cell Phone Stickers",
                  "showlegend": true,
                  "type": "scattergl",
                  "x": [
                    "2016-08-03T00:00:00",
                    "2016-08-04T00:00:00",
                    "2016-08-05T00:00:00",
                    "2016-08-07T00:00:00",
                    "2016-08-10T00:00:00",
                    "2016-08-11T00:00:00",
                    "2016-08-14T00:00:00",
                    "2016-08-16T00:00:00",
                    "2016-08-18T00:00:00",
                    "2016-08-20T00:00:00",
                    "2016-08-21T00:00:00",
                    "2016-08-26T00:00:00",
                    "2016-09-04T00:00:00",
                    "2016-09-06T00:00:00",
                    "2016-09-10T00:00:00"
                  ],
                  "xaxis": "x",
                  "y": [
                    0,
                    0,
                    0,
                    98590000,
                    0,
                    0,
                    0,
                    0,
                    0,
                    0,
                    0,
                    0,
                    0,
                    0,
                    0
                  ],
                  "yaxis": "y"
                },
                {
                  "hovertemplate": "v2ProductName=Koozie Can Kooler<br>date=%{x}<br>totalTransactionRevenue=%{y}<extra></extra>",
                  "legendgroup": "Koozie Can Kooler",
                  "line": {
                    "color": "#B6E880",
                    "dash": "solid"
                  },
                  "marker": {
                    "symbol": "circle"
                  },
                  "mode": "lines",
                  "name": "Koozie Can Kooler",
                  "showlegend": true,
                  "type": "scattergl",
                  "x": [
                    "2016-08-03T00:00:00",
                    "2016-08-05T00:00:00",
                    "2016-08-10T00:00:00",
                    "2016-08-11T00:00:00"
                  ],
                  "xaxis": "x",
                  "y": [
                    0,
                    0,
                    0,
                    0
                  ],
                  "yaxis": "y"
                },
                {
                  "hovertemplate": "v2ProductName=Pop-a-Point Crayon<br>date=%{x}<br>totalTransactionRevenue=%{y}<extra></extra>",
                  "legendgroup": "Pop-a-Point Crayon",
                  "line": {
                    "color": "#FF97FF",
                    "dash": "solid"
                  },
                  "marker": {
                    "symbol": "circle"
                  },
                  "mode": "lines",
                  "name": "Pop-a-Point Crayon",
                  "showlegend": true,
                  "type": "scattergl",
                  "x": [
                    "2016-08-03T00:00:00",
                    "2016-08-05T00:00:00",
                    "2016-08-07T00:00:00",
                    "2016-08-08T00:00:00",
                    "2016-08-10T00:00:00",
                    "2016-08-11T00:00:00"
                  ],
                  "xaxis": "x",
                  "y": [
                    0,
                    0,
                    98590000,
                    0,
                    0,
                    0
                  ],
                  "yaxis": "y"
                },
                {
                  "hovertemplate": "v2ProductName=8 pc Android Sticker Sheet<br>date=%{x}<br>totalTransactionRevenue=%{y}<extra></extra>",
                  "legendgroup": "8 pc Android Sticker Sheet",
                  "line": {
                    "color": "#FECB52",
                    "dash": "solid"
                  },
                  "marker": {
                    "symbol": "circle"
                  },
                  "mode": "lines",
                  "name": "8 pc Android Sticker Sheet",
                  "showlegend": true,
                  "type": "scattergl",
                  "x": [
                    "2016-08-04T00:00:00",
                    "2016-08-05T00:00:00",
                    "2016-08-08T00:00:00",
                    "2016-08-10T00:00:00",
                    "2016-08-13T00:00:00",
                    "2016-08-18T00:00:00",
                    "2016-08-24T00:00:00",
                    "2016-08-28T00:00:00",
                    "2016-09-03T00:00:00"
                  ],
                  "xaxis": "x",
                  "y": [
                    0,
                    0,
                    0,
                    0,
                    0,
                    0,
                    0,
                    0,
                    0
                  ],
                  "yaxis": "y"
                },
                {
                  "hovertemplate": "v2ProductName=Collapsible Pet Bowl<br>date=%{x}<br>totalTransactionRevenue=%{y}<extra></extra>",
                  "legendgroup": "Collapsible Pet Bowl",
                  "line": {
                    "color": "#636efa",
                    "dash": "solid"
                  },
                  "marker": {
                    "symbol": "circle"
                  },
                  "mode": "lines",
                  "name": "Collapsible Pet Bowl",
                  "showlegend": true,
                  "type": "scattergl",
                  "x": [
                    "2016-08-05T00:00:00",
                    "2016-08-08T00:00:00",
                    "2016-08-10T00:00:00",
                    "2016-08-11T00:00:00"
                  ],
                  "xaxis": "x",
                  "y": [
                    0,
                    0,
                    0,
                    0
                  ],
                  "yaxis": "y"
                },
                {
                  "hovertemplate": "v2ProductName=Google Canvas Tote Natural/Navy<br>date=%{x}<br>totalTransactionRevenue=%{y}<extra></extra>",
                  "legendgroup": "Google Canvas Tote Natural/Navy",
                  "line": {
                    "color": "#EF553B",
                    "dash": "solid"
                  },
                  "marker": {
                    "symbol": "circle"
                  },
                  "mode": "lines",
                  "name": "Google Canvas Tote Natural/Navy",
                  "showlegend": true,
                  "type": "scattergl",
                  "x": [
                    "2016-08-05T00:00:00",
                    "2016-08-06T00:00:00",
                    "2016-08-07T00:00:00",
                    "2016-08-08T00:00:00",
                    "2016-08-09T00:00:00",
                    "2016-08-10T00:00:00",
                    "2016-08-11T00:00:00",
                    "2016-08-12T00:00:00",
                    "2016-08-13T00:00:00",
                    "2016-08-14T00:00:00",
                    "2016-08-15T00:00:00",
                    "2016-08-16T00:00:00",
                    "2016-08-17T00:00:00",
                    "2016-08-18T00:00:00",
                    "2016-08-19T00:00:00",
                    "2016-08-20T00:00:00",
                    "2016-08-21T00:00:00",
                    "2016-08-22T00:00:00",
                    "2016-08-23T00:00:00",
                    "2016-08-24T00:00:00",
                    "2016-08-25T00:00:00",
                    "2016-08-26T00:00:00",
                    "2016-08-27T00:00:00",
                    "2016-08-28T00:00:00",
                    "2016-08-29T00:00:00",
                    "2016-08-30T00:00:00",
                    "2016-08-31T00:00:00",
                    "2016-09-01T00:00:00",
                    "2016-09-02T00:00:00",
                    "2016-09-03T00:00:00",
                    "2016-09-04T00:00:00",
                    "2016-09-05T00:00:00",
                    "2016-09-06T00:00:00",
                    "2016-09-07T00:00:00",
                    "2016-09-08T00:00:00",
                    "2016-09-09T00:00:00",
                    "2016-09-10T00:00:00",
                    "2016-09-11T00:00:00",
                    "2016-09-12T00:00:00",
                    "2016-09-13T00:00:00",
                    "2016-09-14T00:00:00",
                    "2016-09-15T00:00:00",
                    "2016-09-16T00:00:00",
                    "2016-09-17T00:00:00",
                    "2016-09-18T00:00:00",
                    "2016-09-19T00:00:00",
                    "2016-09-20T00:00:00",
                    "2016-09-21T00:00:00",
                    "2016-09-22T00:00:00",
                    "2016-09-23T00:00:00",
                    "2016-09-24T00:00:00",
                    "2016-09-25T00:00:00",
                    "2016-09-26T00:00:00",
                    "2016-09-27T00:00:00",
                    "2016-09-28T00:00:00",
                    "2016-09-29T00:00:00",
                    "2016-09-30T00:00:00",
                    "2016-10-02T00:00:00",
                    "2016-10-04T00:00:00",
                    "2016-10-05T00:00:00",
                    "2016-10-06T00:00:00",
                    "2016-10-08T00:00:00"
                  ],
                  "xaxis": "x",
                  "y": [
                    0,
                    0,
                    35380000,
                    137530000,
                    401920000,
                    657510000,
                    0,
                    204100000,
                    0,
                    0,
                    250330000,
                    75440000,
                    203760000,
                    529100000,
                    116160000,
                    0,
                    0,
                    413340000,
                    0,
                    158360000,
                    410690000,
                    51030000,
                    0,
                    614510000,
                    119740000,
                    0,
                    55080000,
                    23200000,
                    0,
                    0,
                    0,
                    215000000,
                    72970000,
                    609200000,
                    722340000,
                    368120000,
                    125630000,
                    5770000,
                    0,
                    159420000,
                    0,
                    0,
                    0,
                    0,
                    0,
                    0,
                    0,
                    0,
                    0,
                    0,
                    0,
                    0,
                    593620000,
                    203360000,
                    0,
                    0,
                    0,
                    0,
                    0,
                    0,
                    0,
                    0
                  ],
                  "yaxis": "y"
                },
                {
                  "hovertemplate": "v2ProductName=Reusable Shopping Bag<br>date=%{x}<br>totalTransactionRevenue=%{y}<extra></extra>",
                  "legendgroup": "Reusable Shopping Bag",
                  "line": {
                    "color": "#00cc96",
                    "dash": "solid"
                  },
                  "marker": {
                    "symbol": "circle"
                  },
                  "mode": "lines",
                  "name": "Reusable Shopping Bag",
                  "showlegend": true,
                  "type": "scattergl",
                  "x": [
                    "2016-08-12T00:00:00",
                    "2016-08-13T00:00:00",
                    "2016-08-14T00:00:00",
                    "2016-08-15T00:00:00",
                    "2016-08-16T00:00:00",
                    "2016-08-17T00:00:00",
                    "2016-08-18T00:00:00",
                    "2016-08-19T00:00:00",
                    "2016-08-20T00:00:00",
                    "2016-08-21T00:00:00",
                    "2016-08-22T00:00:00",
                    "2016-08-23T00:00:00",
                    "2016-08-24T00:00:00",
                    "2016-08-25T00:00:00",
                    "2016-08-26T00:00:00",
                    "2016-08-27T00:00:00",
                    "2016-08-28T00:00:00",
                    "2016-08-29T00:00:00",
                    "2016-08-30T00:00:00",
                    "2016-08-31T00:00:00",
                    "2016-09-01T00:00:00",
                    "2016-09-02T00:00:00",
                    "2016-09-03T00:00:00",
                    "2016-09-04T00:00:00",
                    "2016-09-05T00:00:00",
                    "2016-09-06T00:00:00",
                    "2016-09-07T00:00:00",
                    "2016-09-08T00:00:00",
                    "2016-09-09T00:00:00",
                    "2016-09-10T00:00:00",
                    "2016-09-11T00:00:00",
                    "2016-09-12T00:00:00",
                    "2016-09-13T00:00:00",
                    "2016-09-14T00:00:00",
                    "2016-09-15T00:00:00",
                    "2016-09-16T00:00:00",
                    "2016-09-17T00:00:00",
                    "2016-09-18T00:00:00",
                    "2016-09-19T00:00:00",
                    "2016-09-20T00:00:00",
                    "2016-09-21T00:00:00",
                    "2016-09-22T00:00:00",
                    "2016-09-23T00:00:00",
                    "2016-09-24T00:00:00",
                    "2016-09-25T00:00:00",
                    "2016-09-26T00:00:00",
                    "2016-09-27T00:00:00",
                    "2016-09-28T00:00:00",
                    "2016-09-30T00:00:00"
                  ],
                  "xaxis": "x",
                  "y": [
                    98770000,
                    0,
                    42910000,
                    953770000,
                    355320000,
                    347290000,
                    38450000,
                    430200000,
                    0,
                    92500000,
                    446530000,
                    37300000,
                    0,
                    72490000,
                    900240000,
                    46470000,
                    274820000,
                    347320000,
                    217860000,
                    542110000,
                    0,
                    0,
                    82400000,
                    0,
                    0,
                    55080000,
                    378450000,
                    25930000,
                    0,
                    0,
                    0,
                    391310000,
                    151460000,
                    0,
                    0,
                    0,
                    0,
                    0,
                    0,
                    0,
                    0,
                    93760000,
                    0,
                    0,
                    0,
                    0,
                    0,
                    78380000,
                    0
                  ],
                  "yaxis": "y"
                },
                {
                  "hovertemplate": "v2ProductName=Collapsible Shopping Bag<br>date=%{x}<br>totalTransactionRevenue=%{y}<extra></extra>",
                  "legendgroup": "Collapsible Shopping Bag",
                  "line": {
                    "color": "#ab63fa",
                    "dash": "solid"
                  },
                  "marker": {
                    "symbol": "circle"
                  },
                  "mode": "lines",
                  "name": "Collapsible Shopping Bag",
                  "showlegend": true,
                  "type": "scattergl",
                  "x": [
                    "2016-08-12T00:00:00",
                    "2016-08-13T00:00:00",
                    "2016-08-14T00:00:00",
                    "2016-08-15T00:00:00",
                    "2016-08-16T00:00:00",
                    "2016-08-17T00:00:00",
                    "2016-08-18T00:00:00",
                    "2016-08-19T00:00:00",
                    "2016-08-20T00:00:00",
                    "2016-08-21T00:00:00",
                    "2016-08-22T00:00:00",
                    "2016-08-23T00:00:00",
                    "2016-08-24T00:00:00",
                    "2016-08-25T00:00:00",
                    "2016-08-26T00:00:00",
                    "2016-08-27T00:00:00",
                    "2016-08-28T00:00:00",
                    "2016-08-29T00:00:00",
                    "2016-08-30T00:00:00",
                    "2016-08-31T00:00:00",
                    "2016-09-01T00:00:00",
                    "2016-09-02T00:00:00",
                    "2016-09-03T00:00:00",
                    "2016-09-04T00:00:00",
                    "2016-09-05T00:00:00",
                    "2016-09-06T00:00:00",
                    "2016-09-07T00:00:00",
                    "2016-09-08T00:00:00",
                    "2016-09-09T00:00:00",
                    "2016-09-10T00:00:00",
                    "2016-09-11T00:00:00",
                    "2016-09-12T00:00:00",
                    "2016-09-13T00:00:00",
                    "2016-09-14T00:00:00",
                    "2016-09-15T00:00:00",
                    "2016-09-16T00:00:00",
                    "2016-09-17T00:00:00",
                    "2016-09-18T00:00:00",
                    "2016-09-19T00:00:00",
                    "2016-09-20T00:00:00",
                    "2016-09-21T00:00:00",
                    "2016-09-22T00:00:00",
                    "2016-09-23T00:00:00",
                    "2016-09-24T00:00:00",
                    "2016-09-25T00:00:00",
                    "2016-09-26T00:00:00",
                    "2016-09-27T00:00:00",
                    "2016-09-28T00:00:00",
                    "2016-09-29T00:00:00",
                    "2016-09-30T00:00:00",
                    "2016-10-01T00:00:00",
                    "2016-10-02T00:00:00",
                    "2016-10-03T00:00:00",
                    "2016-10-04T00:00:00",
                    "2016-10-05T00:00:00",
                    "2016-10-06T00:00:00",
                    "2016-10-07T00:00:00"
                  ],
                  "xaxis": "x",
                  "y": [
                    0,
                    342020000,
                    86190000,
                    0,
                    75440000,
                    138140000,
                    688950000,
                    136770000,
                    0,
                    0,
                    5982170000,
                    153120000,
                    0,
                    339000000,
                    1283650000,
                    107490000,
                    224390000,
                    0,
                    0,
                    55080000,
                    0,
                    0,
                    221010000,
                    10700000,
                    114480000,
                    0,
                    0,
                    660780000,
                    0,
                    215950000,
                    0,
                    359290000,
                    151460000,
                    583200000,
                    0,
                    0,
                    0,
                    0,
                    151120000,
                    0,
                    0,
                    0,
                    0,
                    0,
                    0,
                    0,
                    0,
                    0,
                    0,
                    104990000,
                    0,
                    0,
                    0,
                    50950000,
                    93660000,
                    0,
                    0
                  ],
                  "yaxis": "y"
                },
                {
                  "hovertemplate": "v2ProductName=Google Tote Bag<br>date=%{x}<br>totalTransactionRevenue=%{y}<extra></extra>",
                  "legendgroup": "Google Tote Bag",
                  "line": {
                    "color": "#FFA15A",
                    "dash": "solid"
                  },
                  "marker": {
                    "symbol": "circle"
                  },
                  "mode": "lines",
                  "name": "Google Tote Bag",
                  "showlegend": true,
                  "type": "scattergl",
                  "x": [
                    "2016-08-12T00:00:00",
                    "2016-08-13T00:00:00",
                    "2016-08-14T00:00:00",
                    "2016-08-15T00:00:00",
                    "2016-08-16T00:00:00",
                    "2016-08-17T00:00:00",
                    "2016-08-18T00:00:00",
                    "2016-08-19T00:00:00",
                    "2016-08-20T00:00:00",
                    "2016-08-21T00:00:00",
                    "2016-08-22T00:00:00",
                    "2016-08-23T00:00:00",
                    "2016-08-24T00:00:00",
                    "2016-08-25T00:00:00",
                    "2016-08-26T00:00:00",
                    "2016-08-27T00:00:00",
                    "2016-08-28T00:00:00",
                    "2016-08-29T00:00:00",
                    "2016-08-30T00:00:00",
                    "2016-08-31T00:00:00",
                    "2016-09-01T00:00:00",
                    "2016-09-02T00:00:00",
                    "2016-09-03T00:00:00",
                    "2016-09-04T00:00:00",
                    "2016-09-05T00:00:00",
                    "2016-09-06T00:00:00",
                    "2016-09-07T00:00:00",
                    "2016-09-08T00:00:00",
                    "2016-09-09T00:00:00",
                    "2016-09-10T00:00:00",
                    "2016-09-11T00:00:00",
                    "2016-09-12T00:00:00",
                    "2016-09-13T00:00:00",
                    "2016-09-14T00:00:00",
                    "2016-09-15T00:00:00",
                    "2016-09-16T00:00:00",
                    "2016-09-17T00:00:00",
                    "2016-09-18T00:00:00",
                    "2016-09-19T00:00:00",
                    "2016-09-20T00:00:00",
                    "2016-09-21T00:00:00",
                    "2016-09-22T00:00:00",
                    "2016-09-23T00:00:00",
                    "2016-09-24T00:00:00",
                    "2016-09-25T00:00:00",
                    "2016-09-26T00:00:00",
                    "2016-09-27T00:00:00",
                    "2016-09-28T00:00:00",
                    "2016-09-29T00:00:00",
                    "2016-09-30T00:00:00",
                    "2016-10-01T00:00:00",
                    "2016-10-02T00:00:00",
                    "2016-10-03T00:00:00",
                    "2016-10-04T00:00:00",
                    "2016-10-05T00:00:00",
                    "2016-10-06T00:00:00",
                    "2016-10-09T00:00:00"
                  ],
                  "xaxis": "x",
                  "y": [
                    0,
                    0,
                    114180000,
                    908760000,
                    125870000,
                    287370000,
                    588630000,
                    57890000,
                    1455770000,
                    277360000,
                    5945580000,
                    50010000,
                    0,
                    4087500000,
                    939470000,
                    22800000,
                    505050000,
                    253950000,
                    290200000,
                    641210000,
                    0,
                    0,
                    0,
                    0,
                    0,
                    0,
                    0,
                    527990000,
                    0,
                    215950000,
                    47290000,
                    192350000,
                    159420000,
                    0,
                    197350000,
                    0,
                    0,
                    0,
                    0,
                    0,
                    0,
                    0,
                    0,
                    0,
                    58460000,
                    613000000,
                    0,
                    0,
                    0,
                    64990000,
                    0,
                    0,
                    0,
                    0,
                    0,
                    0,
                    0
                  ],
                  "yaxis": "y"
                },
                {
                  "hovertemplate": "v2ProductName=Foam Can and Bottle Cooler<br>date=%{x}<br>totalTransactionRevenue=%{y}<extra></extra>",
                  "legendgroup": "Foam Can and Bottle Cooler",
                  "line": {
                    "color": "#19d3f3",
                    "dash": "solid"
                  },
                  "marker": {
                    "symbol": "circle"
                  },
                  "mode": "lines",
                  "name": "Foam Can and Bottle Cooler",
                  "showlegend": true,
                  "type": "scattergl",
                  "x": [
                    "2016-08-13T00:00:00",
                    "2016-08-16T00:00:00",
                    "2016-08-17T00:00:00",
                    "2016-08-31T00:00:00",
                    "2016-09-03T00:00:00",
                    "2016-09-07T00:00:00",
                    "2016-09-09T00:00:00"
                  ],
                  "xaxis": "x",
                  "y": [
                    0,
                    0,
                    0,
                    0,
                    0,
                    0,
                    0
                  ],
                  "yaxis": "y"
                },
                {
                  "hovertemplate": "v2ProductName=Google Kick Ball<br>date=%{x}<br>totalTransactionRevenue=%{y}<extra></extra>",
                  "legendgroup": "Google Kick Ball",
                  "line": {
                    "color": "#FF6692",
                    "dash": "solid"
                  },
                  "marker": {
                    "symbol": "circle"
                  },
                  "mode": "lines",
                  "name": "Google Kick Ball",
                  "showlegend": true,
                  "type": "scattergl",
                  "x": [
                    "2016-08-13T00:00:00",
                    "2016-08-15T00:00:00",
                    "2016-08-26T00:00:00",
                    "2016-09-10T00:00:00",
                    "2016-09-15T00:00:00",
                    "2016-09-16T00:00:00",
                    "2016-09-17T00:00:00",
                    "2016-09-18T00:00:00",
                    "2016-09-19T00:00:00",
                    "2016-09-20T00:00:00",
                    "2016-09-21T00:00:00",
                    "2016-09-22T00:00:00",
                    "2016-09-23T00:00:00",
                    "2016-09-24T00:00:00",
                    "2016-09-25T00:00:00",
                    "2016-09-26T00:00:00",
                    "2016-09-27T00:00:00",
                    "2016-09-28T00:00:00",
                    "2016-09-29T00:00:00",
                    "2016-09-30T00:00:00",
                    "2016-10-01T00:00:00",
                    "2016-10-02T00:00:00",
                    "2016-10-03T00:00:00",
                    "2016-10-04T00:00:00",
                    "2016-10-05T00:00:00",
                    "2016-10-06T00:00:00",
                    "2016-10-07T00:00:00"
                  ],
                  "xaxis": "x",
                  "y": [
                    0,
                    0,
                    0,
                    0,
                    0,
                    273350000,
                    0,
                    0,
                    0,
                    16960000,
                    0,
                    0,
                    0,
                    18480000,
                    0,
                    0,
                    0,
                    0,
                    0,
                    335580000,
                    0,
                    0,
                    265750000,
                    136960000,
                    90900000,
                    91950000,
                    0
                  ],
                  "yaxis": "y"
                },
                {
                  "hovertemplate": "v2ProductName=Google Collapsible Pet Bowl<br>date=%{x}<br>totalTransactionRevenue=%{y}<extra></extra>",
                  "legendgroup": "Google Collapsible Pet Bowl",
                  "line": {
                    "color": "#B6E880",
                    "dash": "solid"
                  },
                  "marker": {
                    "symbol": "circle"
                  },
                  "mode": "lines",
                  "name": "Google Collapsible Pet Bowl",
                  "showlegend": true,
                  "type": "scattergl",
                  "x": [
                    "2016-08-14T00:00:00",
                    "2016-08-21T00:00:00",
                    "2016-08-26T00:00:00",
                    "2016-08-29T00:00:00",
                    "2016-09-03T00:00:00",
                    "2016-09-15T00:00:00",
                    "2016-09-16T00:00:00",
                    "2016-09-18T00:00:00",
                    "2016-09-19T00:00:00",
                    "2016-09-20T00:00:00",
                    "2016-09-21T00:00:00",
                    "2016-09-22T00:00:00",
                    "2016-09-23T00:00:00",
                    "2016-09-24T00:00:00",
                    "2016-09-26T00:00:00",
                    "2016-09-27T00:00:00",
                    "2016-09-28T00:00:00",
                    "2016-09-29T00:00:00",
                    "2016-09-30T00:00:00",
                    "2016-10-01T00:00:00",
                    "2016-10-02T00:00:00",
                    "2016-10-03T00:00:00",
                    "2016-10-04T00:00:00",
                    "2016-10-05T00:00:00",
                    "2016-10-06T00:00:00"
                  ],
                  "xaxis": "x",
                  "y": [
                    0,
                    0,
                    0,
                    0,
                    0,
                    125780000,
                    180400000,
                    0,
                    177960000,
                    0,
                    47980000,
                    239060000,
                    0,
                    12500000,
                    0,
                    0,
                    0,
                    0,
                    58960000,
                    0,
                    87480000,
                    19790000,
                    0,
                    0,
                    0
                  ],
                  "yaxis": "y"
                },
                {
                  "hovertemplate": "v2ProductName=SPF-15 Slim & Slender Lip Balm<br>date=%{x}<br>totalTransactionRevenue=%{y}<extra></extra>",
                  "legendgroup": "SPF-15 Slim & Slender Lip Balm",
                  "line": {
                    "color": "#FF97FF",
                    "dash": "solid"
                  },
                  "marker": {
                    "symbol": "circle"
                  },
                  "mode": "lines",
                  "name": "SPF-15 Slim & Slender Lip Balm",
                  "showlegend": true,
                  "type": "scattergl",
                  "x": [
                    "2016-08-15T00:00:00",
                    "2016-09-02T00:00:00",
                    "2016-09-10T00:00:00",
                    "2016-09-15T00:00:00",
                    "2016-09-16T00:00:00",
                    "2016-09-17T00:00:00",
                    "2016-09-18T00:00:00",
                    "2016-09-19T00:00:00",
                    "2016-09-20T00:00:00",
                    "2016-09-21T00:00:00",
                    "2016-09-22T00:00:00",
                    "2016-09-23T00:00:00",
                    "2016-09-24T00:00:00",
                    "2016-09-25T00:00:00",
                    "2016-09-26T00:00:00",
                    "2016-09-27T00:00:00",
                    "2016-09-28T00:00:00",
                    "2016-09-29T00:00:00",
                    "2016-09-30T00:00:00",
                    "2016-10-01T00:00:00",
                    "2016-10-02T00:00:00",
                    "2016-10-03T00:00:00",
                    "2016-10-04T00:00:00",
                    "2016-10-05T00:00:00",
                    "2016-10-06T00:00:00"
                  ],
                  "xaxis": "x",
                  "y": [
                    0,
                    0,
                    0,
                    0,
                    654000000,
                    0,
                    0,
                    0,
                    86570000,
                    156350000,
                    93760000,
                    0,
                    0,
                    175380000,
                    0,
                    0,
                    350230000,
                    48430000,
                    0,
                    0,
                    0,
                    0,
                    20970000,
                    134890000,
                    0
                  ],
                  "yaxis": "y"
                },
                {
                  "hovertemplate": "v2ProductName=Large Zipper Top Tote Bag<br>date=%{x}<br>totalTransactionRevenue=%{y}<extra></extra>",
                  "legendgroup": "Large Zipper Top Tote Bag",
                  "line": {
                    "color": "#FECB52",
                    "dash": "solid"
                  },
                  "marker": {
                    "symbol": "circle"
                  },
                  "mode": "lines",
                  "name": "Large Zipper Top Tote Bag",
                  "showlegend": true,
                  "type": "scattergl",
                  "x": [
                    "2016-08-17T00:00:00",
                    "2016-08-18T00:00:00",
                    "2016-08-19T00:00:00",
                    "2016-08-20T00:00:00",
                    "2016-08-21T00:00:00",
                    "2016-08-22T00:00:00",
                    "2016-08-23T00:00:00",
                    "2016-08-24T00:00:00",
                    "2016-08-25T00:00:00",
                    "2016-08-26T00:00:00",
                    "2016-08-27T00:00:00",
                    "2016-08-28T00:00:00",
                    "2016-08-29T00:00:00",
                    "2016-08-30T00:00:00",
                    "2016-08-31T00:00:00",
                    "2016-09-01T00:00:00",
                    "2016-09-02T00:00:00",
                    "2016-09-03T00:00:00",
                    "2016-09-04T00:00:00",
                    "2016-09-05T00:00:00",
                    "2016-09-06T00:00:00",
                    "2016-09-07T00:00:00",
                    "2016-09-08T00:00:00",
                    "2016-09-09T00:00:00",
                    "2016-09-10T00:00:00",
                    "2016-09-11T00:00:00",
                    "2016-09-12T00:00:00",
                    "2016-09-13T00:00:00",
                    "2016-09-14T00:00:00",
                    "2016-09-15T00:00:00",
                    "2016-09-16T00:00:00",
                    "2016-09-17T00:00:00",
                    "2016-09-18T00:00:00",
                    "2016-09-19T00:00:00",
                    "2016-09-20T00:00:00",
                    "2016-09-21T00:00:00",
                    "2016-09-22T00:00:00",
                    "2016-09-23T00:00:00",
                    "2016-09-24T00:00:00",
                    "2016-09-25T00:00:00",
                    "2016-09-26T00:00:00",
                    "2016-09-27T00:00:00",
                    "2016-09-28T00:00:00",
                    "2016-09-29T00:00:00",
                    "2016-09-30T00:00:00",
                    "2016-10-01T00:00:00",
                    "2016-10-02T00:00:00",
                    "2016-10-03T00:00:00",
                    "2016-10-04T00:00:00",
                    "2016-10-05T00:00:00",
                    "2016-10-06T00:00:00",
                    "2016-10-07T00:00:00",
                    "2016-10-08T00:00:00",
                    "2016-10-09T00:00:00"
                  ],
                  "xaxis": "x",
                  "y": [
                    69070000,
                    0,
                    0,
                    231160000,
                    0,
                    0,
                    0,
                    11480000,
                    44800000,
                    38920000,
                    0,
                    0,
                    79080000,
                    0,
                    55080000,
                    396400000,
                    0,
                    227030000,
                    0,
                    0,
                    135870000,
                    311130000,
                    0,
                    355700000,
                    0,
                    0,
                    122630000,
                    377900000,
                    0,
                    0,
                    0,
                    0,
                    0,
                    0,
                    0,
                    0,
                    0,
                    54000000,
                    0,
                    58460000,
                    0,
                    0,
                    78380000,
                    0,
                    0,
                    0,
                    0,
                    0,
                    0,
                    0,
                    502030000,
                    0,
                    0,
                    0
                  ],
                  "yaxis": "y"
                },
                {
                  "hovertemplate": "v2ProductName=Switch Tone Color Crayon Pen<br>date=%{x}<br>totalTransactionRevenue=%{y}<extra></extra>",
                  "legendgroup": "Switch Tone Color Crayon Pen",
                  "line": {
                    "color": "#636efa",
                    "dash": "solid"
                  },
                  "marker": {
                    "symbol": "circle"
                  },
                  "mode": "lines",
                  "name": "Switch Tone Color Crayon Pen",
                  "showlegend": true,
                  "type": "scattergl",
                  "x": [
                    "2016-08-17T00:00:00",
                    "2016-08-20T00:00:00",
                    "2016-09-01T00:00:00",
                    "2016-10-04T00:00:00",
                    "2016-10-05T00:00:00",
                    "2016-10-06T00:00:00",
                    "2016-10-07T00:00:00"
                  ],
                  "xaxis": "x",
                  "y": [
                    0,
                    0,
                    0,
                    0,
                    30970000,
                    0,
                    0
                  ],
                  "yaxis": "y"
                },
                {
                  "hovertemplate": "v2ProductName=Google Zipper-front Sports Bag<br>date=%{x}<br>totalTransactionRevenue=%{y}<extra></extra>",
                  "legendgroup": "Google Zipper-front Sports Bag",
                  "line": {
                    "color": "#EF553B",
                    "dash": "solid"
                  },
                  "marker": {
                    "symbol": "circle"
                  },
                  "mode": "lines",
                  "name": "Google Zipper-front Sports Bag",
                  "showlegend": true,
                  "type": "scattergl",
                  "x": [
                    "2016-08-19T00:00:00",
                    "2016-08-20T00:00:00",
                    "2016-08-21T00:00:00",
                    "2016-08-22T00:00:00",
                    "2016-08-23T00:00:00",
                    "2016-08-24T00:00:00",
                    "2016-08-25T00:00:00",
                    "2016-08-26T00:00:00",
                    "2016-08-27T00:00:00",
                    "2016-08-28T00:00:00",
                    "2016-08-29T00:00:00",
                    "2016-08-30T00:00:00",
                    "2016-08-31T00:00:00",
                    "2016-09-01T00:00:00",
                    "2016-09-02T00:00:00",
                    "2016-09-03T00:00:00",
                    "2016-09-04T00:00:00",
                    "2016-09-05T00:00:00",
                    "2016-09-06T00:00:00",
                    "2016-09-07T00:00:00",
                    "2016-09-08T00:00:00",
                    "2016-09-09T00:00:00",
                    "2016-09-10T00:00:00",
                    "2016-09-11T00:00:00",
                    "2016-09-12T00:00:00",
                    "2016-09-13T00:00:00",
                    "2016-09-14T00:00:00",
                    "2016-09-15T00:00:00",
                    "2016-09-16T00:00:00",
                    "2016-09-17T00:00:00",
                    "2016-09-18T00:00:00",
                    "2016-09-19T00:00:00",
                    "2016-09-20T00:00:00",
                    "2016-09-21T00:00:00",
                    "2016-09-22T00:00:00",
                    "2016-09-23T00:00:00",
                    "2016-09-24T00:00:00",
                    "2016-09-25T00:00:00",
                    "2016-09-26T00:00:00",
                    "2016-09-27T00:00:00",
                    "2016-09-28T00:00:00",
                    "2016-09-29T00:00:00",
                    "2016-09-30T00:00:00",
                    "2016-10-01T00:00:00",
                    "2016-10-02T00:00:00",
                    "2016-10-03T00:00:00",
                    "2016-10-04T00:00:00",
                    "2016-10-05T00:00:00",
                    "2016-10-06T00:00:00",
                    "2016-10-07T00:00:00"
                  ],
                  "xaxis": "x",
                  "y": [
                    0,
                    1533920000,
                    0,
                    362990000,
                    0,
                    0,
                    0,
                    505140000,
                    0,
                    0,
                    0,
                    0,
                    55080000,
                    797390000,
                    0,
                    0,
                    0,
                    165940000,
                    0,
                    311130000,
                    127380000,
                    0,
                    196260000,
                    47290000,
                    0,
                    159420000,
                    0,
                    0,
                    46580000,
                    0,
                    0,
                    0,
                    0,
                    0,
                    175750000,
                    0,
                    0,
                    58460000,
                    188980000,
                    0,
                    0,
                    0,
                    0,
                    614200000,
                    0,
                    66360000,
                    0,
                    0,
                    0,
                    0
                  ],
                  "yaxis": "y"
                },
                {
                  "hovertemplate": "v2ProductName=Waterproof Gear Bag<br>date=%{x}<br>totalTransactionRevenue=%{y}<extra></extra>",
                  "legendgroup": "Waterproof Gear Bag",
                  "line": {
                    "color": "#00cc96",
                    "dash": "solid"
                  },
                  "marker": {
                    "symbol": "circle"
                  },
                  "mode": "lines",
                  "name": "Waterproof Gear Bag",
                  "showlegend": true,
                  "type": "scattergl",
                  "x": [
                    "2016-08-26T00:00:00",
                    "2016-08-27T00:00:00",
                    "2016-08-28T00:00:00",
                    "2016-08-29T00:00:00",
                    "2016-08-30T00:00:00",
                    "2016-08-31T00:00:00",
                    "2016-09-01T00:00:00",
                    "2016-09-02T00:00:00",
                    "2016-09-03T00:00:00",
                    "2016-09-04T00:00:00",
                    "2016-09-05T00:00:00",
                    "2016-09-06T00:00:00",
                    "2016-09-07T00:00:00",
                    "2016-09-08T00:00:00",
                    "2016-09-09T00:00:00",
                    "2016-09-10T00:00:00",
                    "2016-09-11T00:00:00",
                    "2016-09-12T00:00:00",
                    "2016-09-13T00:00:00",
                    "2016-09-14T00:00:00",
                    "2016-09-15T00:00:00",
                    "2016-09-16T00:00:00",
                    "2016-09-17T00:00:00",
                    "2016-09-18T00:00:00",
                    "2016-09-19T00:00:00",
                    "2016-09-20T00:00:00",
                    "2016-09-21T00:00:00",
                    "2016-09-22T00:00:00",
                    "2016-09-23T00:00:00",
                    "2016-09-24T00:00:00",
                    "2016-09-25T00:00:00",
                    "2016-09-26T00:00:00",
                    "2016-09-27T00:00:00",
                    "2016-09-28T00:00:00",
                    "2016-09-29T00:00:00",
                    "2017-04-03T00:00:00",
                    "2017-04-04T00:00:00",
                    "2017-04-24T00:00:00"
                  ],
                  "xaxis": "x",
                  "y": [
                    156970000,
                    0,
                    280660000,
                    282730000,
                    411150000,
                    113790000,
                    208640000,
                    70840000,
                    0,
                    84830000,
                    0,
                    80790000,
                    372540000,
                    121490000,
                    0,
                    103050000,
                    5770000,
                    0,
                    318840000,
                    421580000,
                    0,
                    305550000,
                    0,
                    32780000,
                    0,
                    67970000,
                    47980000,
                    0,
                    0,
                    0,
                    0,
                    0,
                    0,
                    78380000,
                    0,
                    0,
                    0,
                    0
                  ],
                  "yaxis": "y"
                },
                {
                  "hovertemplate": "v2ProductName=YouTube Custom Decals<br>date=%{x}<br>totalTransactionRevenue=%{y}<extra></extra>",
                  "legendgroup": "YouTube Custom Decals",
                  "line": {
                    "color": "#ab63fa",
                    "dash": "solid"
                  },
                  "marker": {
                    "symbol": "circle"
                  },
                  "mode": "lines",
                  "name": "YouTube Custom Decals",
                  "showlegend": true,
                  "type": "scattergl",
                  "x": [
                    "2016-09-02T00:00:00",
                    "2016-09-05T00:00:00",
                    "2016-09-14T00:00:00"
                  ],
                  "xaxis": "x",
                  "y": [
                    0,
                    0,
                    0
                  ],
                  "yaxis": "y"
                },
                {
                  "hovertemplate": "v2ProductName=Android Sticker Sheet Ultra Removable<br>date=%{x}<br>totalTransactionRevenue=%{y}<extra></extra>",
                  "legendgroup": "Android Sticker Sheet Ultra Removable",
                  "line": {
                    "color": "#FFA15A",
                    "dash": "solid"
                  },
                  "marker": {
                    "symbol": "circle"
                  },
                  "mode": "lines",
                  "name": "Android Sticker Sheet Ultra Removable",
                  "showlegend": true,
                  "type": "scattergl",
                  "x": [
                    "2016-09-14T00:00:00"
                  ],
                  "xaxis": "x",
                  "y": [
                    0
                  ],
                  "yaxis": "y"
                },
                {
                  "hovertemplate": "v2ProductName=Suitcase Organizer Cubes<br>date=%{x}<br>totalTransactionRevenue=%{y}<extra></extra>",
                  "legendgroup": "Suitcase Organizer Cubes",
                  "line": {
                    "color": "#19d3f3",
                    "dash": "solid"
                  },
                  "marker": {
                    "symbol": "circle"
                  },
                  "mode": "lines",
                  "name": "Suitcase Organizer Cubes",
                  "showlegend": true,
                  "type": "scattergl",
                  "x": [
                    "2016-09-15T00:00:00",
                    "2016-09-16T00:00:00",
                    "2016-09-17T00:00:00",
                    "2016-09-18T00:00:00",
                    "2016-09-19T00:00:00",
                    "2016-09-20T00:00:00",
                    "2016-09-21T00:00:00",
                    "2016-09-22T00:00:00",
                    "2016-09-23T00:00:00",
                    "2016-09-24T00:00:00",
                    "2016-09-25T00:00:00",
                    "2016-09-26T00:00:00",
                    "2016-09-27T00:00:00",
                    "2016-09-28T00:00:00",
                    "2016-09-29T00:00:00",
                    "2016-09-30T00:00:00",
                    "2016-10-01T00:00:00",
                    "2016-10-02T00:00:00",
                    "2016-10-03T00:00:00",
                    "2016-10-04T00:00:00",
                    "2016-10-05T00:00:00",
                    "2016-10-06T00:00:00",
                    "2016-10-07T00:00:00",
                    "2017-07-21T00:00:00"
                  ],
                  "xaxis": "x",
                  "y": [
                    1918160000,
                    0,
                    0,
                    0,
                    123460000,
                    207820000,
                    0,
                    0,
                    0,
                    0,
                    102380000,
                    0,
                    0,
                    0,
                    84620000,
                    7980000,
                    0,
                    0,
                    0,
                    0,
                    22590000,
                    0,
                    0,
                    0
                  ],
                  "yaxis": "y"
                },
                {
                  "hovertemplate": "v2ProductName=7&quot; Dog Frisbee<br>date=%{x}<br>totalTransactionRevenue=%{y}<extra></extra>",
                  "legendgroup": "7&quot; Dog Frisbee",
                  "line": {
                    "color": "#FF6692",
                    "dash": "solid"
                  },
                  "marker": {
                    "symbol": "circle"
                  },
                  "mode": "lines",
                  "name": "7&quot; Dog Frisbee",
                  "showlegend": true,
                  "type": "scattergl",
                  "x": [
                    "2016-09-15T00:00:00",
                    "2016-09-16T00:00:00",
                    "2016-09-17T00:00:00",
                    "2016-09-18T00:00:00",
                    "2016-09-19T00:00:00",
                    "2016-09-20T00:00:00",
                    "2016-09-21T00:00:00",
                    "2016-09-22T00:00:00",
                    "2016-09-23T00:00:00",
                    "2016-09-24T00:00:00",
                    "2016-09-26T00:00:00",
                    "2016-09-27T00:00:00",
                    "2016-09-28T00:00:00",
                    "2016-09-29T00:00:00",
                    "2016-09-30T00:00:00",
                    "2016-10-01T00:00:00",
                    "2016-10-02T00:00:00",
                    "2016-10-04T00:00:00",
                    "2016-10-05T00:00:00",
                    "2016-10-06T00:00:00",
                    "2016-10-07T00:00:00"
                  ],
                  "xaxis": "x",
                  "y": [
                    0,
                    0,
                    0,
                    0,
                    0,
                    0,
                    0,
                    0,
                    0,
                    0,
                    55960000,
                    31460000,
                    0,
                    0,
                    58960000,
                    0,
                    87480000,
                    0,
                    0,
                    0,
                    0
                  ],
                  "yaxis": "y"
                },
                {
                  "hovertemplate": "v2ProductName=Crunch-It Dog Toy<br>date=%{x}<br>totalTransactionRevenue=%{y}<extra></extra>",
                  "legendgroup": "Crunch-It Dog Toy",
                  "line": {
                    "color": "#B6E880",
                    "dash": "solid"
                  },
                  "marker": {
                    "symbol": "circle"
                  },
                  "mode": "lines",
                  "name": "Crunch-It Dog Toy",
                  "showlegend": true,
                  "type": "scattergl",
                  "x": [
                    "2016-09-15T00:00:00",
                    "2016-09-16T00:00:00",
                    "2016-09-17T00:00:00",
                    "2016-09-18T00:00:00",
                    "2016-09-19T00:00:00",
                    "2016-09-20T00:00:00",
                    "2016-09-21T00:00:00",
                    "2016-09-22T00:00:00",
                    "2016-09-23T00:00:00",
                    "2016-09-24T00:00:00",
                    "2016-09-25T00:00:00",
                    "2016-09-26T00:00:00",
                    "2016-09-27T00:00:00",
                    "2016-09-28T00:00:00",
                    "2016-09-30T00:00:00",
                    "2016-10-01T00:00:00",
                    "2016-10-02T00:00:00",
                    "2016-10-03T00:00:00"
                  ],
                  "xaxis": "x",
                  "y": [
                    0,
                    217560000,
                    0,
                    0,
                    0,
                    0,
                    0,
                    152990000,
                    0,
                    0,
                    0,
                    19980000,
                    0,
                    0,
                    77970000,
                    0,
                    0,
                    0
                  ],
                  "yaxis": "y"
                },
                {
                  "hovertemplate": "v2ProductName=Google Pet Feeding Mat<br>date=%{x}<br>totalTransactionRevenue=%{y}<extra></extra>",
                  "legendgroup": "Google Pet Feeding Mat",
                  "line": {
                    "color": "#FF97FF",
                    "dash": "solid"
                  },
                  "marker": {
                    "symbol": "circle"
                  },
                  "mode": "lines",
                  "name": "Google Pet Feeding Mat",
                  "showlegend": true,
                  "type": "scattergl",
                  "x": [
                    "2016-09-15T00:00:00",
                    "2016-09-16T00:00:00",
                    "2016-09-17T00:00:00",
                    "2016-09-18T00:00:00",
                    "2016-09-19T00:00:00",
                    "2016-09-20T00:00:00",
                    "2016-09-21T00:00:00",
                    "2016-09-22T00:00:00",
                    "2016-09-23T00:00:00",
                    "2016-09-25T00:00:00",
                    "2016-09-26T00:00:00",
                    "2016-09-27T00:00:00",
                    "2016-09-28T00:00:00",
                    "2016-09-29T00:00:00",
                    "2016-09-30T00:00:00",
                    "2016-10-02T00:00:00",
                    "2016-10-03T00:00:00",
                    "2016-10-04T00:00:00",
                    "2016-10-05T00:00:00",
                    "2016-10-06T00:00:00",
                    "2017-05-06T00:00:00"
                  ],
                  "xaxis": "x",
                  "y": [
                    0,
                    0,
                    0,
                    0,
                    0,
                    64590000,
                    0,
                    0,
                    0,
                    0,
                    0,
                    0,
                    18590000,
                    0,
                    0,
                    2535350000,
                    0,
                    0,
                    0,
                    502030000,
                    0
                  ],
                  "yaxis": "y"
                },
                {
                  "hovertemplate": "v2ProductName=Seat Pack Organizer<br>date=%{x}<br>totalTransactionRevenue=%{y}<extra></extra>",
                  "legendgroup": "Seat Pack Organizer",
                  "line": {
                    "color": "#FECB52",
                    "dash": "solid"
                  },
                  "marker": {
                    "symbol": "circle"
                  },
                  "mode": "lines",
                  "name": "Seat Pack Organizer",
                  "showlegend": true,
                  "type": "scattergl",
                  "x": [
                    "2016-09-15T00:00:00",
                    "2016-09-16T00:00:00",
                    "2016-09-17T00:00:00",
                    "2016-09-18T00:00:00",
                    "2016-09-19T00:00:00",
                    "2016-09-20T00:00:00",
                    "2016-09-21T00:00:00",
                    "2016-09-22T00:00:00",
                    "2016-09-23T00:00:00",
                    "2016-09-24T00:00:00",
                    "2016-09-25T00:00:00",
                    "2016-09-26T00:00:00",
                    "2016-09-27T00:00:00",
                    "2016-09-28T00:00:00",
                    "2016-09-29T00:00:00",
                    "2016-09-30T00:00:00",
                    "2016-10-01T00:00:00",
                    "2016-10-02T00:00:00",
                    "2016-10-03T00:00:00",
                    "2016-10-04T00:00:00",
                    "2016-10-05T00:00:00",
                    "2016-10-06T00:00:00"
                  ],
                  "xaxis": "x",
                  "y": [
                    0,
                    181610000,
                    0,
                    0,
                    0,
                    0,
                    16450000,
                    93760000,
                    0,
                    0,
                    58460000,
                    0,
                    54750000,
                    0,
                    15590000,
                    58960000,
                    0,
                    64990000,
                    0,
                    0,
                    0,
                    91950000
                  ],
                  "yaxis": "y"
                },
                {
                  "hovertemplate": "v2ProductName=Softsided Travel Pouch Set<br>date=%{x}<br>totalTransactionRevenue=%{y}<extra></extra>",
                  "legendgroup": "Softsided Travel Pouch Set",
                  "line": {
                    "color": "#636efa",
                    "dash": "solid"
                  },
                  "marker": {
                    "symbol": "circle"
                  },
                  "mode": "lines",
                  "name": "Softsided Travel Pouch Set",
                  "showlegend": true,
                  "type": "scattergl",
                  "x": [
                    "2016-09-15T00:00:00",
                    "2016-09-16T00:00:00",
                    "2016-09-17T00:00:00",
                    "2016-09-18T00:00:00",
                    "2016-09-19T00:00:00",
                    "2016-09-20T00:00:00",
                    "2016-09-21T00:00:00",
                    "2016-09-22T00:00:00",
                    "2016-09-23T00:00:00",
                    "2016-09-24T00:00:00",
                    "2016-09-25T00:00:00",
                    "2016-09-26T00:00:00",
                    "2016-09-27T00:00:00",
                    "2016-09-28T00:00:00",
                    "2016-09-29T00:00:00",
                    "2016-09-30T00:00:00",
                    "2016-10-01T00:00:00",
                    "2016-10-02T00:00:00",
                    "2016-10-03T00:00:00",
                    "2016-10-04T00:00:00",
                    "2016-10-05T00:00:00",
                    "2016-10-06T00:00:00",
                    "2016-10-07T00:00:00"
                  ],
                  "xaxis": "x",
                  "y": [
                    0,
                    495500000,
                    0,
                    202950000,
                    0,
                    52790000,
                    135980000,
                    95420000,
                    0,
                    0,
                    43920000,
                    115930000,
                    203360000,
                    0,
                    166750000,
                    264070000,
                    0,
                    129980000,
                    0,
                    0,
                    91360000,
                    0,
                    0
                  ],
                  "yaxis": "y"
                },
                {
                  "hovertemplate": "v2ProductName=Fashion Sunglasses & Pouch<br>date=%{x}<br>totalTransactionRevenue=%{y}<extra></extra>",
                  "legendgroup": "Fashion Sunglasses & Pouch",
                  "line": {
                    "color": "#EF553B",
                    "dash": "solid"
                  },
                  "marker": {
                    "symbol": "circle"
                  },
                  "mode": "lines",
                  "name": "Fashion Sunglasses & Pouch",
                  "showlegend": true,
                  "type": "scattergl",
                  "x": [
                    "2016-09-16T00:00:00",
                    "2016-09-17T00:00:00",
                    "2016-09-18T00:00:00",
                    "2016-09-19T00:00:00",
                    "2016-09-20T00:00:00",
                    "2016-09-21T00:00:00",
                    "2016-09-22T00:00:00",
                    "2016-09-23T00:00:00",
                    "2016-09-24T00:00:00",
                    "2016-09-25T00:00:00",
                    "2016-09-26T00:00:00",
                    "2016-09-27T00:00:00",
                    "2016-09-28T00:00:00",
                    "2016-09-29T00:00:00",
                    "2016-09-30T00:00:00",
                    "2016-10-01T00:00:00",
                    "2016-10-02T00:00:00",
                    "2016-10-03T00:00:00",
                    "2016-10-04T00:00:00",
                    "2016-10-05T00:00:00",
                    "2016-10-06T00:00:00",
                    "2016-10-07T00:00:00"
                  ],
                  "xaxis": "x",
                  "y": [
                    67480000,
                    0,
                    0,
                    0,
                    178140000,
                    0,
                    0,
                    0,
                    12500000,
                    0,
                    0,
                    9490000,
                    367420000,
                    166750000,
                    0,
                    0,
                    64990000,
                    742680000,
                    0,
                    90900000,
                    0,
                    0
                  ],
                  "yaxis": "y"
                },
                {
                  "hovertemplate": "v2ProductName=7\" Dog Frisbee<br>date=%{x}<br>totalTransactionRevenue=%{y}<extra></extra>",
                  "legendgroup": "7\" Dog Frisbee",
                  "line": {
                    "color": "#00cc96",
                    "dash": "solid"
                  },
                  "marker": {
                    "symbol": "circle"
                  },
                  "mode": "lines",
                  "name": "7\" Dog Frisbee",
                  "showlegend": true,
                  "type": "scattergl",
                  "x": [
                    "2016-09-16T00:00:00",
                    "2016-09-20T00:00:00",
                    "2016-09-27T00:00:00",
                    "2016-09-29T00:00:00"
                  ],
                  "xaxis": "x",
                  "y": [
                    0,
                    0,
                    0,
                    0
                  ],
                  "yaxis": "y"
                },
                {
                  "hovertemplate": "v2ProductName=YouTube Luggage Tag<br>date=%{x}<br>totalTransactionRevenue=%{y}<extra></extra>",
                  "legendgroup": "YouTube Luggage Tag",
                  "line": {
                    "color": "#ab63fa",
                    "dash": "solid"
                  },
                  "marker": {
                    "symbol": "circle"
                  },
                  "mode": "lines",
                  "name": "YouTube Luggage Tag",
                  "showlegend": true,
                  "type": "scattergl",
                  "x": [
                    "2016-10-04T00:00:00",
                    "2016-10-05T00:00:00",
                    "2016-10-06T00:00:00",
                    "2017-04-10T00:00:00"
                  ],
                  "xaxis": "x",
                  "y": [
                    375590000,
                    0,
                    0,
                    0
                  ],
                  "yaxis": "y"
                },
                {
                  "hovertemplate": "v2ProductName=Crunch Noise Dog Toy<br>date=%{x}<br>totalTransactionRevenue=%{y}<extra></extra>",
                  "legendgroup": "Crunch Noise Dog Toy",
                  "line": {
                    "color": "#FFA15A",
                    "dash": "solid"
                  },
                  "marker": {
                    "symbol": "circle"
                  },
                  "mode": "lines",
                  "name": "Crunch Noise Dog Toy",
                  "showlegend": true,
                  "type": "scattergl",
                  "x": [
                    "2016-10-04T00:00:00",
                    "2016-10-05T00:00:00",
                    "2016-10-06T00:00:00",
                    "2016-10-07T00:00:00"
                  ],
                  "xaxis": "x",
                  "y": [
                    0,
                    0,
                    0,
                    0
                  ],
                  "yaxis": "y"
                },
                {
                  "hovertemplate": "v2ProductName=Android Luggage Tag<br>date=%{x}<br>totalTransactionRevenue=%{y}<extra></extra>",
                  "legendgroup": "Android Luggage Tag",
                  "line": {
                    "color": "#19d3f3",
                    "dash": "solid"
                  },
                  "marker": {
                    "symbol": "circle"
                  },
                  "mode": "lines",
                  "name": "Android Luggage Tag",
                  "showlegend": true,
                  "type": "scattergl",
                  "x": [
                    "2016-10-05T00:00:00",
                    "2016-10-06T00:00:00"
                  ],
                  "xaxis": "x",
                  "y": [
                    35990000,
                    0
                  ],
                  "yaxis": "y"
                },
                {
                  "hovertemplate": "v2ProductName=25L Classic Rucksack<br>date=%{x}<br>totalTransactionRevenue=%{y}<extra></extra>",
                  "legendgroup": "25L Classic Rucksack",
                  "line": {
                    "color": "#FF6692",
                    "dash": "solid"
                  },
                  "marker": {
                    "symbol": "circle"
                  },
                  "mode": "lines",
                  "name": "25L Classic Rucksack",
                  "showlegend": true,
                  "type": "scattergl",
                  "x": [
                    "2016-12-10T00:00:00"
                  ],
                  "xaxis": "x",
                  "y": [
                    0
                  ],
                  "yaxis": "y"
                },
                {
                  "hovertemplate": "v2ProductName=Google Women's Yoga Jacket Black<br>date=%{x}<br>totalTransactionRevenue=%{y}<extra></extra>",
                  "legendgroup": "Google Women's Yoga Jacket Black",
                  "line": {
                    "color": "#B6E880",
                    "dash": "solid"
                  },
                  "marker": {
                    "symbol": "circle"
                  },
                  "mode": "lines",
                  "name": "Google Women's Yoga Jacket Black",
                  "showlegend": true,
                  "type": "scattergl",
                  "x": [
                    "2017-01-04T00:00:00",
                    "2017-01-05T00:00:00"
                  ],
                  "xaxis": "x",
                  "y": [
                    467600000,
                    0
                  ],
                  "yaxis": "y"
                },
                {
                  "hovertemplate": "v2ProductName=Google Men's Microfiber 1/4 Zip Pullover Blue/Indigo<br>date=%{x}<br>totalTransactionRevenue=%{y}<extra></extra>",
                  "legendgroup": "Google Men's Microfiber 1/4 Zip Pullover Blue/Indigo",
                  "line": {
                    "color": "#FF97FF",
                    "dash": "solid"
                  },
                  "marker": {
                    "symbol": "circle"
                  },
                  "mode": "lines",
                  "name": "Google Men's Microfiber 1/4 Zip Pullover Blue/Indigo",
                  "showlegend": true,
                  "type": "scattergl",
                  "x": [
                    "2017-01-06T00:00:00"
                  ],
                  "xaxis": "x",
                  "y": [
                    0
                  ],
                  "yaxis": "y"
                },
                {
                  "hovertemplate": "v2ProductName=Google Women's Short Sleeve Hero Tee Black<br>date=%{x}<br>totalTransactionRevenue=%{y}<extra></extra>",
                  "legendgroup": "Google Women's Short Sleeve Hero Tee Black",
                  "line": {
                    "color": "#FECB52",
                    "dash": "solid"
                  },
                  "marker": {
                    "symbol": "circle"
                  },
                  "mode": "lines",
                  "name": "Google Women's Short Sleeve Hero Tee Black",
                  "showlegend": true,
                  "type": "scattergl",
                  "x": [
                    "2017-01-08T00:00:00",
                    "2017-01-09T00:00:00",
                    "2017-02-01T00:00:00",
                    "2017-07-22T00:00:00",
                    "2017-07-26T00:00:00",
                    "2017-07-27T00:00:00",
                    "2017-07-28T00:00:00"
                  ],
                  "xaxis": "x",
                  "y": [
                    0,
                    0,
                    0,
                    0,
                    0,
                    0,
                    0
                  ],
                  "yaxis": "y"
                },
                {
                  "hovertemplate": "v2ProductName=Nest® Cam Outdoor Security Camera - USA<br>date=%{x}<br>totalTransactionRevenue=%{y}<extra></extra>",
                  "legendgroup": "Nest® Cam Outdoor Security Camera - USA",
                  "line": {
                    "color": "#636efa",
                    "dash": "solid"
                  },
                  "marker": {
                    "symbol": "circle"
                  },
                  "mode": "lines",
                  "name": "Nest® Cam Outdoor Security Camera - USA",
                  "showlegend": true,
                  "type": "scattergl",
                  "x": [
                    "2017-01-19T00:00:00"
                  ],
                  "xaxis": "x",
                  "y": [
                    0
                  ],
                  "yaxis": "y"
                },
                {
                  "hovertemplate": "v2ProductName=Google Snapback Hat Black<br>date=%{x}<br>totalTransactionRevenue=%{y}<extra></extra>",
                  "legendgroup": "Google Snapback Hat Black",
                  "line": {
                    "color": "#EF553B",
                    "dash": "solid"
                  },
                  "marker": {
                    "symbol": "circle"
                  },
                  "mode": "lines",
                  "name": "Google Snapback Hat Black",
                  "showlegend": true,
                  "type": "scattergl",
                  "x": [
                    "2017-01-25T00:00:00",
                    "2017-01-26T00:00:00",
                    "2017-08-01T00:00:00"
                  ],
                  "xaxis": "x",
                  "y": [
                    0,
                    0,
                    0
                  ],
                  "yaxis": "y"
                },
                {
                  "hovertemplate": "v2ProductName=Google Women's 1/4 Zip Jacket Charcoal<br>date=%{x}<br>totalTransactionRevenue=%{y}<extra></extra>",
                  "legendgroup": "Google Women's 1/4 Zip Jacket Charcoal",
                  "line": {
                    "color": "#00cc96",
                    "dash": "solid"
                  },
                  "marker": {
                    "symbol": "circle"
                  },
                  "mode": "lines",
                  "name": "Google Women's 1/4 Zip Jacket Charcoal",
                  "showlegend": true,
                  "type": "scattergl",
                  "x": [
                    "2017-01-25T00:00:00"
                  ],
                  "xaxis": "x",
                  "y": [
                    0
                  ],
                  "yaxis": "y"
                },
                {
                  "hovertemplate": "v2ProductName=Google Men's 100% Cotton Short Sleeve Hero Tee Black<br>date=%{x}<br>totalTransactionRevenue=%{y}<extra></extra>",
                  "legendgroup": "Google Men's 100% Cotton Short Sleeve Hero Tee Black",
                  "line": {
                    "color": "#ab63fa",
                    "dash": "solid"
                  },
                  "marker": {
                    "symbol": "circle"
                  },
                  "mode": "lines",
                  "name": "Google Men's 100% Cotton Short Sleeve Hero Tee Black",
                  "showlegend": true,
                  "type": "scattergl",
                  "x": [
                    "2017-02-03T00:00:00",
                    "2017-04-14T00:00:00",
                    "2017-04-15T00:00:00",
                    "2017-04-16T00:00:00"
                  ],
                  "xaxis": "x",
                  "y": [
                    0,
                    0,
                    0,
                    122390000
                  ],
                  "yaxis": "y"
                },
                {
                  "hovertemplate": "v2ProductName=Google Women's Performance Full Zip Jacket Black<br>date=%{x}<br>totalTransactionRevenue=%{y}<extra></extra>",
                  "legendgroup": "Google Women's Performance Full Zip Jacket Black",
                  "line": {
                    "color": "#FFA15A",
                    "dash": "solid"
                  },
                  "marker": {
                    "symbol": "circle"
                  },
                  "mode": "lines",
                  "name": "Google Women's Performance Full Zip Jacket Black",
                  "showlegend": true,
                  "type": "scattergl",
                  "x": [
                    "2017-02-07T00:00:00",
                    "2017-02-22T00:00:00",
                    "2017-02-23T00:00:00"
                  ],
                  "xaxis": "x",
                  "y": [
                    0,
                    0,
                    0
                  ],
                  "yaxis": "y"
                },
                {
                  "hovertemplate": "v2ProductName=Google Women's Lightweight Microfleece Jacket<br>date=%{x}<br>totalTransactionRevenue=%{y}<extra></extra>",
                  "legendgroup": "Google Women's Lightweight Microfleece Jacket",
                  "line": {
                    "color": "#19d3f3",
                    "dash": "solid"
                  },
                  "marker": {
                    "symbol": "circle"
                  },
                  "mode": "lines",
                  "name": "Google Women's Lightweight Microfleece Jacket",
                  "showlegend": true,
                  "type": "scattergl",
                  "x": [
                    "2017-02-08T00:00:00"
                  ],
                  "xaxis": "x",
                  "y": [
                    0
                  ],
                  "yaxis": "y"
                },
                {
                  "hovertemplate": "v2ProductName=Google Women's Convertible Vest-Jacket Sea Foam Green<br>date=%{x}<br>totalTransactionRevenue=%{y}<extra></extra>",
                  "legendgroup": "Google Women's Convertible Vest-Jacket Sea Foam Green",
                  "line": {
                    "color": "#FF6692",
                    "dash": "solid"
                  },
                  "marker": {
                    "symbol": "circle"
                  },
                  "mode": "lines",
                  "name": "Google Women's Convertible Vest-Jacket Sea Foam Green",
                  "showlegend": true,
                  "type": "scattergl",
                  "x": [
                    "2017-02-09T00:00:00"
                  ],
                  "xaxis": "x",
                  "y": [
                    0
                  ],
                  "yaxis": "y"
                },
                {
                  "hovertemplate": "v2ProductName=Google Men's Watershed Full Zip Hoodie Grey<br>date=%{x}<br>totalTransactionRevenue=%{y}<extra></extra>",
                  "legendgroup": "Google Men's Watershed Full Zip Hoodie Grey",
                  "line": {
                    "color": "#B6E880",
                    "dash": "solid"
                  },
                  "marker": {
                    "symbol": "circle"
                  },
                  "mode": "lines",
                  "name": "Google Men's Watershed Full Zip Hoodie Grey",
                  "showlegend": true,
                  "type": "scattergl",
                  "x": [
                    "2017-02-10T00:00:00",
                    "2017-02-11T00:00:00",
                    "2017-02-20T00:00:00",
                    "2017-06-02T00:00:00",
                    "2017-06-04T00:00:00"
                  ],
                  "xaxis": "x",
                  "y": [
                    0,
                    0,
                    0,
                    0,
                    0
                  ],
                  "yaxis": "y"
                },
                {
                  "hovertemplate": "v2ProductName=Google Tri-blend Hoodie Grey<br>date=%{x}<br>totalTransactionRevenue=%{y}<extra></extra>",
                  "legendgroup": "Google Tri-blend Hoodie Grey",
                  "line": {
                    "color": "#FF97FF",
                    "dash": "solid"
                  },
                  "marker": {
                    "symbol": "circle"
                  },
                  "mode": "lines",
                  "name": "Google Tri-blend Hoodie Grey",
                  "showlegend": true,
                  "type": "scattergl",
                  "x": [
                    "2017-02-15T00:00:00"
                  ],
                  "xaxis": "x",
                  "y": [
                    0
                  ],
                  "yaxis": "y"
                },
                {
                  "hovertemplate": "v2ProductName=Google Men's Performance Full Zip Jacket Black<br>date=%{x}<br>totalTransactionRevenue=%{y}<extra></extra>",
                  "legendgroup": "Google Men's Performance Full Zip Jacket Black",
                  "line": {
                    "color": "#FECB52",
                    "dash": "solid"
                  },
                  "marker": {
                    "symbol": "circle"
                  },
                  "mode": "lines",
                  "name": "Google Men's Performance Full Zip Jacket Black",
                  "showlegend": true,
                  "type": "scattergl",
                  "x": [
                    "2017-02-16T00:00:00",
                    "2017-07-15T00:00:00",
                    "2017-07-16T00:00:00"
                  ],
                  "xaxis": "x",
                  "y": [
                    0,
                    0,
                    0
                  ],
                  "yaxis": "y"
                },
                {
                  "hovertemplate": "v2ProductName=Android Women's Fleece Hoodie<br>date=%{x}<br>totalTransactionRevenue=%{y}<extra></extra>",
                  "legendgroup": "Android Women's Fleece Hoodie",
                  "line": {
                    "color": "#636efa",
                    "dash": "solid"
                  },
                  "marker": {
                    "symbol": "circle"
                  },
                  "mode": "lines",
                  "name": "Android Women's Fleece Hoodie",
                  "showlegend": true,
                  "type": "scattergl",
                  "x": [
                    "2017-02-18T00:00:00"
                  ],
                  "xaxis": "x",
                  "y": [
                    0
                  ],
                  "yaxis": "y"
                },
                {
                  "hovertemplate": "v2ProductName=Google Men's 100% Cotton Short Sleeve Hero Tee Navy<br>date=%{x}<br>totalTransactionRevenue=%{y}<extra></extra>",
                  "legendgroup": "Google Men's 100% Cotton Short Sleeve Hero Tee Navy",
                  "line": {
                    "color": "#EF553B",
                    "dash": "solid"
                  },
                  "marker": {
                    "symbol": "circle"
                  },
                  "mode": "lines",
                  "name": "Google Men's 100% Cotton Short Sleeve Hero Tee Navy",
                  "showlegend": true,
                  "type": "scattergl",
                  "x": [
                    "2017-02-18T00:00:00",
                    "2017-02-20T00:00:00"
                  ],
                  "xaxis": "x",
                  "y": [
                    0,
                    0
                  ],
                  "yaxis": "y"
                },
                {
                  "hovertemplate": "v2ProductName=Google Women's Short Sleeve Hero Tee Sky Blue<br>date=%{x}<br>totalTransactionRevenue=%{y}<extra></extra>",
                  "legendgroup": "Google Women's Short Sleeve Hero Tee Sky Blue",
                  "line": {
                    "color": "#00cc96",
                    "dash": "solid"
                  },
                  "marker": {
                    "symbol": "circle"
                  },
                  "mode": "lines",
                  "name": "Google Women's Short Sleeve Hero Tee Sky Blue",
                  "showlegend": true,
                  "type": "scattergl",
                  "x": [
                    "2017-02-23T00:00:00",
                    "2017-02-25T00:00:00",
                    "2017-02-28T00:00:00"
                  ],
                  "xaxis": "x",
                  "y": [
                    0,
                    0,
                    0
                  ],
                  "yaxis": "y"
                },
                {
                  "hovertemplate": "v2ProductName=Android Hard Cover Journal<br>date=%{x}<br>totalTransactionRevenue=%{y}<extra></extra>",
                  "legendgroup": "Android Hard Cover Journal",
                  "line": {
                    "color": "#ab63fa",
                    "dash": "solid"
                  },
                  "marker": {
                    "symbol": "circle"
                  },
                  "mode": "lines",
                  "name": "Android Hard Cover Journal",
                  "showlegend": true,
                  "type": "scattergl",
                  "x": [
                    "2017-02-26T00:00:00",
                    "2017-04-25T00:00:00"
                  ],
                  "xaxis": "x",
                  "y": [
                    0,
                    0
                  ],
                  "yaxis": "y"
                },
                {
                  "hovertemplate": "v2ProductName=Gunmetal Roller Ball Pen<br>date=%{x}<br>totalTransactionRevenue=%{y}<extra></extra>",
                  "legendgroup": "Gunmetal Roller Ball Pen",
                  "line": {
                    "color": "#FFA15A",
                    "dash": "solid"
                  },
                  "marker": {
                    "symbol": "circle"
                  },
                  "mode": "lines",
                  "name": "Gunmetal Roller Ball Pen",
                  "showlegend": true,
                  "type": "scattergl",
                  "x": [
                    "2017-03-05T00:00:00",
                    "2017-03-06T00:00:00",
                    "2017-03-23T00:00:00"
                  ],
                  "xaxis": "x",
                  "y": [
                    0,
                    0,
                    0
                  ],
                  "yaxis": "y"
                },
                {
                  "hovertemplate": "v2ProductName=Maze Pen<br>date=%{x}<br>totalTransactionRevenue=%{y}<extra></extra>",
                  "legendgroup": "Maze Pen",
                  "line": {
                    "color": "#19d3f3",
                    "dash": "solid"
                  },
                  "marker": {
                    "symbol": "circle"
                  },
                  "mode": "lines",
                  "name": "Maze Pen",
                  "showlegend": true,
                  "type": "scattergl",
                  "x": [
                    "2017-03-05T00:00:00"
                  ],
                  "xaxis": "x",
                  "y": [
                    0
                  ],
                  "yaxis": "y"
                },
                {
                  "hovertemplate": "v2ProductName=Google Men's Pullover Hoodie Grey<br>date=%{x}<br>totalTransactionRevenue=%{y}<extra></extra>",
                  "legendgroup": "Google Men's Pullover Hoodie Grey",
                  "line": {
                    "color": "#FF6692",
                    "dash": "solid"
                  },
                  "marker": {
                    "symbol": "circle"
                  },
                  "mode": "lines",
                  "name": "Google Men's Pullover Hoodie Grey",
                  "showlegend": true,
                  "type": "scattergl",
                  "x": [
                    "2017-03-06T00:00:00",
                    "2017-03-14T00:00:00"
                  ],
                  "xaxis": "x",
                  "y": [
                    0,
                    0
                  ],
                  "yaxis": "y"
                },
                {
                  "hovertemplate": "v2ProductName=Google Toddler Short Sleeve T-shirt Yellow<br>date=%{x}<br>totalTransactionRevenue=%{y}<extra></extra>",
                  "legendgroup": "Google Toddler Short Sleeve T-shirt Yellow",
                  "line": {
                    "color": "#B6E880",
                    "dash": "solid"
                  },
                  "marker": {
                    "symbol": "circle"
                  },
                  "mode": "lines",
                  "name": "Google Toddler Short Sleeve T-shirt Yellow",
                  "showlegend": true,
                  "type": "scattergl",
                  "x": [
                    "2017-03-08T00:00:00"
                  ],
                  "xaxis": "x",
                  "y": [
                    0
                  ],
                  "yaxis": "y"
                },
                {
                  "hovertemplate": "v2ProductName=Google Women's Short Sleeve Badge Tee Red Heather<br>date=%{x}<br>totalTransactionRevenue=%{y}<extra></extra>",
                  "legendgroup": "Google Women's Short Sleeve Badge Tee Red Heather",
                  "line": {
                    "color": "#FF97FF",
                    "dash": "solid"
                  },
                  "marker": {
                    "symbol": "circle"
                  },
                  "mode": "lines",
                  "name": "Google Women's Short Sleeve Badge Tee Red Heather",
                  "showlegend": true,
                  "type": "scattergl",
                  "x": [
                    "2017-03-10T00:00:00"
                  ],
                  "xaxis": "x",
                  "y": [
                    0
                  ],
                  "yaxis": "y"
                },
                {
                  "hovertemplate": "v2ProductName=Google G Noise-reducing Bluetooth Headphones<br>date=%{x}<br>totalTransactionRevenue=%{y}<extra></extra>",
                  "legendgroup": "Google G Noise-reducing Bluetooth Headphones",
                  "line": {
                    "color": "#FECB52",
                    "dash": "solid"
                  },
                  "marker": {
                    "symbol": "circle"
                  },
                  "mode": "lines",
                  "name": "Google G Noise-reducing Bluetooth Headphones",
                  "showlegend": true,
                  "type": "scattergl",
                  "x": [
                    "2017-03-13T00:00:00",
                    "2017-07-07T00:00:00"
                  ],
                  "xaxis": "x",
                  "y": [
                    0,
                    0
                  ],
                  "yaxis": "y"
                },
                {
                  "hovertemplate": "v2ProductName=YouTube RFID Journal<br>date=%{x}<br>totalTransactionRevenue=%{y}<extra></extra>",
                  "legendgroup": "YouTube RFID Journal",
                  "line": {
                    "color": "#636efa",
                    "dash": "solid"
                  },
                  "marker": {
                    "symbol": "circle"
                  },
                  "mode": "lines",
                  "name": "YouTube RFID Journal",
                  "showlegend": true,
                  "type": "scattergl",
                  "x": [
                    "2017-04-07T00:00:00",
                    "2017-04-08T00:00:00"
                  ],
                  "xaxis": "x",
                  "y": [
                    6831960000,
                    0
                  ],
                  "yaxis": "y"
                },
                {
                  "hovertemplate": "v2ProductName=Google Men's 100% Cotton Short Sleeve Hero Tee White<br>date=%{x}<br>totalTransactionRevenue=%{y}<extra></extra>",
                  "legendgroup": "Google Men's 100% Cotton Short Sleeve Hero Tee White",
                  "line": {
                    "color": "#EF553B",
                    "dash": "solid"
                  },
                  "marker": {
                    "symbol": "circle"
                  },
                  "mode": "lines",
                  "name": "Google Men's 100% Cotton Short Sleeve Hero Tee White",
                  "showlegend": true,
                  "type": "scattergl",
                  "x": [
                    "2017-04-08T00:00:00"
                  ],
                  "xaxis": "x",
                  "y": [
                    0
                  ],
                  "yaxis": "y"
                },
                {
                  "hovertemplate": "v2ProductName=26 oz Double Wall Insulated Bottle<br>date=%{x}<br>totalTransactionRevenue=%{y}<extra></extra>",
                  "legendgroup": "26 oz Double Wall Insulated Bottle",
                  "line": {
                    "color": "#00cc96",
                    "dash": "solid"
                  },
                  "marker": {
                    "symbol": "circle"
                  },
                  "mode": "lines",
                  "name": "26 oz Double Wall Insulated Bottle",
                  "showlegend": true,
                  "type": "scattergl",
                  "x": [
                    "2017-04-13T00:00:00"
                  ],
                  "xaxis": "x",
                  "y": [
                    0
                  ],
                  "yaxis": "y"
                },
                {
                  "hovertemplate": "v2ProductName=Google Spiral Leather Journal<br>date=%{x}<br>totalTransactionRevenue=%{y}<extra></extra>",
                  "legendgroup": "Google Spiral Leather Journal",
                  "line": {
                    "color": "#ab63fa",
                    "dash": "solid"
                  },
                  "marker": {
                    "symbol": "circle"
                  },
                  "mode": "lines",
                  "name": "Google Spiral Leather Journal",
                  "showlegend": true,
                  "type": "scattergl",
                  "x": [
                    "2017-04-18T00:00:00"
                  ],
                  "xaxis": "x",
                  "y": [
                    108910000
                  ],
                  "yaxis": "y"
                },
                {
                  "hovertemplate": "v2ProductName=Google Men's Vintage Tank<br>date=%{x}<br>totalTransactionRevenue=%{y}<extra></extra>",
                  "legendgroup": "Google Men's Vintage Tank",
                  "line": {
                    "color": "#FFA15A",
                    "dash": "solid"
                  },
                  "marker": {
                    "symbol": "circle"
                  },
                  "mode": "lines",
                  "name": "Google Men's Vintage Tank",
                  "showlegend": true,
                  "type": "scattergl",
                  "x": [
                    "2017-04-27T00:00:00"
                  ],
                  "xaxis": "x",
                  "y": [
                    0
                  ],
                  "yaxis": "y"
                },
                {
                  "hovertemplate": "v2ProductName=Google Leather Journal<br>date=%{x}<br>totalTransactionRevenue=%{y}<extra></extra>",
                  "legendgroup": "Google Leather Journal",
                  "line": {
                    "color": "#19d3f3",
                    "dash": "solid"
                  },
                  "marker": {
                    "symbol": "circle"
                  },
                  "mode": "lines",
                  "name": "Google Leather Journal",
                  "showlegend": true,
                  "type": "scattergl",
                  "x": [
                    "2017-05-10T00:00:00"
                  ],
                  "xaxis": "x",
                  "y": [
                    0
                  ],
                  "yaxis": "y"
                },
                {
                  "hovertemplate": "v2ProductName=Android RFID Journal<br>date=%{x}<br>totalTransactionRevenue=%{y}<extra></extra>",
                  "legendgroup": "Android RFID Journal",
                  "line": {
                    "color": "#FF6692",
                    "dash": "solid"
                  },
                  "marker": {
                    "symbol": "circle"
                  },
                  "mode": "lines",
                  "name": "Android RFID Journal",
                  "showlegend": true,
                  "type": "scattergl",
                  "x": [
                    "2017-05-14T00:00:00",
                    "2017-05-16T00:00:00"
                  ],
                  "xaxis": "x",
                  "y": [
                    0,
                    0
                  ],
                  "yaxis": "y"
                },
                {
                  "hovertemplate": "v2ProductName=Android Men's  Zip Hoodie<br>date=%{x}<br>totalTransactionRevenue=%{y}<extra></extra>",
                  "legendgroup": "Android Men's  Zip Hoodie",
                  "line": {
                    "color": "#B6E880",
                    "dash": "solid"
                  },
                  "marker": {
                    "symbol": "circle"
                  },
                  "mode": "lines",
                  "name": "Android Men's  Zip Hoodie",
                  "showlegend": true,
                  "type": "scattergl",
                  "x": [
                    "2017-05-19T00:00:00",
                    "2017-05-22T00:00:00"
                  ],
                  "xaxis": "x",
                  "y": [
                    0,
                    0
                  ],
                  "yaxis": "y"
                },
                {
                  "hovertemplate": "v2ProductName=Google Women's Short Sleeve Hero Tee White<br>date=%{x}<br>totalTransactionRevenue=%{y}<extra></extra>",
                  "legendgroup": "Google Women's Short Sleeve Hero Tee White",
                  "line": {
                    "color": "#FF97FF",
                    "dash": "solid"
                  },
                  "marker": {
                    "symbol": "circle"
                  },
                  "mode": "lines",
                  "name": "Google Women's Short Sleeve Hero Tee White",
                  "showlegend": true,
                  "type": "scattergl",
                  "x": [
                    "2017-06-28T00:00:00",
                    "2017-06-29T00:00:00"
                  ],
                  "xaxis": "x",
                  "y": [
                    0,
                    51040000
                  ],
                  "yaxis": "y"
                },
                {
                  "hovertemplate": "v2ProductName=Google Hard Cover Journal<br>date=%{x}<br>totalTransactionRevenue=%{y}<extra></extra>",
                  "legendgroup": "Google Hard Cover Journal",
                  "line": {
                    "color": "#FECB52",
                    "dash": "solid"
                  },
                  "marker": {
                    "symbol": "circle"
                  },
                  "mode": "lines",
                  "name": "Google Hard Cover Journal",
                  "showlegend": true,
                  "type": "scattergl",
                  "x": [
                    "2017-06-30T00:00:00"
                  ],
                  "xaxis": "x",
                  "y": [
                    0
                  ],
                  "yaxis": "y"
                },
                {
                  "hovertemplate": "v2ProductName=Google Leather Perforated Journal<br>date=%{x}<br>totalTransactionRevenue=%{y}<extra></extra>",
                  "legendgroup": "Google Leather Perforated Journal",
                  "line": {
                    "color": "#636efa",
                    "dash": "solid"
                  },
                  "marker": {
                    "symbol": "circle"
                  },
                  "mode": "lines",
                  "name": "Google Leather Perforated Journal",
                  "showlegend": true,
                  "type": "scattergl",
                  "x": [
                    "2017-07-12T00:00:00",
                    "2017-07-22T00:00:00"
                  ],
                  "xaxis": "x",
                  "y": [
                    154980000,
                    273000000
                  ],
                  "yaxis": "y"
                },
                {
                  "hovertemplate": "v2ProductName=Google Men's  Zip Hoodie<br>date=%{x}<br>totalTransactionRevenue=%{y}<extra></extra>",
                  "legendgroup": "Google Men's  Zip Hoodie",
                  "line": {
                    "color": "#EF553B",
                    "dash": "solid"
                  },
                  "marker": {
                    "symbol": "circle"
                  },
                  "mode": "lines",
                  "name": "Google Men's  Zip Hoodie",
                  "showlegend": true,
                  "type": "scattergl",
                  "x": [
                    "2017-07-15T00:00:00"
                  ],
                  "xaxis": "x",
                  "y": [
                    123390000
                  ],
                  "yaxis": "y"
                },
                {
                  "hovertemplate": "v2ProductName=YouTube Men's Short Sleeve Hero Tee Black<br>date=%{x}<br>totalTransactionRevenue=%{y}<extra></extra>",
                  "legendgroup": "YouTube Men's Short Sleeve Hero Tee Black",
                  "line": {
                    "color": "#00cc96",
                    "dash": "solid"
                  },
                  "marker": {
                    "symbol": "circle"
                  },
                  "mode": "lines",
                  "name": "YouTube Men's Short Sleeve Hero Tee Black",
                  "showlegend": true,
                  "type": "scattergl",
                  "x": [
                    "2017-07-22T00:00:00"
                  ],
                  "xaxis": "x",
                  "y": [
                    0
                  ],
                  "yaxis": "y"
                },
                {
                  "hovertemplate": "v2ProductName=Metal Texture Roller Pen<br>date=%{x}<br>totalTransactionRevenue=%{y}<extra></extra>",
                  "legendgroup": "Metal Texture Roller Pen",
                  "line": {
                    "color": "#ab63fa",
                    "dash": "solid"
                  },
                  "marker": {
                    "symbol": "circle"
                  },
                  "mode": "lines",
                  "name": "Metal Texture Roller Pen",
                  "showlegend": true,
                  "type": "scattergl",
                  "x": [
                    "2017-07-26T00:00:00",
                    "2017-07-27T00:00:00",
                    "2017-07-28T00:00:00",
                    "2017-07-31T00:00:00"
                  ],
                  "xaxis": "x",
                  "y": [
                    67570000,
                    24710000,
                    0,
                    0
                  ],
                  "yaxis": "y"
                }
              ],
              "layout": {
                "legend": {
                  "title": {
                    "text": "v2ProductName"
                  },
                  "tracegroupgap": 0
                },
                "template": {
                  "data": {
                    "bar": [
                      {
                        "error_x": {
                          "color": "#2a3f5f"
                        },
                        "error_y": {
                          "color": "#2a3f5f"
                        },
                        "marker": {
                          "line": {
                            "color": "#E5ECF6",
                            "width": 0.5
                          },
                          "pattern": {
                            "fillmode": "overlay",
                            "size": 10,
                            "solidity": 0.2
                          }
                        },
                        "type": "bar"
                      }
                    ],
                    "barpolar": [
                      {
                        "marker": {
                          "line": {
                            "color": "#E5ECF6",
                            "width": 0.5
                          },
                          "pattern": {
                            "fillmode": "overlay",
                            "size": 10,
                            "solidity": 0.2
                          }
                        },
                        "type": "barpolar"
                      }
                    ],
                    "carpet": [
                      {
                        "aaxis": {
                          "endlinecolor": "#2a3f5f",
                          "gridcolor": "white",
                          "linecolor": "white",
                          "minorgridcolor": "white",
                          "startlinecolor": "#2a3f5f"
                        },
                        "baxis": {
                          "endlinecolor": "#2a3f5f",
                          "gridcolor": "white",
                          "linecolor": "white",
                          "minorgridcolor": "white",
                          "startlinecolor": "#2a3f5f"
                        },
                        "type": "carpet"
                      }
                    ],
                    "choropleth": [
                      {
                        "colorbar": {
                          "outlinewidth": 0,
                          "ticks": ""
                        },
                        "type": "choropleth"
                      }
                    ],
                    "contour": [
                      {
                        "colorbar": {
                          "outlinewidth": 0,
                          "ticks": ""
                        },
                        "colorscale": [
                          [
                            0,
                            "#0d0887"
                          ],
                          [
                            0.1111111111111111,
                            "#46039f"
                          ],
                          [
                            0.2222222222222222,
                            "#7201a8"
                          ],
                          [
                            0.3333333333333333,
                            "#9c179e"
                          ],
                          [
                            0.4444444444444444,
                            "#bd3786"
                          ],
                          [
                            0.5555555555555556,
                            "#d8576b"
                          ],
                          [
                            0.6666666666666666,
                            "#ed7953"
                          ],
                          [
                            0.7777777777777778,
                            "#fb9f3a"
                          ],
                          [
                            0.8888888888888888,
                            "#fdca26"
                          ],
                          [
                            1,
                            "#f0f921"
                          ]
                        ],
                        "type": "contour"
                      }
                    ],
                    "contourcarpet": [
                      {
                        "colorbar": {
                          "outlinewidth": 0,
                          "ticks": ""
                        },
                        "type": "contourcarpet"
                      }
                    ],
                    "heatmap": [
                      {
                        "colorbar": {
                          "outlinewidth": 0,
                          "ticks": ""
                        },
                        "colorscale": [
                          [
                            0,
                            "#0d0887"
                          ],
                          [
                            0.1111111111111111,
                            "#46039f"
                          ],
                          [
                            0.2222222222222222,
                            "#7201a8"
                          ],
                          [
                            0.3333333333333333,
                            "#9c179e"
                          ],
                          [
                            0.4444444444444444,
                            "#bd3786"
                          ],
                          [
                            0.5555555555555556,
                            "#d8576b"
                          ],
                          [
                            0.6666666666666666,
                            "#ed7953"
                          ],
                          [
                            0.7777777777777778,
                            "#fb9f3a"
                          ],
                          [
                            0.8888888888888888,
                            "#fdca26"
                          ],
                          [
                            1,
                            "#f0f921"
                          ]
                        ],
                        "type": "heatmap"
                      }
                    ],
                    "heatmapgl": [
                      {
                        "colorbar": {
                          "outlinewidth": 0,
                          "ticks": ""
                        },
                        "colorscale": [
                          [
                            0,
                            "#0d0887"
                          ],
                          [
                            0.1111111111111111,
                            "#46039f"
                          ],
                          [
                            0.2222222222222222,
                            "#7201a8"
                          ],
                          [
                            0.3333333333333333,
                            "#9c179e"
                          ],
                          [
                            0.4444444444444444,
                            "#bd3786"
                          ],
                          [
                            0.5555555555555556,
                            "#d8576b"
                          ],
                          [
                            0.6666666666666666,
                            "#ed7953"
                          ],
                          [
                            0.7777777777777778,
                            "#fb9f3a"
                          ],
                          [
                            0.8888888888888888,
                            "#fdca26"
                          ],
                          [
                            1,
                            "#f0f921"
                          ]
                        ],
                        "type": "heatmapgl"
                      }
                    ],
                    "histogram": [
                      {
                        "marker": {
                          "pattern": {
                            "fillmode": "overlay",
                            "size": 10,
                            "solidity": 0.2
                          }
                        },
                        "type": "histogram"
                      }
                    ],
                    "histogram2d": [
                      {
                        "colorbar": {
                          "outlinewidth": 0,
                          "ticks": ""
                        },
                        "colorscale": [
                          [
                            0,
                            "#0d0887"
                          ],
                          [
                            0.1111111111111111,
                            "#46039f"
                          ],
                          [
                            0.2222222222222222,
                            "#7201a8"
                          ],
                          [
                            0.3333333333333333,
                            "#9c179e"
                          ],
                          [
                            0.4444444444444444,
                            "#bd3786"
                          ],
                          [
                            0.5555555555555556,
                            "#d8576b"
                          ],
                          [
                            0.6666666666666666,
                            "#ed7953"
                          ],
                          [
                            0.7777777777777778,
                            "#fb9f3a"
                          ],
                          [
                            0.8888888888888888,
                            "#fdca26"
                          ],
                          [
                            1,
                            "#f0f921"
                          ]
                        ],
                        "type": "histogram2d"
                      }
                    ],
                    "histogram2dcontour": [
                      {
                        "colorbar": {
                          "outlinewidth": 0,
                          "ticks": ""
                        },
                        "colorscale": [
                          [
                            0,
                            "#0d0887"
                          ],
                          [
                            0.1111111111111111,
                            "#46039f"
                          ],
                          [
                            0.2222222222222222,
                            "#7201a8"
                          ],
                          [
                            0.3333333333333333,
                            "#9c179e"
                          ],
                          [
                            0.4444444444444444,
                            "#bd3786"
                          ],
                          [
                            0.5555555555555556,
                            "#d8576b"
                          ],
                          [
                            0.6666666666666666,
                            "#ed7953"
                          ],
                          [
                            0.7777777777777778,
                            "#fb9f3a"
                          ],
                          [
                            0.8888888888888888,
                            "#fdca26"
                          ],
                          [
                            1,
                            "#f0f921"
                          ]
                        ],
                        "type": "histogram2dcontour"
                      }
                    ],
                    "mesh3d": [
                      {
                        "colorbar": {
                          "outlinewidth": 0,
                          "ticks": ""
                        },
                        "type": "mesh3d"
                      }
                    ],
                    "parcoords": [
                      {
                        "line": {
                          "colorbar": {
                            "outlinewidth": 0,
                            "ticks": ""
                          }
                        },
                        "type": "parcoords"
                      }
                    ],
                    "pie": [
                      {
                        "automargin": true,
                        "type": "pie"
                      }
                    ],
                    "scatter": [
                      {
                        "fillpattern": {
                          "fillmode": "overlay",
                          "size": 10,
                          "solidity": 0.2
                        },
                        "type": "scatter"
                      }
                    ],
                    "scatter3d": [
                      {
                        "line": {
                          "colorbar": {
                            "outlinewidth": 0,
                            "ticks": ""
                          }
                        },
                        "marker": {
                          "colorbar": {
                            "outlinewidth": 0,
                            "ticks": ""
                          }
                        },
                        "type": "scatter3d"
                      }
                    ],
                    "scattercarpet": [
                      {
                        "marker": {
                          "colorbar": {
                            "outlinewidth": 0,
                            "ticks": ""
                          }
                        },
                        "type": "scattercarpet"
                      }
                    ],
                    "scattergeo": [
                      {
                        "marker": {
                          "colorbar": {
                            "outlinewidth": 0,
                            "ticks": ""
                          }
                        },
                        "type": "scattergeo"
                      }
                    ],
                    "scattergl": [
                      {
                        "marker": {
                          "colorbar": {
                            "outlinewidth": 0,
                            "ticks": ""
                          }
                        },
                        "type": "scattergl"
                      }
                    ],
                    "scattermapbox": [
                      {
                        "marker": {
                          "colorbar": {
                            "outlinewidth": 0,
                            "ticks": ""
                          }
                        },
                        "type": "scattermapbox"
                      }
                    ],
                    "scatterpolar": [
                      {
                        "marker": {
                          "colorbar": {
                            "outlinewidth": 0,
                            "ticks": ""
                          }
                        },
                        "type": "scatterpolar"
                      }
                    ],
                    "scatterpolargl": [
                      {
                        "marker": {
                          "colorbar": {
                            "outlinewidth": 0,
                            "ticks": ""
                          }
                        },
                        "type": "scatterpolargl"
                      }
                    ],
                    "scatterternary": [
                      {
                        "marker": {
                          "colorbar": {
                            "outlinewidth": 0,
                            "ticks": ""
                          }
                        },
                        "type": "scatterternary"
                      }
                    ],
                    "surface": [
                      {
                        "colorbar": {
                          "outlinewidth": 0,
                          "ticks": ""
                        },
                        "colorscale": [
                          [
                            0,
                            "#0d0887"
                          ],
                          [
                            0.1111111111111111,
                            "#46039f"
                          ],
                          [
                            0.2222222222222222,
                            "#7201a8"
                          ],
                          [
                            0.3333333333333333,
                            "#9c179e"
                          ],
                          [
                            0.4444444444444444,
                            "#bd3786"
                          ],
                          [
                            0.5555555555555556,
                            "#d8576b"
                          ],
                          [
                            0.6666666666666666,
                            "#ed7953"
                          ],
                          [
                            0.7777777777777778,
                            "#fb9f3a"
                          ],
                          [
                            0.8888888888888888,
                            "#fdca26"
                          ],
                          [
                            1,
                            "#f0f921"
                          ]
                        ],
                        "type": "surface"
                      }
                    ],
                    "table": [
                      {
                        "cells": {
                          "fill": {
                            "color": "#EBF0F8"
                          },
                          "line": {
                            "color": "white"
                          }
                        },
                        "header": {
                          "fill": {
                            "color": "#C8D4E3"
                          },
                          "line": {
                            "color": "white"
                          }
                        },
                        "type": "table"
                      }
                    ]
                  },
                  "layout": {
                    "annotationdefaults": {
                      "arrowcolor": "#2a3f5f",
                      "arrowhead": 0,
                      "arrowwidth": 1
                    },
                    "autotypenumbers": "strict",
                    "coloraxis": {
                      "colorbar": {
                        "outlinewidth": 0,
                        "ticks": ""
                      }
                    },
                    "colorscale": {
                      "diverging": [
                        [
                          0,
                          "#8e0152"
                        ],
                        [
                          0.1,
                          "#c51b7d"
                        ],
                        [
                          0.2,
                          "#de77ae"
                        ],
                        [
                          0.3,
                          "#f1b6da"
                        ],
                        [
                          0.4,
                          "#fde0ef"
                        ],
                        [
                          0.5,
                          "#f7f7f7"
                        ],
                        [
                          0.6,
                          "#e6f5d0"
                        ],
                        [
                          0.7,
                          "#b8e186"
                        ],
                        [
                          0.8,
                          "#7fbc41"
                        ],
                        [
                          0.9,
                          "#4d9221"
                        ],
                        [
                          1,
                          "#276419"
                        ]
                      ],
                      "sequential": [
                        [
                          0,
                          "#0d0887"
                        ],
                        [
                          0.1111111111111111,
                          "#46039f"
                        ],
                        [
                          0.2222222222222222,
                          "#7201a8"
                        ],
                        [
                          0.3333333333333333,
                          "#9c179e"
                        ],
                        [
                          0.4444444444444444,
                          "#bd3786"
                        ],
                        [
                          0.5555555555555556,
                          "#d8576b"
                        ],
                        [
                          0.6666666666666666,
                          "#ed7953"
                        ],
                        [
                          0.7777777777777778,
                          "#fb9f3a"
                        ],
                        [
                          0.8888888888888888,
                          "#fdca26"
                        ],
                        [
                          1,
                          "#f0f921"
                        ]
                      ],
                      "sequentialminus": [
                        [
                          0,
                          "#0d0887"
                        ],
                        [
                          0.1111111111111111,
                          "#46039f"
                        ],
                        [
                          0.2222222222222222,
                          "#7201a8"
                        ],
                        [
                          0.3333333333333333,
                          "#9c179e"
                        ],
                        [
                          0.4444444444444444,
                          "#bd3786"
                        ],
                        [
                          0.5555555555555556,
                          "#d8576b"
                        ],
                        [
                          0.6666666666666666,
                          "#ed7953"
                        ],
                        [
                          0.7777777777777778,
                          "#fb9f3a"
                        ],
                        [
                          0.8888888888888888,
                          "#fdca26"
                        ],
                        [
                          1,
                          "#f0f921"
                        ]
                      ]
                    },
                    "colorway": [
                      "#636efa",
                      "#EF553B",
                      "#00cc96",
                      "#ab63fa",
                      "#FFA15A",
                      "#19d3f3",
                      "#FF6692",
                      "#B6E880",
                      "#FF97FF",
                      "#FECB52"
                    ],
                    "font": {
                      "color": "#2a3f5f"
                    },
                    "geo": {
                      "bgcolor": "white",
                      "lakecolor": "white",
                      "landcolor": "#E5ECF6",
                      "showlakes": true,
                      "showland": true,
                      "subunitcolor": "white"
                    },
                    "hoverlabel": {
                      "align": "left"
                    },
                    "hovermode": "closest",
                    "mapbox": {
                      "style": "light"
                    },
                    "paper_bgcolor": "white",
                    "plot_bgcolor": "#E5ECF6",
                    "polar": {
                      "angularaxis": {
                        "gridcolor": "white",
                        "linecolor": "white",
                        "ticks": ""
                      },
                      "bgcolor": "#E5ECF6",
                      "radialaxis": {
                        "gridcolor": "white",
                        "linecolor": "white",
                        "ticks": ""
                      }
                    },
                    "scene": {
                      "xaxis": {
                        "backgroundcolor": "#E5ECF6",
                        "gridcolor": "white",
                        "gridwidth": 2,
                        "linecolor": "white",
                        "showbackground": true,
                        "ticks": "",
                        "zerolinecolor": "white"
                      },
                      "yaxis": {
                        "backgroundcolor": "#E5ECF6",
                        "gridcolor": "white",
                        "gridwidth": 2,
                        "linecolor": "white",
                        "showbackground": true,
                        "ticks": "",
                        "zerolinecolor": "white"
                      },
                      "zaxis": {
                        "backgroundcolor": "#E5ECF6",
                        "gridcolor": "white",
                        "gridwidth": 2,
                        "linecolor": "white",
                        "showbackground": true,
                        "ticks": "",
                        "zerolinecolor": "white"
                      }
                    },
                    "shapedefaults": {
                      "line": {
                        "color": "#2a3f5f"
                      }
                    },
                    "ternary": {
                      "aaxis": {
                        "gridcolor": "white",
                        "linecolor": "white",
                        "ticks": ""
                      },
                      "baxis": {
                        "gridcolor": "white",
                        "linecolor": "white",
                        "ticks": ""
                      },
                      "bgcolor": "#E5ECF6",
                      "caxis": {
                        "gridcolor": "white",
                        "linecolor": "white",
                        "ticks": ""
                      }
                    },
                    "title": {
                      "x": 0.05
                    },
                    "xaxis": {
                      "automargin": true,
                      "gridcolor": "white",
                      "linecolor": "white",
                      "ticks": "",
                      "title": {
                        "standoff": 15
                      },
                      "zerolinecolor": "white",
                      "zerolinewidth": 2
                    },
                    "yaxis": {
                      "automargin": true,
                      "gridcolor": "white",
                      "linecolor": "white",
                      "ticks": "",
                      "title": {
                        "standoff": 15
                      },
                      "zerolinecolor": "white",
                      "zerolinewidth": 2
                    }
                  }
                },
                "title": {
                  "text": "Top Products Based on Total Transaction Revenue Per Day"
                },
                "xaxis": {
                  "anchor": "y",
                  "domain": [
                    0,
                    1
                  ],
                  "title": {
                    "text": "date"
                  }
                },
                "yaxis": {
                  "anchor": "x",
                  "domain": [
                    0,
                    1
                  ],
                  "title": {
                    "text": "totalTransactionRevenue"
                  }
                }
              }
            }
          },
          "metadata": {},
          "output_type": "display_data"
        },
        {
          "data": {
            "application/vnd.plotly.v1+json": {
              "config": {
                "plotlyServerURL": "https://plot.ly"
              },
              "data": [
                {
                  "hovertemplate": "v2ProductName=1 oz Hand Sanitizer<br>date=%{x}<br>transactions=%{y}<extra></extra>",
                  "legendgroup": "1 oz Hand Sanitizer",
                  "marker": {
                    "color": "#636efa",
                    "opacity": 0.6,
                    "symbol": "circle"
                  },
                  "mode": "markers",
                  "name": "1 oz Hand Sanitizer",
                  "showlegend": true,
                  "type": "scattergl",
                  "x": [
                    "2016-08-01T00:00:00",
                    "2016-08-02T00:00:00",
                    "2016-08-04T00:00:00",
                    "2016-08-06T00:00:00",
                    "2016-08-09T00:00:00",
                    "2016-08-11T00:00:00",
                    "2016-08-12T00:00:00",
                    "2016-08-14T00:00:00",
                    "2016-08-15T00:00:00",
                    "2016-08-17T00:00:00",
                    "2016-08-19T00:00:00",
                    "2016-08-20T00:00:00",
                    "2016-08-29T00:00:00",
                    "2016-09-01T00:00:00",
                    "2016-09-02T00:00:00",
                    "2016-09-04T00:00:00",
                    "2016-09-15T00:00:00",
                    "2016-09-16T00:00:00",
                    "2016-09-17T00:00:00",
                    "2016-09-18T00:00:00",
                    "2016-09-19T00:00:00",
                    "2016-09-20T00:00:00",
                    "2016-09-21T00:00:00",
                    "2016-09-22T00:00:00",
                    "2016-09-23T00:00:00",
                    "2016-09-24T00:00:00",
                    "2016-09-25T00:00:00",
                    "2016-09-26T00:00:00",
                    "2016-09-27T00:00:00",
                    "2016-09-28T00:00:00",
                    "2016-09-29T00:00:00",
                    "2016-09-30T00:00:00",
                    "2016-10-01T00:00:00",
                    "2016-10-02T00:00:00",
                    "2016-10-03T00:00:00",
                    "2016-10-04T00:00:00",
                    "2016-10-05T00:00:00",
                    "2016-10-06T00:00:00"
                  ],
                  "xaxis": "x",
                  "y": [
                    0,
                    0,
                    0,
                    0,
                    0,
                    0,
                    0,
                    0,
                    0,
                    0,
                    0,
                    0,
                    0,
                    0,
                    0,
                    0,
                    2,
                    5,
                    1,
                    0,
                    0,
                    0,
                    2,
                    1,
                    0,
                    2,
                    0,
                    2,
                    0,
                    0,
                    0,
                    0,
                    0,
                    2,
                    1,
                    1,
                    1,
                    1
                  ],
                  "yaxis": "y"
                },
                {
                  "hovertemplate": "v2ProductName=Bottle Opener Clip<br>date=%{x}<br>transactions=%{y}<extra></extra>",
                  "legendgroup": "Bottle Opener Clip",
                  "marker": {
                    "color": "#EF553B",
                    "opacity": 0.6,
                    "symbol": "circle"
                  },
                  "mode": "markers",
                  "name": "Bottle Opener Clip",
                  "showlegend": true,
                  "type": "scattergl",
                  "x": [
                    "2016-08-01T00:00:00",
                    "2016-08-02T00:00:00",
                    "2016-08-05T00:00:00",
                    "2016-08-07T00:00:00",
                    "2016-08-10T00:00:00",
                    "2016-08-14T00:00:00",
                    "2016-08-15T00:00:00",
                    "2016-08-17T00:00:00",
                    "2016-09-05T00:00:00"
                  ],
                  "xaxis": "x",
                  "y": [
                    0,
                    0,
                    0,
                    0,
                    0,
                    0,
                    0,
                    0,
                    0
                  ],
                  "yaxis": "y"
                },
                {
                  "hovertemplate": "v2ProductName=Chevron Shopper<br>date=%{x}<br>transactions=%{y}<extra></extra>",
                  "legendgroup": "Chevron Shopper",
                  "marker": {
                    "color": "#00cc96",
                    "opacity": 0.6,
                    "symbol": "circle"
                  },
                  "mode": "markers",
                  "name": "Chevron Shopper",
                  "showlegend": true,
                  "type": "scattergl",
                  "x": [
                    "2016-08-01T00:00:00",
                    "2016-08-02T00:00:00",
                    "2016-08-03T00:00:00",
                    "2016-08-04T00:00:00",
                    "2016-08-05T00:00:00",
                    "2016-08-06T00:00:00",
                    "2016-08-07T00:00:00",
                    "2016-08-08T00:00:00",
                    "2016-08-09T00:00:00",
                    "2016-08-10T00:00:00",
                    "2016-08-11T00:00:00",
                    "2016-08-12T00:00:00"
                  ],
                  "xaxis": "x",
                  "y": [
                    2,
                    3,
                    0,
                    0,
                    3,
                    0,
                    2,
                    1,
                    0,
                    2,
                    0,
                    2
                  ],
                  "yaxis": "y"
                },
                {
                  "hovertemplate": "v2ProductName=Electronics Accessory Pouch<br>date=%{x}<br>transactions=%{y}<extra></extra>",
                  "legendgroup": "Electronics Accessory Pouch",
                  "marker": {
                    "color": "#ab63fa",
                    "opacity": 0.6,
                    "symbol": "circle"
                  },
                  "mode": "markers",
                  "name": "Electronics Accessory Pouch",
                  "showlegend": true,
                  "type": "scattergl",
                  "x": [
                    "2016-08-01T00:00:00",
                    "2016-08-02T00:00:00",
                    "2016-08-03T00:00:00",
                    "2016-08-04T00:00:00",
                    "2016-08-05T00:00:00",
                    "2016-08-06T00:00:00",
                    "2016-08-07T00:00:00",
                    "2016-08-08T00:00:00",
                    "2016-08-09T00:00:00",
                    "2016-08-10T00:00:00",
                    "2016-08-11T00:00:00",
                    "2016-08-12T00:00:00",
                    "2016-08-13T00:00:00",
                    "2016-08-14T00:00:00",
                    "2016-08-15T00:00:00",
                    "2016-08-16T00:00:00",
                    "2016-08-17T00:00:00",
                    "2016-08-18T00:00:00",
                    "2016-08-19T00:00:00",
                    "2016-08-20T00:00:00",
                    "2016-08-21T00:00:00",
                    "2016-08-22T00:00:00",
                    "2016-08-23T00:00:00",
                    "2016-08-24T00:00:00",
                    "2016-08-25T00:00:00",
                    "2016-08-26T00:00:00",
                    "2016-08-27T00:00:00",
                    "2016-08-28T00:00:00",
                    "2016-08-29T00:00:00",
                    "2016-08-30T00:00:00",
                    "2016-08-31T00:00:00",
                    "2016-09-01T00:00:00",
                    "2016-09-02T00:00:00",
                    "2016-09-03T00:00:00",
                    "2016-09-04T00:00:00",
                    "2016-09-05T00:00:00",
                    "2016-09-06T00:00:00",
                    "2016-09-07T00:00:00",
                    "2016-09-08T00:00:00",
                    "2016-09-09T00:00:00",
                    "2016-09-10T00:00:00",
                    "2016-09-11T00:00:00",
                    "2016-09-12T00:00:00",
                    "2016-09-13T00:00:00",
                    "2016-09-14T00:00:00",
                    "2016-09-15T00:00:00",
                    "2016-09-16T00:00:00",
                    "2016-09-17T00:00:00",
                    "2016-09-18T00:00:00",
                    "2016-09-19T00:00:00",
                    "2016-09-20T00:00:00",
                    "2016-09-21T00:00:00",
                    "2016-09-22T00:00:00",
                    "2016-09-23T00:00:00",
                    "2016-09-24T00:00:00",
                    "2016-09-25T00:00:00",
                    "2016-09-26T00:00:00",
                    "2016-09-27T00:00:00",
                    "2016-09-28T00:00:00",
                    "2016-09-29T00:00:00",
                    "2016-09-30T00:00:00",
                    "2016-10-01T00:00:00",
                    "2016-10-02T00:00:00",
                    "2016-10-03T00:00:00",
                    "2016-10-04T00:00:00",
                    "2016-10-05T00:00:00",
                    "2016-10-06T00:00:00",
                    "2016-10-07T00:00:00",
                    "2016-10-11T00:00:00"
                  ],
                  "xaxis": "x",
                  "y": [
                    0,
                    0,
                    0,
                    0,
                    2,
                    0,
                    0,
                    1,
                    0,
                    3,
                    1,
                    2,
                    1,
                    2,
                    3,
                    0,
                    4,
                    0,
                    1,
                    1,
                    2,
                    1,
                    1,
                    1,
                    2,
                    1,
                    1,
                    1,
                    0,
                    0,
                    0,
                    0,
                    0,
                    2,
                    1,
                    0,
                    2,
                    1,
                    2,
                    1,
                    1,
                    0,
                    1,
                    0,
                    0,
                    0,
                    0,
                    1,
                    0,
                    1,
                    1,
                    0,
                    0,
                    0,
                    0,
                    0,
                    2,
                    0,
                    0,
                    0,
                    1,
                    0,
                    0,
                    0,
                    0,
                    0,
                    1,
                    0,
                    0
                  ],
                  "yaxis": "y"
                },
                {
                  "hovertemplate": "v2ProductName=Kick Ball<br>date=%{x}<br>transactions=%{y}<extra></extra>",
                  "legendgroup": "Kick Ball",
                  "marker": {
                    "color": "#FFA15A",
                    "opacity": 0.6,
                    "symbol": "circle"
                  },
                  "mode": "markers",
                  "name": "Kick Ball",
                  "showlegend": true,
                  "type": "scattergl",
                  "x": [
                    "2016-08-01T00:00:00",
                    "2016-08-02T00:00:00",
                    "2016-08-04T00:00:00",
                    "2016-08-05T00:00:00"
                  ],
                  "xaxis": "x",
                  "y": [
                    0,
                    0,
                    0,
                    0
                  ],
                  "yaxis": "y"
                },
                {
                  "hovertemplate": "v2ProductName=Latitudes Foldaway Shopper<br>date=%{x}<br>transactions=%{y}<extra></extra>",
                  "legendgroup": "Latitudes Foldaway Shopper",
                  "marker": {
                    "color": "#19d3f3",
                    "opacity": 0.6,
                    "symbol": "circle"
                  },
                  "mode": "markers",
                  "name": "Latitudes Foldaway Shopper",
                  "showlegend": true,
                  "type": "scattergl",
                  "x": [
                    "2016-08-01T00:00:00",
                    "2016-08-02T00:00:00",
                    "2016-08-03T00:00:00",
                    "2016-08-04T00:00:00",
                    "2016-08-05T00:00:00",
                    "2016-08-06T00:00:00",
                    "2016-08-07T00:00:00",
                    "2016-08-08T00:00:00",
                    "2016-08-09T00:00:00",
                    "2016-08-10T00:00:00",
                    "2016-08-11T00:00:00",
                    "2016-08-12T00:00:00",
                    "2016-08-13T00:00:00"
                  ],
                  "xaxis": "x",
                  "y": [
                    1,
                    0,
                    0,
                    0,
                    2,
                    0,
                    0,
                    2,
                    0,
                    1,
                    2,
                    0,
                    0
                  ],
                  "yaxis": "y"
                },
                {
                  "hovertemplate": "v2ProductName=SPF-15 Lip Balm<br>date=%{x}<br>transactions=%{y}<extra></extra>",
                  "legendgroup": "SPF-15 Lip Balm",
                  "marker": {
                    "color": "#FF6692",
                    "opacity": 0.6,
                    "symbol": "circle"
                  },
                  "mode": "markers",
                  "name": "SPF-15 Lip Balm",
                  "showlegend": true,
                  "type": "scattergl",
                  "x": [
                    "2016-08-01T00:00:00",
                    "2016-08-02T00:00:00",
                    "2016-08-05T00:00:00",
                    "2016-08-08T00:00:00",
                    "2016-08-10T00:00:00",
                    "2016-08-11T00:00:00"
                  ],
                  "xaxis": "x",
                  "y": [
                    0,
                    0,
                    0,
                    0,
                    0,
                    0
                  ],
                  "yaxis": "y"
                },
                {
                  "hovertemplate": "v2ProductName=Speed Zone Air Mesh Tote<br>date=%{x}<br>transactions=%{y}<extra></extra>",
                  "legendgroup": "Speed Zone Air Mesh Tote",
                  "marker": {
                    "color": "#B6E880",
                    "opacity": 0.6,
                    "symbol": "circle"
                  },
                  "mode": "markers",
                  "name": "Speed Zone Air Mesh Tote",
                  "showlegend": true,
                  "type": "scattergl",
                  "x": [
                    "2016-08-01T00:00:00",
                    "2016-08-02T00:00:00",
                    "2016-08-03T00:00:00",
                    "2016-08-04T00:00:00",
                    "2016-08-05T00:00:00",
                    "2016-08-06T00:00:00",
                    "2016-08-07T00:00:00",
                    "2016-08-08T00:00:00",
                    "2016-08-09T00:00:00",
                    "2016-08-10T00:00:00",
                    "2016-08-11T00:00:00",
                    "2016-08-12T00:00:00"
                  ],
                  "xaxis": "x",
                  "y": [
                    1,
                    1,
                    0,
                    0,
                    2,
                    0,
                    0,
                    1,
                    0,
                    4,
                    2,
                    0
                  ],
                  "yaxis": "y"
                },
                {
                  "hovertemplate": "v2ProductName=Waterpoof Gear Bag<br>date=%{x}<br>transactions=%{y}<extra></extra>",
                  "legendgroup": "Waterpoof Gear Bag",
                  "marker": {
                    "color": "#FF97FF",
                    "opacity": 0.6,
                    "symbol": "circle"
                  },
                  "mode": "markers",
                  "name": "Waterpoof Gear Bag",
                  "showlegend": true,
                  "type": "scattergl",
                  "x": [
                    "2016-08-01T00:00:00",
                    "2016-08-02T00:00:00",
                    "2016-08-03T00:00:00",
                    "2016-08-04T00:00:00",
                    "2016-08-05T00:00:00",
                    "2016-08-06T00:00:00",
                    "2016-08-07T00:00:00",
                    "2016-08-08T00:00:00",
                    "2016-08-09T00:00:00",
                    "2016-08-10T00:00:00",
                    "2016-08-11T00:00:00",
                    "2016-08-12T00:00:00",
                    "2016-08-13T00:00:00",
                    "2016-08-14T00:00:00",
                    "2016-08-15T00:00:00",
                    "2016-08-16T00:00:00",
                    "2016-08-17T00:00:00",
                    "2016-08-18T00:00:00",
                    "2016-08-19T00:00:00",
                    "2016-08-20T00:00:00",
                    "2016-08-21T00:00:00",
                    "2016-08-22T00:00:00",
                    "2016-08-23T00:00:00",
                    "2016-08-24T00:00:00",
                    "2016-08-25T00:00:00",
                    "2016-08-26T00:00:00"
                  ],
                  "xaxis": "x",
                  "y": [
                    1,
                    0,
                    0,
                    0,
                    3,
                    3,
                    0,
                    0,
                    0,
                    1,
                    0,
                    2,
                    0,
                    1,
                    2,
                    0,
                    4,
                    0,
                    1,
                    1,
                    1,
                    4,
                    0,
                    1,
                    4,
                    0
                  ],
                  "yaxis": "y"
                },
                {
                  "hovertemplate": "v2ProductName=Windup Android<br>date=%{x}<br>transactions=%{y}<extra></extra>",
                  "legendgroup": "Windup Android",
                  "marker": {
                    "color": "#FECB52",
                    "opacity": 0.6,
                    "symbol": "circle"
                  },
                  "mode": "markers",
                  "name": "Windup Android",
                  "showlegend": true,
                  "type": "scattergl",
                  "x": [
                    "2016-08-01T00:00:00",
                    "2016-08-02T00:00:00",
                    "2016-08-13T00:00:00",
                    "2016-08-14T00:00:00",
                    "2016-08-17T00:00:00",
                    "2016-09-02T00:00:00",
                    "2016-09-10T00:00:00",
                    "2016-09-11T00:00:00",
                    "2016-09-12T00:00:00",
                    "2016-09-15T00:00:00",
                    "2016-09-16T00:00:00",
                    "2016-09-17T00:00:00",
                    "2016-09-18T00:00:00",
                    "2016-09-19T00:00:00",
                    "2016-09-20T00:00:00",
                    "2016-09-21T00:00:00",
                    "2016-09-22T00:00:00",
                    "2016-09-23T00:00:00",
                    "2016-09-24T00:00:00",
                    "2016-09-25T00:00:00",
                    "2016-09-26T00:00:00",
                    "2016-09-27T00:00:00",
                    "2016-09-28T00:00:00",
                    "2016-09-29T00:00:00",
                    "2016-09-30T00:00:00",
                    "2016-10-01T00:00:00",
                    "2016-10-02T00:00:00",
                    "2016-10-03T00:00:00",
                    "2016-10-04T00:00:00",
                    "2016-10-05T00:00:00",
                    "2016-10-06T00:00:00",
                    "2016-10-07T00:00:00"
                  ],
                  "xaxis": "x",
                  "y": [
                    0,
                    0,
                    0,
                    0,
                    0,
                    0,
                    0,
                    0,
                    0,
                    1,
                    1,
                    0,
                    0,
                    0,
                    1,
                    1,
                    2,
                    0,
                    1,
                    0,
                    0,
                    1,
                    1,
                    1,
                    1,
                    0,
                    0,
                    0,
                    0,
                    1,
                    0,
                    0
                  ],
                  "yaxis": "y"
                },
                {
                  "hovertemplate": "v2ProductName=Yoga Mat<br>date=%{x}<br>transactions=%{y}<extra></extra>",
                  "legendgroup": "Yoga Mat",
                  "marker": {
                    "color": "#636efa",
                    "opacity": 0.6,
                    "symbol": "circle"
                  },
                  "mode": "markers",
                  "name": "Yoga Mat",
                  "showlegend": true,
                  "type": "scattergl",
                  "x": [
                    "2016-08-01T00:00:00",
                    "2016-08-02T00:00:00",
                    "2016-08-05T00:00:00",
                    "2016-08-09T00:00:00",
                    "2016-08-12T00:00:00",
                    "2016-08-14T00:00:00",
                    "2016-08-16T00:00:00",
                    "2016-08-18T00:00:00",
                    "2016-08-25T00:00:00",
                    "2016-08-27T00:00:00",
                    "2016-09-08T00:00:00",
                    "2016-09-10T00:00:00"
                  ],
                  "xaxis": "x",
                  "y": [
                    0,
                    0,
                    0,
                    0,
                    0,
                    0,
                    0,
                    0,
                    0,
                    0,
                    0,
                    0
                  ],
                  "yaxis": "y"
                },
                {
                  "hovertemplate": "v2ProductName=Google Lunch Bag<br>date=%{x}<br>transactions=%{y}<extra></extra>",
                  "legendgroup": "Google Lunch Bag",
                  "marker": {
                    "color": "#EF553B",
                    "opacity": 0.6,
                    "symbol": "circle"
                  },
                  "mode": "markers",
                  "name": "Google Lunch Bag",
                  "showlegend": true,
                  "type": "scattergl",
                  "x": [
                    "2016-08-02T00:00:00",
                    "2016-08-03T00:00:00",
                    "2016-08-04T00:00:00",
                    "2016-08-05T00:00:00",
                    "2016-08-06T00:00:00",
                    "2016-08-07T00:00:00",
                    "2016-08-08T00:00:00",
                    "2016-08-09T00:00:00",
                    "2016-08-10T00:00:00",
                    "2016-08-11T00:00:00",
                    "2016-08-12T00:00:00",
                    "2016-08-13T00:00:00",
                    "2016-08-14T00:00:00",
                    "2016-08-15T00:00:00",
                    "2016-08-16T00:00:00",
                    "2016-08-17T00:00:00",
                    "2016-08-18T00:00:00",
                    "2016-08-19T00:00:00",
                    "2016-08-20T00:00:00",
                    "2016-08-21T00:00:00",
                    "2016-08-22T00:00:00",
                    "2016-08-23T00:00:00",
                    "2016-08-24T00:00:00",
                    "2016-08-25T00:00:00",
                    "2016-08-26T00:00:00",
                    "2016-08-27T00:00:00",
                    "2016-08-28T00:00:00",
                    "2016-08-29T00:00:00",
                    "2016-08-30T00:00:00",
                    "2016-08-31T00:00:00",
                    "2016-09-01T00:00:00",
                    "2016-09-02T00:00:00",
                    "2016-09-03T00:00:00",
                    "2016-09-04T00:00:00",
                    "2016-09-05T00:00:00",
                    "2016-09-06T00:00:00",
                    "2016-09-07T00:00:00",
                    "2016-09-08T00:00:00",
                    "2016-09-09T00:00:00",
                    "2016-09-10T00:00:00",
                    "2016-09-11T00:00:00",
                    "2016-09-12T00:00:00",
                    "2016-09-13T00:00:00",
                    "2016-09-14T00:00:00",
                    "2016-09-15T00:00:00",
                    "2016-09-16T00:00:00",
                    "2016-09-17T00:00:00",
                    "2016-09-18T00:00:00",
                    "2016-09-19T00:00:00",
                    "2016-09-20T00:00:00",
                    "2016-09-21T00:00:00",
                    "2016-09-22T00:00:00",
                    "2016-09-23T00:00:00",
                    "2016-09-24T00:00:00",
                    "2016-09-25T00:00:00",
                    "2016-09-26T00:00:00",
                    "2016-09-27T00:00:00",
                    "2016-09-28T00:00:00",
                    "2016-09-29T00:00:00",
                    "2016-09-30T00:00:00",
                    "2016-10-01T00:00:00",
                    "2016-10-02T00:00:00",
                    "2016-10-03T00:00:00",
                    "2016-10-04T00:00:00",
                    "2016-10-05T00:00:00",
                    "2016-10-06T00:00:00"
                  ],
                  "xaxis": "x",
                  "y": [
                    0,
                    0,
                    1,
                    1,
                    1,
                    0,
                    0,
                    0,
                    1,
                    2,
                    1,
                    1,
                    1,
                    1,
                    0,
                    1,
                    4,
                    2,
                    2,
                    0,
                    3,
                    2,
                    2,
                    3,
                    2,
                    0,
                    4,
                    1,
                    1,
                    0,
                    3,
                    2,
                    1,
                    0,
                    1,
                    2,
                    2,
                    3,
                    1,
                    0,
                    0,
                    1,
                    0,
                    2,
                    1,
                    0,
                    0,
                    1,
                    0,
                    0,
                    0,
                    0,
                    0,
                    0,
                    0,
                    0,
                    0,
                    0,
                    0,
                    0,
                    0,
                    0,
                    0,
                    0,
                    0,
                    0
                  ],
                  "yaxis": "y"
                },
                {
                  "hovertemplate": "v2ProductName=Google Sunglasses<br>date=%{x}<br>transactions=%{y}<extra></extra>",
                  "legendgroup": "Google Sunglasses",
                  "marker": {
                    "color": "#00cc96",
                    "opacity": 0.6,
                    "symbol": "circle"
                  },
                  "mode": "markers",
                  "name": "Google Sunglasses",
                  "showlegend": true,
                  "type": "scattergl",
                  "x": [
                    "2016-08-02T00:00:00",
                    "2016-08-03T00:00:00",
                    "2016-08-08T00:00:00",
                    "2016-08-19T00:00:00",
                    "2016-08-24T00:00:00",
                    "2016-08-25T00:00:00",
                    "2016-08-27T00:00:00",
                    "2016-09-10T00:00:00",
                    "2016-09-12T00:00:00",
                    "2016-09-15T00:00:00",
                    "2016-09-16T00:00:00",
                    "2016-09-17T00:00:00",
                    "2016-09-19T00:00:00",
                    "2016-09-20T00:00:00",
                    "2016-09-21T00:00:00",
                    "2016-09-22T00:00:00",
                    "2016-09-23T00:00:00",
                    "2016-09-24T00:00:00",
                    "2016-09-25T00:00:00",
                    "2016-09-26T00:00:00",
                    "2016-09-27T00:00:00",
                    "2016-09-28T00:00:00",
                    "2016-09-29T00:00:00",
                    "2016-09-30T00:00:00",
                    "2016-10-01T00:00:00",
                    "2016-10-02T00:00:00",
                    "2016-10-03T00:00:00",
                    "2016-10-04T00:00:00",
                    "2016-10-05T00:00:00",
                    "2016-10-06T00:00:00",
                    "2016-10-07T00:00:00"
                  ],
                  "xaxis": "x",
                  "y": [
                    0,
                    0,
                    0,
                    0,
                    0,
                    0,
                    0,
                    0,
                    0,
                    0,
                    4,
                    0,
                    2,
                    1,
                    2,
                    2,
                    0,
                    1,
                    0,
                    1,
                    0,
                    2,
                    2,
                    0,
                    0,
                    0,
                    1,
                    1,
                    1,
                    1,
                    0
                  ],
                  "yaxis": "y"
                },
                {
                  "hovertemplate": "v2ProductName=Sport Bag<br>date=%{x}<br>transactions=%{y}<extra></extra>",
                  "legendgroup": "Sport Bag",
                  "marker": {
                    "color": "#ab63fa",
                    "opacity": 0.6,
                    "symbol": "circle"
                  },
                  "mode": "markers",
                  "name": "Sport Bag",
                  "showlegend": true,
                  "type": "scattergl",
                  "x": [
                    "2016-08-02T00:00:00",
                    "2016-08-03T00:00:00",
                    "2016-08-04T00:00:00",
                    "2016-08-05T00:00:00",
                    "2016-08-06T00:00:00",
                    "2016-08-07T00:00:00",
                    "2016-08-08T00:00:00",
                    "2016-08-09T00:00:00",
                    "2016-08-10T00:00:00",
                    "2016-08-11T00:00:00",
                    "2016-08-12T00:00:00",
                    "2016-08-13T00:00:00",
                    "2016-08-14T00:00:00",
                    "2016-08-15T00:00:00",
                    "2016-08-16T00:00:00",
                    "2016-08-17T00:00:00",
                    "2016-08-18T00:00:00",
                    "2016-08-19T00:00:00",
                    "2016-08-20T00:00:00",
                    "2016-08-21T00:00:00",
                    "2016-08-22T00:00:00",
                    "2016-08-23T00:00:00",
                    "2016-08-24T00:00:00",
                    "2016-08-25T00:00:00",
                    "2016-08-26T00:00:00",
                    "2016-08-27T00:00:00",
                    "2016-08-28T00:00:00",
                    "2016-08-29T00:00:00",
                    "2016-08-30T00:00:00",
                    "2016-08-31T00:00:00",
                    "2016-09-01T00:00:00",
                    "2016-09-02T00:00:00",
                    "2016-09-03T00:00:00",
                    "2016-09-04T00:00:00",
                    "2016-09-05T00:00:00",
                    "2016-09-06T00:00:00",
                    "2016-09-07T00:00:00",
                    "2016-09-08T00:00:00",
                    "2016-09-09T00:00:00",
                    "2016-09-10T00:00:00",
                    "2016-09-11T00:00:00",
                    "2016-09-12T00:00:00",
                    "2016-09-13T00:00:00",
                    "2016-09-14T00:00:00",
                    "2016-09-15T00:00:00",
                    "2016-09-16T00:00:00",
                    "2016-09-17T00:00:00",
                    "2016-09-19T00:00:00",
                    "2016-09-20T00:00:00",
                    "2016-09-21T00:00:00",
                    "2016-09-22T00:00:00",
                    "2016-09-23T00:00:00",
                    "2016-09-24T00:00:00",
                    "2016-09-25T00:00:00",
                    "2016-09-26T00:00:00",
                    "2016-09-27T00:00:00",
                    "2016-09-28T00:00:00",
                    "2016-09-29T00:00:00",
                    "2016-09-30T00:00:00",
                    "2016-10-01T00:00:00",
                    "2016-10-02T00:00:00",
                    "2016-10-03T00:00:00",
                    "2016-10-04T00:00:00",
                    "2016-10-05T00:00:00",
                    "2016-10-06T00:00:00"
                  ],
                  "xaxis": "x",
                  "y": [
                    0,
                    0,
                    0,
                    1,
                    0,
                    1,
                    1,
                    2,
                    2,
                    1,
                    1,
                    0,
                    0,
                    2,
                    1,
                    0,
                    1,
                    0,
                    1,
                    1,
                    3,
                    1,
                    0,
                    6,
                    0,
                    0,
                    0,
                    0,
                    1,
                    0,
                    0,
                    0,
                    0,
                    0,
                    2,
                    0,
                    0,
                    0,
                    0,
                    0,
                    0,
                    0,
                    0,
                    0,
                    0,
                    1,
                    0,
                    0,
                    0,
                    0,
                    0,
                    0,
                    0,
                    0,
                    1,
                    0,
                    0,
                    0,
                    0,
                    0,
                    0,
                    0,
                    0,
                    0,
                    0
                  ],
                  "yaxis": "y"
                },
                {
                  "hovertemplate": "v2ProductName=Straw Beach Mat<br>date=%{x}<br>transactions=%{y}<extra></extra>",
                  "legendgroup": "Straw Beach Mat",
                  "marker": {
                    "color": "#FFA15A",
                    "opacity": 0.6,
                    "symbol": "circle"
                  },
                  "mode": "markers",
                  "name": "Straw Beach Mat",
                  "showlegend": true,
                  "type": "scattergl",
                  "x": [
                    "2016-08-02T00:00:00",
                    "2016-08-04T00:00:00",
                    "2016-08-05T00:00:00",
                    "2016-08-07T00:00:00",
                    "2016-08-19T00:00:00",
                    "2016-08-25T00:00:00",
                    "2016-09-15T00:00:00",
                    "2016-09-16T00:00:00",
                    "2016-09-17T00:00:00",
                    "2016-09-18T00:00:00",
                    "2016-09-19T00:00:00",
                    "2016-09-20T00:00:00",
                    "2016-09-21T00:00:00",
                    "2016-09-22T00:00:00",
                    "2016-09-23T00:00:00",
                    "2016-09-24T00:00:00",
                    "2016-09-25T00:00:00",
                    "2016-09-26T00:00:00",
                    "2016-09-27T00:00:00",
                    "2016-09-28T00:00:00",
                    "2016-09-29T00:00:00",
                    "2016-09-30T00:00:00",
                    "2016-10-01T00:00:00",
                    "2016-10-02T00:00:00",
                    "2016-10-03T00:00:00",
                    "2016-10-04T00:00:00",
                    "2016-10-05T00:00:00",
                    "2016-10-06T00:00:00",
                    "2016-10-07T00:00:00"
                  ],
                  "xaxis": "x",
                  "y": [
                    0,
                    0,
                    0,
                    0,
                    0,
                    0,
                    0,
                    4,
                    0,
                    0,
                    3,
                    2,
                    1,
                    2,
                    1,
                    2,
                    1,
                    0,
                    0,
                    2,
                    2,
                    0,
                    0,
                    2,
                    0,
                    1,
                    1,
                    0,
                    0
                  ],
                  "yaxis": "y"
                },
                {
                  "hovertemplate": "v2ProductName=Compact Selfie Stick<br>date=%{x}<br>transactions=%{y}<extra></extra>",
                  "legendgroup": "Compact Selfie Stick",
                  "marker": {
                    "color": "#19d3f3",
                    "opacity": 0.6,
                    "symbol": "circle"
                  },
                  "mode": "markers",
                  "name": "Compact Selfie Stick",
                  "showlegend": true,
                  "type": "scattergl",
                  "x": [
                    "2016-08-03T00:00:00",
                    "2016-08-04T00:00:00",
                    "2016-08-05T00:00:00",
                    "2016-08-07T00:00:00",
                    "2016-08-08T00:00:00",
                    "2016-08-13T00:00:00",
                    "2016-08-15T00:00:00",
                    "2016-08-17T00:00:00",
                    "2016-08-19T00:00:00",
                    "2016-08-27T00:00:00"
                  ],
                  "xaxis": "x",
                  "y": [
                    0,
                    0,
                    0,
                    1,
                    0,
                    0,
                    0,
                    0,
                    0,
                    0
                  ],
                  "yaxis": "y"
                },
                {
                  "hovertemplate": "v2ProductName=Google Laptop and Cell Phone Stickers<br>date=%{x}<br>transactions=%{y}<extra></extra>",
                  "legendgroup": "Google Laptop and Cell Phone Stickers",
                  "marker": {
                    "color": "#FF6692",
                    "opacity": 0.6,
                    "symbol": "circle"
                  },
                  "mode": "markers",
                  "name": "Google Laptop and Cell Phone Stickers",
                  "showlegend": true,
                  "type": "scattergl",
                  "x": [
                    "2016-08-03T00:00:00",
                    "2016-08-04T00:00:00",
                    "2016-08-05T00:00:00",
                    "2016-08-07T00:00:00",
                    "2016-08-10T00:00:00",
                    "2016-08-11T00:00:00",
                    "2016-08-14T00:00:00",
                    "2016-08-16T00:00:00",
                    "2016-08-18T00:00:00",
                    "2016-08-20T00:00:00",
                    "2016-08-21T00:00:00",
                    "2016-08-26T00:00:00",
                    "2016-09-04T00:00:00",
                    "2016-09-06T00:00:00",
                    "2016-09-10T00:00:00"
                  ],
                  "xaxis": "x",
                  "y": [
                    0,
                    0,
                    0,
                    1,
                    0,
                    0,
                    0,
                    0,
                    0,
                    0,
                    0,
                    0,
                    0,
                    0,
                    0
                  ],
                  "yaxis": "y"
                },
                {
                  "hovertemplate": "v2ProductName=Koozie Can Kooler<br>date=%{x}<br>transactions=%{y}<extra></extra>",
                  "legendgroup": "Koozie Can Kooler",
                  "marker": {
                    "color": "#B6E880",
                    "opacity": 0.6,
                    "symbol": "circle"
                  },
                  "mode": "markers",
                  "name": "Koozie Can Kooler",
                  "showlegend": true,
                  "type": "scattergl",
                  "x": [
                    "2016-08-03T00:00:00",
                    "2016-08-05T00:00:00",
                    "2016-08-10T00:00:00",
                    "2016-08-11T00:00:00"
                  ],
                  "xaxis": "x",
                  "y": [
                    0,
                    0,
                    0,
                    0
                  ],
                  "yaxis": "y"
                },
                {
                  "hovertemplate": "v2ProductName=Pop-a-Point Crayon<br>date=%{x}<br>transactions=%{y}<extra></extra>",
                  "legendgroup": "Pop-a-Point Crayon",
                  "marker": {
                    "color": "#FF97FF",
                    "opacity": 0.6,
                    "symbol": "circle"
                  },
                  "mode": "markers",
                  "name": "Pop-a-Point Crayon",
                  "showlegend": true,
                  "type": "scattergl",
                  "x": [
                    "2016-08-03T00:00:00",
                    "2016-08-05T00:00:00",
                    "2016-08-07T00:00:00",
                    "2016-08-08T00:00:00",
                    "2016-08-10T00:00:00",
                    "2016-08-11T00:00:00"
                  ],
                  "xaxis": "x",
                  "y": [
                    0,
                    0,
                    1,
                    0,
                    0,
                    0
                  ],
                  "yaxis": "y"
                },
                {
                  "hovertemplate": "v2ProductName=8 pc Android Sticker Sheet<br>date=%{x}<br>transactions=%{y}<extra></extra>",
                  "legendgroup": "8 pc Android Sticker Sheet",
                  "marker": {
                    "color": "#FECB52",
                    "opacity": 0.6,
                    "symbol": "circle"
                  },
                  "mode": "markers",
                  "name": "8 pc Android Sticker Sheet",
                  "showlegend": true,
                  "type": "scattergl",
                  "x": [
                    "2016-08-04T00:00:00",
                    "2016-08-05T00:00:00",
                    "2016-08-08T00:00:00",
                    "2016-08-10T00:00:00",
                    "2016-08-13T00:00:00",
                    "2016-08-18T00:00:00",
                    "2016-08-24T00:00:00",
                    "2016-08-28T00:00:00",
                    "2016-09-03T00:00:00"
                  ],
                  "xaxis": "x",
                  "y": [
                    0,
                    0,
                    0,
                    0,
                    0,
                    0,
                    0,
                    0,
                    0
                  ],
                  "yaxis": "y"
                },
                {
                  "hovertemplate": "v2ProductName=Collapsible Pet Bowl<br>date=%{x}<br>transactions=%{y}<extra></extra>",
                  "legendgroup": "Collapsible Pet Bowl",
                  "marker": {
                    "color": "#636efa",
                    "opacity": 0.6,
                    "symbol": "circle"
                  },
                  "mode": "markers",
                  "name": "Collapsible Pet Bowl",
                  "showlegend": true,
                  "type": "scattergl",
                  "x": [
                    "2016-08-05T00:00:00",
                    "2016-08-08T00:00:00",
                    "2016-08-10T00:00:00",
                    "2016-08-11T00:00:00"
                  ],
                  "xaxis": "x",
                  "y": [
                    0,
                    0,
                    0,
                    0
                  ],
                  "yaxis": "y"
                },
                {
                  "hovertemplate": "v2ProductName=Google Canvas Tote Natural/Navy<br>date=%{x}<br>transactions=%{y}<extra></extra>",
                  "legendgroup": "Google Canvas Tote Natural/Navy",
                  "marker": {
                    "color": "#EF553B",
                    "opacity": 0.6,
                    "symbol": "circle"
                  },
                  "mode": "markers",
                  "name": "Google Canvas Tote Natural/Navy",
                  "showlegend": true,
                  "type": "scattergl",
                  "x": [
                    "2016-08-05T00:00:00",
                    "2016-08-06T00:00:00",
                    "2016-08-07T00:00:00",
                    "2016-08-08T00:00:00",
                    "2016-08-09T00:00:00",
                    "2016-08-10T00:00:00",
                    "2016-08-11T00:00:00",
                    "2016-08-12T00:00:00",
                    "2016-08-13T00:00:00",
                    "2016-08-14T00:00:00",
                    "2016-08-15T00:00:00",
                    "2016-08-16T00:00:00",
                    "2016-08-17T00:00:00",
                    "2016-08-18T00:00:00",
                    "2016-08-19T00:00:00",
                    "2016-08-20T00:00:00",
                    "2016-08-21T00:00:00",
                    "2016-08-22T00:00:00",
                    "2016-08-23T00:00:00",
                    "2016-08-24T00:00:00",
                    "2016-08-25T00:00:00",
                    "2016-08-26T00:00:00",
                    "2016-08-27T00:00:00",
                    "2016-08-28T00:00:00",
                    "2016-08-29T00:00:00",
                    "2016-08-30T00:00:00",
                    "2016-08-31T00:00:00",
                    "2016-09-01T00:00:00",
                    "2016-09-02T00:00:00",
                    "2016-09-03T00:00:00",
                    "2016-09-04T00:00:00",
                    "2016-09-05T00:00:00",
                    "2016-09-06T00:00:00",
                    "2016-09-07T00:00:00",
                    "2016-09-08T00:00:00",
                    "2016-09-09T00:00:00",
                    "2016-09-10T00:00:00",
                    "2016-09-11T00:00:00",
                    "2016-09-12T00:00:00",
                    "2016-09-13T00:00:00",
                    "2016-09-14T00:00:00",
                    "2016-09-15T00:00:00",
                    "2016-09-16T00:00:00",
                    "2016-09-17T00:00:00",
                    "2016-09-18T00:00:00",
                    "2016-09-19T00:00:00",
                    "2016-09-20T00:00:00",
                    "2016-09-21T00:00:00",
                    "2016-09-22T00:00:00",
                    "2016-09-23T00:00:00",
                    "2016-09-24T00:00:00",
                    "2016-09-25T00:00:00",
                    "2016-09-26T00:00:00",
                    "2016-09-27T00:00:00",
                    "2016-09-28T00:00:00",
                    "2016-09-29T00:00:00",
                    "2016-09-30T00:00:00",
                    "2016-10-02T00:00:00",
                    "2016-10-04T00:00:00",
                    "2016-10-05T00:00:00",
                    "2016-10-06T00:00:00",
                    "2016-10-08T00:00:00"
                  ],
                  "xaxis": "x",
                  "y": [
                    0,
                    0,
                    1,
                    1,
                    3,
                    4,
                    0,
                    1,
                    0,
                    0,
                    3,
                    1,
                    3,
                    3,
                    1,
                    0,
                    0,
                    4,
                    0,
                    1,
                    3,
                    1,
                    0,
                    2,
                    1,
                    0,
                    1,
                    1,
                    0,
                    0,
                    0,
                    1,
                    1,
                    2,
                    3,
                    2,
                    4,
                    1,
                    0,
                    1,
                    0,
                    0,
                    0,
                    0,
                    0,
                    0,
                    0,
                    0,
                    0,
                    0,
                    0,
                    0,
                    1,
                    1,
                    0,
                    0,
                    0,
                    0,
                    0,
                    0,
                    0,
                    0
                  ],
                  "yaxis": "y"
                },
                {
                  "hovertemplate": "v2ProductName=Collapsible Shopping Bag<br>date=%{x}<br>transactions=%{y}<extra></extra>",
                  "legendgroup": "Collapsible Shopping Bag",
                  "marker": {
                    "color": "#00cc96",
                    "opacity": 0.6,
                    "symbol": "circle"
                  },
                  "mode": "markers",
                  "name": "Collapsible Shopping Bag",
                  "showlegend": true,
                  "type": "scattergl",
                  "x": [
                    "2016-08-12T00:00:00",
                    "2016-08-13T00:00:00",
                    "2016-08-14T00:00:00",
                    "2016-08-15T00:00:00",
                    "2016-08-16T00:00:00",
                    "2016-08-17T00:00:00",
                    "2016-08-18T00:00:00",
                    "2016-08-19T00:00:00",
                    "2016-08-20T00:00:00",
                    "2016-08-21T00:00:00",
                    "2016-08-22T00:00:00",
                    "2016-08-23T00:00:00",
                    "2016-08-24T00:00:00",
                    "2016-08-25T00:00:00",
                    "2016-08-26T00:00:00",
                    "2016-08-27T00:00:00",
                    "2016-08-28T00:00:00",
                    "2016-08-29T00:00:00",
                    "2016-08-30T00:00:00",
                    "2016-08-31T00:00:00",
                    "2016-09-01T00:00:00",
                    "2016-09-02T00:00:00",
                    "2016-09-03T00:00:00",
                    "2016-09-04T00:00:00",
                    "2016-09-05T00:00:00",
                    "2016-09-06T00:00:00",
                    "2016-09-07T00:00:00",
                    "2016-09-08T00:00:00",
                    "2016-09-09T00:00:00",
                    "2016-09-10T00:00:00",
                    "2016-09-11T00:00:00",
                    "2016-09-12T00:00:00",
                    "2016-09-13T00:00:00",
                    "2016-09-14T00:00:00",
                    "2016-09-15T00:00:00",
                    "2016-09-16T00:00:00",
                    "2016-09-17T00:00:00",
                    "2016-09-18T00:00:00",
                    "2016-09-19T00:00:00",
                    "2016-09-20T00:00:00",
                    "2016-09-21T00:00:00",
                    "2016-09-22T00:00:00",
                    "2016-09-23T00:00:00",
                    "2016-09-24T00:00:00",
                    "2016-09-25T00:00:00",
                    "2016-09-26T00:00:00",
                    "2016-09-27T00:00:00",
                    "2016-09-28T00:00:00",
                    "2016-09-29T00:00:00",
                    "2016-09-30T00:00:00",
                    "2016-10-01T00:00:00",
                    "2016-10-02T00:00:00",
                    "2016-10-03T00:00:00",
                    "2016-10-04T00:00:00",
                    "2016-10-05T00:00:00",
                    "2016-10-06T00:00:00",
                    "2016-10-07T00:00:00"
                  ],
                  "xaxis": "x",
                  "y": [
                    0,
                    1,
                    1,
                    0,
                    1,
                    3,
                    3,
                    2,
                    0,
                    0,
                    3,
                    2,
                    0,
                    3,
                    7,
                    1,
                    1,
                    0,
                    0,
                    1,
                    0,
                    0,
                    3,
                    2,
                    1,
                    0,
                    0,
                    4,
                    0,
                    1,
                    0,
                    1,
                    1,
                    3,
                    0,
                    0,
                    0,
                    0,
                    1,
                    0,
                    0,
                    0,
                    0,
                    0,
                    0,
                    0,
                    0,
                    0,
                    0,
                    1,
                    0,
                    0,
                    0,
                    1,
                    1,
                    0,
                    0
                  ],
                  "yaxis": "y"
                },
                {
                  "hovertemplate": "v2ProductName=Google Tote Bag<br>date=%{x}<br>transactions=%{y}<extra></extra>",
                  "legendgroup": "Google Tote Bag",
                  "marker": {
                    "color": "#ab63fa",
                    "opacity": 0.6,
                    "symbol": "circle"
                  },
                  "mode": "markers",
                  "name": "Google Tote Bag",
                  "showlegend": true,
                  "type": "scattergl",
                  "x": [
                    "2016-08-12T00:00:00",
                    "2016-08-13T00:00:00",
                    "2016-08-14T00:00:00",
                    "2016-08-15T00:00:00",
                    "2016-08-16T00:00:00",
                    "2016-08-17T00:00:00",
                    "2016-08-18T00:00:00",
                    "2016-08-19T00:00:00",
                    "2016-08-20T00:00:00",
                    "2016-08-21T00:00:00",
                    "2016-08-22T00:00:00",
                    "2016-08-23T00:00:00",
                    "2016-08-24T00:00:00",
                    "2016-08-25T00:00:00",
                    "2016-08-26T00:00:00",
                    "2016-08-27T00:00:00",
                    "2016-08-28T00:00:00",
                    "2016-08-29T00:00:00",
                    "2016-08-30T00:00:00",
                    "2016-08-31T00:00:00",
                    "2016-09-01T00:00:00",
                    "2016-09-02T00:00:00",
                    "2016-09-03T00:00:00",
                    "2016-09-04T00:00:00",
                    "2016-09-05T00:00:00",
                    "2016-09-06T00:00:00",
                    "2016-09-07T00:00:00",
                    "2016-09-08T00:00:00",
                    "2016-09-09T00:00:00",
                    "2016-09-10T00:00:00",
                    "2016-09-11T00:00:00",
                    "2016-09-12T00:00:00",
                    "2016-09-13T00:00:00",
                    "2016-09-14T00:00:00",
                    "2016-09-15T00:00:00",
                    "2016-09-16T00:00:00",
                    "2016-09-17T00:00:00",
                    "2016-09-18T00:00:00",
                    "2016-09-19T00:00:00",
                    "2016-09-20T00:00:00",
                    "2016-09-21T00:00:00",
                    "2016-09-22T00:00:00",
                    "2016-09-23T00:00:00",
                    "2016-09-24T00:00:00",
                    "2016-09-25T00:00:00",
                    "2016-09-26T00:00:00",
                    "2016-09-27T00:00:00",
                    "2016-09-28T00:00:00",
                    "2016-09-29T00:00:00",
                    "2016-09-30T00:00:00",
                    "2016-10-01T00:00:00",
                    "2016-10-02T00:00:00",
                    "2016-10-03T00:00:00",
                    "2016-10-04T00:00:00",
                    "2016-10-05T00:00:00",
                    "2016-10-06T00:00:00",
                    "2016-10-09T00:00:00"
                  ],
                  "xaxis": "x",
                  "y": [
                    0,
                    0,
                    1,
                    2,
                    1,
                    1,
                    3,
                    1,
                    1,
                    2,
                    2,
                    2,
                    0,
                    1,
                    6,
                    1,
                    3,
                    5,
                    2,
                    2,
                    0,
                    0,
                    0,
                    0,
                    0,
                    0,
                    0,
                    2,
                    0,
                    1,
                    1,
                    1,
                    1,
                    0,
                    1,
                    0,
                    0,
                    0,
                    0,
                    0,
                    0,
                    0,
                    0,
                    0,
                    1,
                    2,
                    0,
                    0,
                    0,
                    1,
                    0,
                    0,
                    0,
                    0,
                    0,
                    0,
                    0
                  ],
                  "yaxis": "y"
                },
                {
                  "hovertemplate": "v2ProductName=Reusable Shopping Bag<br>date=%{x}<br>transactions=%{y}<extra></extra>",
                  "legendgroup": "Reusable Shopping Bag",
                  "marker": {
                    "color": "#FFA15A",
                    "opacity": 0.6,
                    "symbol": "circle"
                  },
                  "mode": "markers",
                  "name": "Reusable Shopping Bag",
                  "showlegend": true,
                  "type": "scattergl",
                  "x": [
                    "2016-08-12T00:00:00",
                    "2016-08-13T00:00:00",
                    "2016-08-14T00:00:00",
                    "2016-08-15T00:00:00",
                    "2016-08-16T00:00:00",
                    "2016-08-17T00:00:00",
                    "2016-08-18T00:00:00",
                    "2016-08-19T00:00:00",
                    "2016-08-20T00:00:00",
                    "2016-08-21T00:00:00",
                    "2016-08-22T00:00:00",
                    "2016-08-23T00:00:00",
                    "2016-08-24T00:00:00",
                    "2016-08-25T00:00:00",
                    "2016-08-26T00:00:00",
                    "2016-08-27T00:00:00",
                    "2016-08-28T00:00:00",
                    "2016-08-29T00:00:00",
                    "2016-08-30T00:00:00",
                    "2016-08-31T00:00:00",
                    "2016-09-01T00:00:00",
                    "2016-09-02T00:00:00",
                    "2016-09-03T00:00:00",
                    "2016-09-04T00:00:00",
                    "2016-09-05T00:00:00",
                    "2016-09-06T00:00:00",
                    "2016-09-07T00:00:00",
                    "2016-09-08T00:00:00",
                    "2016-09-09T00:00:00",
                    "2016-09-10T00:00:00",
                    "2016-09-11T00:00:00",
                    "2016-09-12T00:00:00",
                    "2016-09-13T00:00:00",
                    "2016-09-14T00:00:00",
                    "2016-09-15T00:00:00",
                    "2016-09-16T00:00:00",
                    "2016-09-17T00:00:00",
                    "2016-09-18T00:00:00",
                    "2016-09-19T00:00:00",
                    "2016-09-20T00:00:00",
                    "2016-09-21T00:00:00",
                    "2016-09-22T00:00:00",
                    "2016-09-23T00:00:00",
                    "2016-09-24T00:00:00",
                    "2016-09-25T00:00:00",
                    "2016-09-26T00:00:00",
                    "2016-09-27T00:00:00",
                    "2016-09-28T00:00:00",
                    "2016-09-30T00:00:00"
                  ],
                  "xaxis": "x",
                  "y": [
                    1,
                    0,
                    1,
                    4,
                    1,
                    2,
                    1,
                    3,
                    0,
                    1,
                    3,
                    1,
                    0,
                    2,
                    4,
                    2,
                    2,
                    4,
                    1,
                    1,
                    0,
                    0,
                    1,
                    0,
                    0,
                    1,
                    1,
                    1,
                    0,
                    0,
                    0,
                    2,
                    1,
                    0,
                    0,
                    0,
                    0,
                    0,
                    0,
                    0,
                    0,
                    1,
                    0,
                    0,
                    0,
                    0,
                    0,
                    1,
                    0
                  ],
                  "yaxis": "y"
                },
                {
                  "hovertemplate": "v2ProductName=Foam Can and Bottle Cooler<br>date=%{x}<br>transactions=%{y}<extra></extra>",
                  "legendgroup": "Foam Can and Bottle Cooler",
                  "marker": {
                    "color": "#19d3f3",
                    "opacity": 0.6,
                    "symbol": "circle"
                  },
                  "mode": "markers",
                  "name": "Foam Can and Bottle Cooler",
                  "showlegend": true,
                  "type": "scattergl",
                  "x": [
                    "2016-08-13T00:00:00",
                    "2016-08-16T00:00:00",
                    "2016-08-17T00:00:00",
                    "2016-08-31T00:00:00",
                    "2016-09-03T00:00:00",
                    "2016-09-07T00:00:00",
                    "2016-09-09T00:00:00"
                  ],
                  "xaxis": "x",
                  "y": [
                    0,
                    0,
                    0,
                    0,
                    0,
                    0,
                    0
                  ],
                  "yaxis": "y"
                },
                {
                  "hovertemplate": "v2ProductName=Google Kick Ball<br>date=%{x}<br>transactions=%{y}<extra></extra>",
                  "legendgroup": "Google Kick Ball",
                  "marker": {
                    "color": "#FF6692",
                    "opacity": 0.6,
                    "symbol": "circle"
                  },
                  "mode": "markers",
                  "name": "Google Kick Ball",
                  "showlegend": true,
                  "type": "scattergl",
                  "x": [
                    "2016-08-13T00:00:00",
                    "2016-08-15T00:00:00",
                    "2016-08-26T00:00:00",
                    "2016-09-10T00:00:00",
                    "2016-09-15T00:00:00",
                    "2016-09-16T00:00:00",
                    "2016-09-17T00:00:00",
                    "2016-09-18T00:00:00",
                    "2016-09-19T00:00:00",
                    "2016-09-20T00:00:00",
                    "2016-09-21T00:00:00",
                    "2016-09-22T00:00:00",
                    "2016-09-23T00:00:00",
                    "2016-09-24T00:00:00",
                    "2016-09-25T00:00:00",
                    "2016-09-26T00:00:00",
                    "2016-09-27T00:00:00",
                    "2016-09-28T00:00:00",
                    "2016-09-29T00:00:00",
                    "2016-09-30T00:00:00",
                    "2016-10-01T00:00:00",
                    "2016-10-02T00:00:00",
                    "2016-10-03T00:00:00",
                    "2016-10-04T00:00:00",
                    "2016-10-05T00:00:00",
                    "2016-10-06T00:00:00",
                    "2016-10-07T00:00:00"
                  ],
                  "xaxis": "x",
                  "y": [
                    0,
                    0,
                    0,
                    0,
                    0,
                    3,
                    0,
                    0,
                    0,
                    1,
                    0,
                    0,
                    0,
                    1,
                    0,
                    0,
                    0,
                    0,
                    0,
                    2,
                    0,
                    0,
                    1,
                    1,
                    1,
                    1,
                    0
                  ],
                  "yaxis": "y"
                },
                {
                  "hovertemplate": "v2ProductName=Google Collapsible Pet Bowl<br>date=%{x}<br>transactions=%{y}<extra></extra>",
                  "legendgroup": "Google Collapsible Pet Bowl",
                  "marker": {
                    "color": "#B6E880",
                    "opacity": 0.6,
                    "symbol": "circle"
                  },
                  "mode": "markers",
                  "name": "Google Collapsible Pet Bowl",
                  "showlegend": true,
                  "type": "scattergl",
                  "x": [
                    "2016-08-14T00:00:00",
                    "2016-08-21T00:00:00",
                    "2016-08-26T00:00:00",
                    "2016-08-29T00:00:00",
                    "2016-09-03T00:00:00",
                    "2016-09-15T00:00:00",
                    "2016-09-16T00:00:00",
                    "2016-09-18T00:00:00",
                    "2016-09-19T00:00:00",
                    "2016-09-20T00:00:00",
                    "2016-09-21T00:00:00",
                    "2016-09-22T00:00:00",
                    "2016-09-23T00:00:00",
                    "2016-09-24T00:00:00",
                    "2016-09-26T00:00:00",
                    "2016-09-27T00:00:00",
                    "2016-09-28T00:00:00",
                    "2016-09-29T00:00:00",
                    "2016-09-30T00:00:00",
                    "2016-10-01T00:00:00",
                    "2016-10-02T00:00:00",
                    "2016-10-03T00:00:00",
                    "2016-10-04T00:00:00",
                    "2016-10-05T00:00:00",
                    "2016-10-06T00:00:00"
                  ],
                  "xaxis": "x",
                  "y": [
                    0,
                    0,
                    0,
                    0,
                    0,
                    1,
                    1,
                    0,
                    2,
                    0,
                    1,
                    1,
                    0,
                    1,
                    0,
                    0,
                    0,
                    0,
                    1,
                    0,
                    1,
                    1,
                    0,
                    0,
                    0
                  ],
                  "yaxis": "y"
                },
                {
                  "hovertemplate": "v2ProductName=SPF-15 Slim & Slender Lip Balm<br>date=%{x}<br>transactions=%{y}<extra></extra>",
                  "legendgroup": "SPF-15 Slim & Slender Lip Balm",
                  "marker": {
                    "color": "#FF97FF",
                    "opacity": 0.6,
                    "symbol": "circle"
                  },
                  "mode": "markers",
                  "name": "SPF-15 Slim & Slender Lip Balm",
                  "showlegend": true,
                  "type": "scattergl",
                  "x": [
                    "2016-08-15T00:00:00",
                    "2016-09-02T00:00:00",
                    "2016-09-10T00:00:00",
                    "2016-09-15T00:00:00",
                    "2016-09-16T00:00:00",
                    "2016-09-17T00:00:00",
                    "2016-09-18T00:00:00",
                    "2016-09-19T00:00:00",
                    "2016-09-20T00:00:00",
                    "2016-09-21T00:00:00",
                    "2016-09-22T00:00:00",
                    "2016-09-23T00:00:00",
                    "2016-09-24T00:00:00",
                    "2016-09-25T00:00:00",
                    "2016-09-26T00:00:00",
                    "2016-09-27T00:00:00",
                    "2016-09-28T00:00:00",
                    "2016-09-29T00:00:00",
                    "2016-09-30T00:00:00",
                    "2016-10-01T00:00:00",
                    "2016-10-02T00:00:00",
                    "2016-10-03T00:00:00",
                    "2016-10-04T00:00:00",
                    "2016-10-05T00:00:00",
                    "2016-10-06T00:00:00"
                  ],
                  "xaxis": "x",
                  "y": [
                    0,
                    0,
                    0,
                    0,
                    1,
                    0,
                    0,
                    0,
                    2,
                    2,
                    1,
                    0,
                    0,
                    3,
                    0,
                    0,
                    1,
                    1,
                    0,
                    0,
                    0,
                    0,
                    1,
                    2,
                    0
                  ],
                  "yaxis": "y"
                },
                {
                  "hovertemplate": "v2ProductName=Large Zipper Top Tote Bag<br>date=%{x}<br>transactions=%{y}<extra></extra>",
                  "legendgroup": "Large Zipper Top Tote Bag",
                  "marker": {
                    "color": "#FECB52",
                    "opacity": 0.6,
                    "symbol": "circle"
                  },
                  "mode": "markers",
                  "name": "Large Zipper Top Tote Bag",
                  "showlegend": true,
                  "type": "scattergl",
                  "x": [
                    "2016-08-17T00:00:00",
                    "2016-08-18T00:00:00",
                    "2016-08-19T00:00:00",
                    "2016-08-20T00:00:00",
                    "2016-08-21T00:00:00",
                    "2016-08-22T00:00:00",
                    "2016-08-23T00:00:00",
                    "2016-08-24T00:00:00",
                    "2016-08-25T00:00:00",
                    "2016-08-26T00:00:00",
                    "2016-08-27T00:00:00",
                    "2016-08-28T00:00:00",
                    "2016-08-29T00:00:00",
                    "2016-08-30T00:00:00",
                    "2016-08-31T00:00:00",
                    "2016-09-01T00:00:00",
                    "2016-09-02T00:00:00",
                    "2016-09-03T00:00:00",
                    "2016-09-04T00:00:00",
                    "2016-09-05T00:00:00",
                    "2016-09-06T00:00:00",
                    "2016-09-07T00:00:00",
                    "2016-09-08T00:00:00",
                    "2016-09-09T00:00:00",
                    "2016-09-10T00:00:00",
                    "2016-09-11T00:00:00",
                    "2016-09-12T00:00:00",
                    "2016-09-13T00:00:00",
                    "2016-09-14T00:00:00",
                    "2016-09-15T00:00:00",
                    "2016-09-16T00:00:00",
                    "2016-09-17T00:00:00",
                    "2016-09-18T00:00:00",
                    "2016-09-19T00:00:00",
                    "2016-09-20T00:00:00",
                    "2016-09-21T00:00:00",
                    "2016-09-22T00:00:00",
                    "2016-09-23T00:00:00",
                    "2016-09-24T00:00:00",
                    "2016-09-25T00:00:00",
                    "2016-09-26T00:00:00",
                    "2016-09-27T00:00:00",
                    "2016-09-28T00:00:00",
                    "2016-09-29T00:00:00",
                    "2016-09-30T00:00:00",
                    "2016-10-01T00:00:00",
                    "2016-10-02T00:00:00",
                    "2016-10-03T00:00:00",
                    "2016-10-04T00:00:00",
                    "2016-10-05T00:00:00",
                    "2016-10-06T00:00:00",
                    "2016-10-07T00:00:00",
                    "2016-10-08T00:00:00",
                    "2016-10-09T00:00:00"
                  ],
                  "xaxis": "x",
                  "y": [
                    1,
                    0,
                    0,
                    1,
                    0,
                    0,
                    0,
                    1,
                    1,
                    1,
                    0,
                    0,
                    1,
                    0,
                    1,
                    1,
                    0,
                    1,
                    0,
                    0,
                    2,
                    1,
                    0,
                    1,
                    0,
                    0,
                    1,
                    1,
                    0,
                    0,
                    0,
                    0,
                    0,
                    0,
                    0,
                    0,
                    0,
                    1,
                    0,
                    1,
                    0,
                    0,
                    1,
                    0,
                    0,
                    0,
                    0,
                    0,
                    0,
                    0,
                    1,
                    0,
                    0,
                    0
                  ],
                  "yaxis": "y"
                },
                {
                  "hovertemplate": "v2ProductName=Switch Tone Color Crayon Pen<br>date=%{x}<br>transactions=%{y}<extra></extra>",
                  "legendgroup": "Switch Tone Color Crayon Pen",
                  "marker": {
                    "color": "#636efa",
                    "opacity": 0.6,
                    "symbol": "circle"
                  },
                  "mode": "markers",
                  "name": "Switch Tone Color Crayon Pen",
                  "showlegend": true,
                  "type": "scattergl",
                  "x": [
                    "2016-08-17T00:00:00",
                    "2016-08-20T00:00:00",
                    "2016-09-01T00:00:00",
                    "2016-10-04T00:00:00",
                    "2016-10-05T00:00:00",
                    "2016-10-06T00:00:00",
                    "2016-10-07T00:00:00"
                  ],
                  "xaxis": "x",
                  "y": [
                    0,
                    0,
                    0,
                    0,
                    2,
                    0,
                    0
                  ],
                  "yaxis": "y"
                },
                {
                  "hovertemplate": "v2ProductName=Google Zipper-front Sports Bag<br>date=%{x}<br>transactions=%{y}<extra></extra>",
                  "legendgroup": "Google Zipper-front Sports Bag",
                  "marker": {
                    "color": "#EF553B",
                    "opacity": 0.6,
                    "symbol": "circle"
                  },
                  "mode": "markers",
                  "name": "Google Zipper-front Sports Bag",
                  "showlegend": true,
                  "type": "scattergl",
                  "x": [
                    "2016-08-19T00:00:00",
                    "2016-08-20T00:00:00",
                    "2016-08-21T00:00:00",
                    "2016-08-22T00:00:00",
                    "2016-08-23T00:00:00",
                    "2016-08-24T00:00:00",
                    "2016-08-25T00:00:00",
                    "2016-08-26T00:00:00",
                    "2016-08-27T00:00:00",
                    "2016-08-28T00:00:00",
                    "2016-08-29T00:00:00",
                    "2016-08-30T00:00:00",
                    "2016-08-31T00:00:00",
                    "2016-09-01T00:00:00",
                    "2016-09-02T00:00:00",
                    "2016-09-03T00:00:00",
                    "2016-09-04T00:00:00",
                    "2016-09-05T00:00:00",
                    "2016-09-06T00:00:00",
                    "2016-09-07T00:00:00",
                    "2016-09-08T00:00:00",
                    "2016-09-09T00:00:00",
                    "2016-09-10T00:00:00",
                    "2016-09-11T00:00:00",
                    "2016-09-12T00:00:00",
                    "2016-09-13T00:00:00",
                    "2016-09-14T00:00:00",
                    "2016-09-15T00:00:00",
                    "2016-09-16T00:00:00",
                    "2016-09-17T00:00:00",
                    "2016-09-18T00:00:00",
                    "2016-09-19T00:00:00",
                    "2016-09-20T00:00:00",
                    "2016-09-21T00:00:00",
                    "2016-09-22T00:00:00",
                    "2016-09-23T00:00:00",
                    "2016-09-24T00:00:00",
                    "2016-09-25T00:00:00",
                    "2016-09-26T00:00:00",
                    "2016-09-27T00:00:00",
                    "2016-09-28T00:00:00",
                    "2016-09-29T00:00:00",
                    "2016-09-30T00:00:00",
                    "2016-10-01T00:00:00",
                    "2016-10-02T00:00:00",
                    "2016-10-03T00:00:00",
                    "2016-10-04T00:00:00",
                    "2016-10-05T00:00:00",
                    "2016-10-06T00:00:00",
                    "2016-10-07T00:00:00"
                  ],
                  "xaxis": "x",
                  "y": [
                    0,
                    2,
                    0,
                    3,
                    0,
                    0,
                    0,
                    3,
                    0,
                    0,
                    0,
                    0,
                    1,
                    4,
                    0,
                    0,
                    0,
                    2,
                    0,
                    1,
                    1,
                    0,
                    2,
                    1,
                    0,
                    1,
                    0,
                    0,
                    1,
                    0,
                    0,
                    0,
                    0,
                    0,
                    2,
                    0,
                    0,
                    1,
                    2,
                    0,
                    0,
                    0,
                    0,
                    1,
                    0,
                    1,
                    0,
                    0,
                    0,
                    0
                  ],
                  "yaxis": "y"
                },
                {
                  "hovertemplate": "v2ProductName=Waterproof Gear Bag<br>date=%{x}<br>transactions=%{y}<extra></extra>",
                  "legendgroup": "Waterproof Gear Bag",
                  "marker": {
                    "color": "#00cc96",
                    "opacity": 0.6,
                    "symbol": "circle"
                  },
                  "mode": "markers",
                  "name": "Waterproof Gear Bag",
                  "showlegend": true,
                  "type": "scattergl",
                  "x": [
                    "2016-08-26T00:00:00",
                    "2016-08-27T00:00:00",
                    "2016-08-28T00:00:00",
                    "2016-08-29T00:00:00",
                    "2016-08-30T00:00:00",
                    "2016-08-31T00:00:00",
                    "2016-09-01T00:00:00",
                    "2016-09-02T00:00:00",
                    "2016-09-03T00:00:00",
                    "2016-09-04T00:00:00",
                    "2016-09-05T00:00:00",
                    "2016-09-06T00:00:00",
                    "2016-09-07T00:00:00",
                    "2016-09-08T00:00:00",
                    "2016-09-09T00:00:00",
                    "2016-09-10T00:00:00",
                    "2016-09-11T00:00:00",
                    "2016-09-12T00:00:00",
                    "2016-09-13T00:00:00",
                    "2016-09-14T00:00:00",
                    "2016-09-15T00:00:00",
                    "2016-09-16T00:00:00",
                    "2016-09-17T00:00:00",
                    "2016-09-18T00:00:00",
                    "2016-09-19T00:00:00",
                    "2016-09-20T00:00:00",
                    "2016-09-21T00:00:00",
                    "2016-09-22T00:00:00",
                    "2016-09-23T00:00:00",
                    "2016-09-24T00:00:00",
                    "2016-09-25T00:00:00",
                    "2016-09-26T00:00:00",
                    "2016-09-27T00:00:00",
                    "2016-09-28T00:00:00",
                    "2016-09-29T00:00:00",
                    "2017-04-03T00:00:00",
                    "2017-04-04T00:00:00",
                    "2017-04-24T00:00:00"
                  ],
                  "xaxis": "x",
                  "y": [
                    1,
                    0,
                    2,
                    5,
                    1,
                    1,
                    1,
                    1,
                    0,
                    1,
                    0,
                    1,
                    2,
                    1,
                    0,
                    1,
                    1,
                    0,
                    2,
                    2,
                    0,
                    1,
                    0,
                    1,
                    0,
                    1,
                    1,
                    0,
                    0,
                    0,
                    0,
                    0,
                    0,
                    1,
                    0,
                    0,
                    0,
                    0
                  ],
                  "yaxis": "y"
                },
                {
                  "hovertemplate": "v2ProductName=YouTube Custom Decals<br>date=%{x}<br>transactions=%{y}<extra></extra>",
                  "legendgroup": "YouTube Custom Decals",
                  "marker": {
                    "color": "#ab63fa",
                    "opacity": 0.6,
                    "symbol": "circle"
                  },
                  "mode": "markers",
                  "name": "YouTube Custom Decals",
                  "showlegend": true,
                  "type": "scattergl",
                  "x": [
                    "2016-09-02T00:00:00",
                    "2016-09-05T00:00:00",
                    "2016-09-14T00:00:00"
                  ],
                  "xaxis": "x",
                  "y": [
                    0,
                    0,
                    0
                  ],
                  "yaxis": "y"
                },
                {
                  "hovertemplate": "v2ProductName=Android Sticker Sheet Ultra Removable<br>date=%{x}<br>transactions=%{y}<extra></extra>",
                  "legendgroup": "Android Sticker Sheet Ultra Removable",
                  "marker": {
                    "color": "#FFA15A",
                    "opacity": 0.6,
                    "symbol": "circle"
                  },
                  "mode": "markers",
                  "name": "Android Sticker Sheet Ultra Removable",
                  "showlegend": true,
                  "type": "scattergl",
                  "x": [
                    "2016-09-14T00:00:00"
                  ],
                  "xaxis": "x",
                  "y": [
                    0
                  ],
                  "yaxis": "y"
                },
                {
                  "hovertemplate": "v2ProductName=7&quot; Dog Frisbee<br>date=%{x}<br>transactions=%{y}<extra></extra>",
                  "legendgroup": "7&quot; Dog Frisbee",
                  "marker": {
                    "color": "#19d3f3",
                    "opacity": 0.6,
                    "symbol": "circle"
                  },
                  "mode": "markers",
                  "name": "7&quot; Dog Frisbee",
                  "showlegend": true,
                  "type": "scattergl",
                  "x": [
                    "2016-09-15T00:00:00",
                    "2016-09-16T00:00:00",
                    "2016-09-17T00:00:00",
                    "2016-09-18T00:00:00",
                    "2016-09-19T00:00:00",
                    "2016-09-20T00:00:00",
                    "2016-09-21T00:00:00",
                    "2016-09-22T00:00:00",
                    "2016-09-23T00:00:00",
                    "2016-09-24T00:00:00",
                    "2016-09-26T00:00:00",
                    "2016-09-27T00:00:00",
                    "2016-09-28T00:00:00",
                    "2016-09-29T00:00:00",
                    "2016-09-30T00:00:00",
                    "2016-10-01T00:00:00",
                    "2016-10-02T00:00:00",
                    "2016-10-04T00:00:00",
                    "2016-10-05T00:00:00",
                    "2016-10-06T00:00:00",
                    "2016-10-07T00:00:00"
                  ],
                  "xaxis": "x",
                  "y": [
                    0,
                    0,
                    0,
                    0,
                    0,
                    0,
                    0,
                    0,
                    0,
                    0,
                    1,
                    1,
                    0,
                    0,
                    1,
                    0,
                    1,
                    0,
                    0,
                    0,
                    0
                  ],
                  "yaxis": "y"
                },
                {
                  "hovertemplate": "v2ProductName=Crunch-It Dog Toy<br>date=%{x}<br>transactions=%{y}<extra></extra>",
                  "legendgroup": "Crunch-It Dog Toy",
                  "marker": {
                    "color": "#FF6692",
                    "opacity": 0.6,
                    "symbol": "circle"
                  },
                  "mode": "markers",
                  "name": "Crunch-It Dog Toy",
                  "showlegend": true,
                  "type": "scattergl",
                  "x": [
                    "2016-09-15T00:00:00",
                    "2016-09-16T00:00:00",
                    "2016-09-17T00:00:00",
                    "2016-09-18T00:00:00",
                    "2016-09-19T00:00:00",
                    "2016-09-20T00:00:00",
                    "2016-09-21T00:00:00",
                    "2016-09-22T00:00:00",
                    "2016-09-23T00:00:00",
                    "2016-09-24T00:00:00",
                    "2016-09-25T00:00:00",
                    "2016-09-26T00:00:00",
                    "2016-09-27T00:00:00",
                    "2016-09-28T00:00:00",
                    "2016-09-30T00:00:00",
                    "2016-10-01T00:00:00",
                    "2016-10-02T00:00:00",
                    "2016-10-03T00:00:00"
                  ],
                  "xaxis": "x",
                  "y": [
                    0,
                    2,
                    0,
                    0,
                    0,
                    0,
                    0,
                    2,
                    0,
                    0,
                    0,
                    1,
                    0,
                    0,
                    2,
                    0,
                    0,
                    0
                  ],
                  "yaxis": "y"
                },
                {
                  "hovertemplate": "v2ProductName=Google Pet Feeding Mat<br>date=%{x}<br>transactions=%{y}<extra></extra>",
                  "legendgroup": "Google Pet Feeding Mat",
                  "marker": {
                    "color": "#B6E880",
                    "opacity": 0.6,
                    "symbol": "circle"
                  },
                  "mode": "markers",
                  "name": "Google Pet Feeding Mat",
                  "showlegend": true,
                  "type": "scattergl",
                  "x": [
                    "2016-09-15T00:00:00",
                    "2016-09-16T00:00:00",
                    "2016-09-17T00:00:00",
                    "2016-09-18T00:00:00",
                    "2016-09-19T00:00:00",
                    "2016-09-20T00:00:00",
                    "2016-09-21T00:00:00",
                    "2016-09-22T00:00:00",
                    "2016-09-23T00:00:00",
                    "2016-09-25T00:00:00",
                    "2016-09-26T00:00:00",
                    "2016-09-27T00:00:00",
                    "2016-09-28T00:00:00",
                    "2016-09-29T00:00:00",
                    "2016-09-30T00:00:00",
                    "2016-10-02T00:00:00",
                    "2016-10-03T00:00:00",
                    "2016-10-04T00:00:00",
                    "2016-10-05T00:00:00",
                    "2016-10-06T00:00:00",
                    "2017-05-06T00:00:00"
                  ],
                  "xaxis": "x",
                  "y": [
                    0,
                    0,
                    0,
                    0,
                    0,
                    1,
                    0,
                    0,
                    0,
                    0,
                    0,
                    0,
                    1,
                    0,
                    0,
                    2,
                    0,
                    0,
                    0,
                    1,
                    0
                  ],
                  "yaxis": "y"
                },
                {
                  "hovertemplate": "v2ProductName=Seat Pack Organizer<br>date=%{x}<br>transactions=%{y}<extra></extra>",
                  "legendgroup": "Seat Pack Organizer",
                  "marker": {
                    "color": "#FF97FF",
                    "opacity": 0.6,
                    "symbol": "circle"
                  },
                  "mode": "markers",
                  "name": "Seat Pack Organizer",
                  "showlegend": true,
                  "type": "scattergl",
                  "x": [
                    "2016-09-15T00:00:00",
                    "2016-09-16T00:00:00",
                    "2016-09-17T00:00:00",
                    "2016-09-18T00:00:00",
                    "2016-09-19T00:00:00",
                    "2016-09-20T00:00:00",
                    "2016-09-21T00:00:00",
                    "2016-09-22T00:00:00",
                    "2016-09-23T00:00:00",
                    "2016-09-24T00:00:00",
                    "2016-09-25T00:00:00",
                    "2016-09-26T00:00:00",
                    "2016-09-27T00:00:00",
                    "2016-09-28T00:00:00",
                    "2016-09-29T00:00:00",
                    "2016-09-30T00:00:00",
                    "2016-10-01T00:00:00",
                    "2016-10-02T00:00:00",
                    "2016-10-03T00:00:00",
                    "2016-10-04T00:00:00",
                    "2016-10-05T00:00:00",
                    "2016-10-06T00:00:00"
                  ],
                  "xaxis": "x",
                  "y": [
                    0,
                    1,
                    0,
                    0,
                    0,
                    0,
                    1,
                    1,
                    0,
                    0,
                    1,
                    0,
                    1,
                    0,
                    1,
                    1,
                    0,
                    1,
                    0,
                    0,
                    0,
                    1
                  ],
                  "yaxis": "y"
                },
                {
                  "hovertemplate": "v2ProductName=Softsided Travel Pouch Set<br>date=%{x}<br>transactions=%{y}<extra></extra>",
                  "legendgroup": "Softsided Travel Pouch Set",
                  "marker": {
                    "color": "#FECB52",
                    "opacity": 0.6,
                    "symbol": "circle"
                  },
                  "mode": "markers",
                  "name": "Softsided Travel Pouch Set",
                  "showlegend": true,
                  "type": "scattergl",
                  "x": [
                    "2016-09-15T00:00:00",
                    "2016-09-16T00:00:00",
                    "2016-09-17T00:00:00",
                    "2016-09-18T00:00:00",
                    "2016-09-19T00:00:00",
                    "2016-09-20T00:00:00",
                    "2016-09-21T00:00:00",
                    "2016-09-22T00:00:00",
                    "2016-09-23T00:00:00",
                    "2016-09-24T00:00:00",
                    "2016-09-25T00:00:00",
                    "2016-09-26T00:00:00",
                    "2016-09-27T00:00:00",
                    "2016-09-28T00:00:00",
                    "2016-09-29T00:00:00",
                    "2016-09-30T00:00:00",
                    "2016-10-01T00:00:00",
                    "2016-10-02T00:00:00",
                    "2016-10-03T00:00:00",
                    "2016-10-04T00:00:00",
                    "2016-10-05T00:00:00",
                    "2016-10-06T00:00:00",
                    "2016-10-07T00:00:00"
                  ],
                  "xaxis": "x",
                  "y": [
                    0,
                    2,
                    0,
                    1,
                    0,
                    1,
                    1,
                    1,
                    0,
                    0,
                    1,
                    2,
                    1,
                    0,
                    1,
                    1,
                    0,
                    2,
                    0,
                    0,
                    2,
                    0,
                    0
                  ],
                  "yaxis": "y"
                },
                {
                  "hovertemplate": "v2ProductName=Suitcase Organizer Cubes<br>date=%{x}<br>transactions=%{y}<extra></extra>",
                  "legendgroup": "Suitcase Organizer Cubes",
                  "marker": {
                    "color": "#636efa",
                    "opacity": 0.6,
                    "symbol": "circle"
                  },
                  "mode": "markers",
                  "name": "Suitcase Organizer Cubes",
                  "showlegend": true,
                  "type": "scattergl",
                  "x": [
                    "2016-09-15T00:00:00",
                    "2016-09-16T00:00:00",
                    "2016-09-17T00:00:00",
                    "2016-09-18T00:00:00",
                    "2016-09-19T00:00:00",
                    "2016-09-20T00:00:00",
                    "2016-09-21T00:00:00",
                    "2016-09-22T00:00:00",
                    "2016-09-23T00:00:00",
                    "2016-09-24T00:00:00",
                    "2016-09-25T00:00:00",
                    "2016-09-26T00:00:00",
                    "2016-09-27T00:00:00",
                    "2016-09-28T00:00:00",
                    "2016-09-29T00:00:00",
                    "2016-09-30T00:00:00",
                    "2016-10-01T00:00:00",
                    "2016-10-02T00:00:00",
                    "2016-10-03T00:00:00",
                    "2016-10-04T00:00:00",
                    "2016-10-05T00:00:00",
                    "2016-10-06T00:00:00",
                    "2016-10-07T00:00:00",
                    "2017-07-21T00:00:00"
                  ],
                  "xaxis": "x",
                  "y": [
                    2,
                    0,
                    0,
                    0,
                    1,
                    1,
                    0,
                    0,
                    0,
                    0,
                    2,
                    0,
                    0,
                    0,
                    2,
                    1,
                    0,
                    0,
                    0,
                    0,
                    1,
                    0,
                    0,
                    0
                  ],
                  "yaxis": "y"
                },
                {
                  "hovertemplate": "v2ProductName=7\" Dog Frisbee<br>date=%{x}<br>transactions=%{y}<extra></extra>",
                  "legendgroup": "7\" Dog Frisbee",
                  "marker": {
                    "color": "#EF553B",
                    "opacity": 0.6,
                    "symbol": "circle"
                  },
                  "mode": "markers",
                  "name": "7\" Dog Frisbee",
                  "showlegend": true,
                  "type": "scattergl",
                  "x": [
                    "2016-09-16T00:00:00",
                    "2016-09-20T00:00:00",
                    "2016-09-27T00:00:00",
                    "2016-09-29T00:00:00"
                  ],
                  "xaxis": "x",
                  "y": [
                    0,
                    0,
                    0,
                    0
                  ],
                  "yaxis": "y"
                },
                {
                  "hovertemplate": "v2ProductName=Fashion Sunglasses & Pouch<br>date=%{x}<br>transactions=%{y}<extra></extra>",
                  "legendgroup": "Fashion Sunglasses & Pouch",
                  "marker": {
                    "color": "#00cc96",
                    "opacity": 0.6,
                    "symbol": "circle"
                  },
                  "mode": "markers",
                  "name": "Fashion Sunglasses & Pouch",
                  "showlegend": true,
                  "type": "scattergl",
                  "x": [
                    "2016-09-16T00:00:00",
                    "2016-09-17T00:00:00",
                    "2016-09-18T00:00:00",
                    "2016-09-19T00:00:00",
                    "2016-09-20T00:00:00",
                    "2016-09-21T00:00:00",
                    "2016-09-22T00:00:00",
                    "2016-09-23T00:00:00",
                    "2016-09-24T00:00:00",
                    "2016-09-25T00:00:00",
                    "2016-09-26T00:00:00",
                    "2016-09-27T00:00:00",
                    "2016-09-28T00:00:00",
                    "2016-09-29T00:00:00",
                    "2016-09-30T00:00:00",
                    "2016-10-01T00:00:00",
                    "2016-10-02T00:00:00",
                    "2016-10-03T00:00:00",
                    "2016-10-04T00:00:00",
                    "2016-10-05T00:00:00",
                    "2016-10-06T00:00:00",
                    "2016-10-07T00:00:00"
                  ],
                  "xaxis": "x",
                  "y": [
                    1,
                    0,
                    0,
                    0,
                    3,
                    0,
                    0,
                    0,
                    1,
                    0,
                    0,
                    1,
                    2,
                    1,
                    0,
                    0,
                    1,
                    2,
                    0,
                    1,
                    0,
                    0
                  ],
                  "yaxis": "y"
                },
                {
                  "hovertemplate": "v2ProductName=Crunch Noise Dog Toy<br>date=%{x}<br>transactions=%{y}<extra></extra>",
                  "legendgroup": "Crunch Noise Dog Toy",
                  "marker": {
                    "color": "#ab63fa",
                    "opacity": 0.6,
                    "symbol": "circle"
                  },
                  "mode": "markers",
                  "name": "Crunch Noise Dog Toy",
                  "showlegend": true,
                  "type": "scattergl",
                  "x": [
                    "2016-10-04T00:00:00",
                    "2016-10-05T00:00:00",
                    "2016-10-06T00:00:00",
                    "2016-10-07T00:00:00"
                  ],
                  "xaxis": "x",
                  "y": [
                    0,
                    0,
                    0,
                    0
                  ],
                  "yaxis": "y"
                },
                {
                  "hovertemplate": "v2ProductName=YouTube Luggage Tag<br>date=%{x}<br>transactions=%{y}<extra></extra>",
                  "legendgroup": "YouTube Luggage Tag",
                  "marker": {
                    "color": "#FFA15A",
                    "opacity": 0.6,
                    "symbol": "circle"
                  },
                  "mode": "markers",
                  "name": "YouTube Luggage Tag",
                  "showlegend": true,
                  "type": "scattergl",
                  "x": [
                    "2016-10-04T00:00:00",
                    "2016-10-05T00:00:00",
                    "2016-10-06T00:00:00",
                    "2017-04-10T00:00:00"
                  ],
                  "xaxis": "x",
                  "y": [
                    1,
                    0,
                    0,
                    0
                  ],
                  "yaxis": "y"
                },
                {
                  "hovertemplate": "v2ProductName=Android Luggage Tag<br>date=%{x}<br>transactions=%{y}<extra></extra>",
                  "legendgroup": "Android Luggage Tag",
                  "marker": {
                    "color": "#19d3f3",
                    "opacity": 0.6,
                    "symbol": "circle"
                  },
                  "mode": "markers",
                  "name": "Android Luggage Tag",
                  "showlegend": true,
                  "type": "scattergl",
                  "x": [
                    "2016-10-05T00:00:00",
                    "2016-10-06T00:00:00"
                  ],
                  "xaxis": "x",
                  "y": [
                    1,
                    0
                  ],
                  "yaxis": "y"
                },
                {
                  "hovertemplate": "v2ProductName=25L Classic Rucksack<br>date=%{x}<br>transactions=%{y}<extra></extra>",
                  "legendgroup": "25L Classic Rucksack",
                  "marker": {
                    "color": "#FF6692",
                    "opacity": 0.6,
                    "symbol": "circle"
                  },
                  "mode": "markers",
                  "name": "25L Classic Rucksack",
                  "showlegend": true,
                  "type": "scattergl",
                  "x": [
                    "2016-12-10T00:00:00"
                  ],
                  "xaxis": "x",
                  "y": [
                    0
                  ],
                  "yaxis": "y"
                },
                {
                  "hovertemplate": "v2ProductName=Google Women's Yoga Jacket Black<br>date=%{x}<br>transactions=%{y}<extra></extra>",
                  "legendgroup": "Google Women's Yoga Jacket Black",
                  "marker": {
                    "color": "#B6E880",
                    "opacity": 0.6,
                    "symbol": "circle"
                  },
                  "mode": "markers",
                  "name": "Google Women's Yoga Jacket Black",
                  "showlegend": true,
                  "type": "scattergl",
                  "x": [
                    "2017-01-04T00:00:00",
                    "2017-01-05T00:00:00"
                  ],
                  "xaxis": "x",
                  "y": [
                    1,
                    0
                  ],
                  "yaxis": "y"
                },
                {
                  "hovertemplate": "v2ProductName=Google Men's Microfiber 1/4 Zip Pullover Blue/Indigo<br>date=%{x}<br>transactions=%{y}<extra></extra>",
                  "legendgroup": "Google Men's Microfiber 1/4 Zip Pullover Blue/Indigo",
                  "marker": {
                    "color": "#FF97FF",
                    "opacity": 0.6,
                    "symbol": "circle"
                  },
                  "mode": "markers",
                  "name": "Google Men's Microfiber 1/4 Zip Pullover Blue/Indigo",
                  "showlegend": true,
                  "type": "scattergl",
                  "x": [
                    "2017-01-06T00:00:00"
                  ],
                  "xaxis": "x",
                  "y": [
                    0
                  ],
                  "yaxis": "y"
                },
                {
                  "hovertemplate": "v2ProductName=Google Women's Short Sleeve Hero Tee Black<br>date=%{x}<br>transactions=%{y}<extra></extra>",
                  "legendgroup": "Google Women's Short Sleeve Hero Tee Black",
                  "marker": {
                    "color": "#FECB52",
                    "opacity": 0.6,
                    "symbol": "circle"
                  },
                  "mode": "markers",
                  "name": "Google Women's Short Sleeve Hero Tee Black",
                  "showlegend": true,
                  "type": "scattergl",
                  "x": [
                    "2017-01-08T00:00:00",
                    "2017-01-09T00:00:00",
                    "2017-02-01T00:00:00",
                    "2017-07-22T00:00:00",
                    "2017-07-26T00:00:00",
                    "2017-07-27T00:00:00",
                    "2017-07-28T00:00:00"
                  ],
                  "xaxis": "x",
                  "y": [
                    0,
                    0,
                    0,
                    0,
                    0,
                    0,
                    0
                  ],
                  "yaxis": "y"
                },
                {
                  "hovertemplate": "v2ProductName=Nest® Cam Outdoor Security Camera - USA<br>date=%{x}<br>transactions=%{y}<extra></extra>",
                  "legendgroup": "Nest® Cam Outdoor Security Camera - USA",
                  "marker": {
                    "color": "#636efa",
                    "opacity": 0.6,
                    "symbol": "circle"
                  },
                  "mode": "markers",
                  "name": "Nest® Cam Outdoor Security Camera - USA",
                  "showlegend": true,
                  "type": "scattergl",
                  "x": [
                    "2017-01-19T00:00:00"
                  ],
                  "xaxis": "x",
                  "y": [
                    0
                  ],
                  "yaxis": "y"
                },
                {
                  "hovertemplate": "v2ProductName=Google Snapback Hat Black<br>date=%{x}<br>transactions=%{y}<extra></extra>",
                  "legendgroup": "Google Snapback Hat Black",
                  "marker": {
                    "color": "#EF553B",
                    "opacity": 0.6,
                    "symbol": "circle"
                  },
                  "mode": "markers",
                  "name": "Google Snapback Hat Black",
                  "showlegend": true,
                  "type": "scattergl",
                  "x": [
                    "2017-01-25T00:00:00",
                    "2017-01-26T00:00:00",
                    "2017-08-01T00:00:00"
                  ],
                  "xaxis": "x",
                  "y": [
                    0,
                    0,
                    0
                  ],
                  "yaxis": "y"
                },
                {
                  "hovertemplate": "v2ProductName=Google Women's 1/4 Zip Jacket Charcoal<br>date=%{x}<br>transactions=%{y}<extra></extra>",
                  "legendgroup": "Google Women's 1/4 Zip Jacket Charcoal",
                  "marker": {
                    "color": "#00cc96",
                    "opacity": 0.6,
                    "symbol": "circle"
                  },
                  "mode": "markers",
                  "name": "Google Women's 1/4 Zip Jacket Charcoal",
                  "showlegend": true,
                  "type": "scattergl",
                  "x": [
                    "2017-01-25T00:00:00"
                  ],
                  "xaxis": "x",
                  "y": [
                    0
                  ],
                  "yaxis": "y"
                },
                {
                  "hovertemplate": "v2ProductName=Google Men's 100% Cotton Short Sleeve Hero Tee Black<br>date=%{x}<br>transactions=%{y}<extra></extra>",
                  "legendgroup": "Google Men's 100% Cotton Short Sleeve Hero Tee Black",
                  "marker": {
                    "color": "#ab63fa",
                    "opacity": 0.6,
                    "symbol": "circle"
                  },
                  "mode": "markers",
                  "name": "Google Men's 100% Cotton Short Sleeve Hero Tee Black",
                  "showlegend": true,
                  "type": "scattergl",
                  "x": [
                    "2017-02-03T00:00:00",
                    "2017-04-14T00:00:00",
                    "2017-04-15T00:00:00",
                    "2017-04-16T00:00:00"
                  ],
                  "xaxis": "x",
                  "y": [
                    0,
                    0,
                    0,
                    1
                  ],
                  "yaxis": "y"
                },
                {
                  "hovertemplate": "v2ProductName=Google Women's Performance Full Zip Jacket Black<br>date=%{x}<br>transactions=%{y}<extra></extra>",
                  "legendgroup": "Google Women's Performance Full Zip Jacket Black",
                  "marker": {
                    "color": "#FFA15A",
                    "opacity": 0.6,
                    "symbol": "circle"
                  },
                  "mode": "markers",
                  "name": "Google Women's Performance Full Zip Jacket Black",
                  "showlegend": true,
                  "type": "scattergl",
                  "x": [
                    "2017-02-07T00:00:00",
                    "2017-02-22T00:00:00",
                    "2017-02-23T00:00:00"
                  ],
                  "xaxis": "x",
                  "y": [
                    0,
                    0,
                    0
                  ],
                  "yaxis": "y"
                },
                {
                  "hovertemplate": "v2ProductName=Google Women's Lightweight Microfleece Jacket<br>date=%{x}<br>transactions=%{y}<extra></extra>",
                  "legendgroup": "Google Women's Lightweight Microfleece Jacket",
                  "marker": {
                    "color": "#19d3f3",
                    "opacity": 0.6,
                    "symbol": "circle"
                  },
                  "mode": "markers",
                  "name": "Google Women's Lightweight Microfleece Jacket",
                  "showlegend": true,
                  "type": "scattergl",
                  "x": [
                    "2017-02-08T00:00:00"
                  ],
                  "xaxis": "x",
                  "y": [
                    0
                  ],
                  "yaxis": "y"
                },
                {
                  "hovertemplate": "v2ProductName=Google Women's Convertible Vest-Jacket Sea Foam Green<br>date=%{x}<br>transactions=%{y}<extra></extra>",
                  "legendgroup": "Google Women's Convertible Vest-Jacket Sea Foam Green",
                  "marker": {
                    "color": "#FF6692",
                    "opacity": 0.6,
                    "symbol": "circle"
                  },
                  "mode": "markers",
                  "name": "Google Women's Convertible Vest-Jacket Sea Foam Green",
                  "showlegend": true,
                  "type": "scattergl",
                  "x": [
                    "2017-02-09T00:00:00"
                  ],
                  "xaxis": "x",
                  "y": [
                    0
                  ],
                  "yaxis": "y"
                },
                {
                  "hovertemplate": "v2ProductName=Google Men's Watershed Full Zip Hoodie Grey<br>date=%{x}<br>transactions=%{y}<extra></extra>",
                  "legendgroup": "Google Men's Watershed Full Zip Hoodie Grey",
                  "marker": {
                    "color": "#B6E880",
                    "opacity": 0.6,
                    "symbol": "circle"
                  },
                  "mode": "markers",
                  "name": "Google Men's Watershed Full Zip Hoodie Grey",
                  "showlegend": true,
                  "type": "scattergl",
                  "x": [
                    "2017-02-10T00:00:00",
                    "2017-02-11T00:00:00",
                    "2017-02-20T00:00:00",
                    "2017-06-02T00:00:00",
                    "2017-06-04T00:00:00"
                  ],
                  "xaxis": "x",
                  "y": [
                    0,
                    0,
                    0,
                    0,
                    0
                  ],
                  "yaxis": "y"
                },
                {
                  "hovertemplate": "v2ProductName=Google Tri-blend Hoodie Grey<br>date=%{x}<br>transactions=%{y}<extra></extra>",
                  "legendgroup": "Google Tri-blend Hoodie Grey",
                  "marker": {
                    "color": "#FF97FF",
                    "opacity": 0.6,
                    "symbol": "circle"
                  },
                  "mode": "markers",
                  "name": "Google Tri-blend Hoodie Grey",
                  "showlegend": true,
                  "type": "scattergl",
                  "x": [
                    "2017-02-15T00:00:00"
                  ],
                  "xaxis": "x",
                  "y": [
                    0
                  ],
                  "yaxis": "y"
                },
                {
                  "hovertemplate": "v2ProductName=Google Men's Performance Full Zip Jacket Black<br>date=%{x}<br>transactions=%{y}<extra></extra>",
                  "legendgroup": "Google Men's Performance Full Zip Jacket Black",
                  "marker": {
                    "color": "#FECB52",
                    "opacity": 0.6,
                    "symbol": "circle"
                  },
                  "mode": "markers",
                  "name": "Google Men's Performance Full Zip Jacket Black",
                  "showlegend": true,
                  "type": "scattergl",
                  "x": [
                    "2017-02-16T00:00:00",
                    "2017-07-15T00:00:00",
                    "2017-07-16T00:00:00"
                  ],
                  "xaxis": "x",
                  "y": [
                    0,
                    0,
                    0
                  ],
                  "yaxis": "y"
                },
                {
                  "hovertemplate": "v2ProductName=Android Women's Fleece Hoodie<br>date=%{x}<br>transactions=%{y}<extra></extra>",
                  "legendgroup": "Android Women's Fleece Hoodie",
                  "marker": {
                    "color": "#636efa",
                    "opacity": 0.6,
                    "symbol": "circle"
                  },
                  "mode": "markers",
                  "name": "Android Women's Fleece Hoodie",
                  "showlegend": true,
                  "type": "scattergl",
                  "x": [
                    "2017-02-18T00:00:00"
                  ],
                  "xaxis": "x",
                  "y": [
                    0
                  ],
                  "yaxis": "y"
                },
                {
                  "hovertemplate": "v2ProductName=Google Men's 100% Cotton Short Sleeve Hero Tee Navy<br>date=%{x}<br>transactions=%{y}<extra></extra>",
                  "legendgroup": "Google Men's 100% Cotton Short Sleeve Hero Tee Navy",
                  "marker": {
                    "color": "#EF553B",
                    "opacity": 0.6,
                    "symbol": "circle"
                  },
                  "mode": "markers",
                  "name": "Google Men's 100% Cotton Short Sleeve Hero Tee Navy",
                  "showlegend": true,
                  "type": "scattergl",
                  "x": [
                    "2017-02-18T00:00:00",
                    "2017-02-20T00:00:00"
                  ],
                  "xaxis": "x",
                  "y": [
                    0,
                    0
                  ],
                  "yaxis": "y"
                },
                {
                  "hovertemplate": "v2ProductName=Google Women's Short Sleeve Hero Tee Sky Blue<br>date=%{x}<br>transactions=%{y}<extra></extra>",
                  "legendgroup": "Google Women's Short Sleeve Hero Tee Sky Blue",
                  "marker": {
                    "color": "#00cc96",
                    "opacity": 0.6,
                    "symbol": "circle"
                  },
                  "mode": "markers",
                  "name": "Google Women's Short Sleeve Hero Tee Sky Blue",
                  "showlegend": true,
                  "type": "scattergl",
                  "x": [
                    "2017-02-23T00:00:00",
                    "2017-02-25T00:00:00",
                    "2017-02-28T00:00:00"
                  ],
                  "xaxis": "x",
                  "y": [
                    0,
                    0,
                    0
                  ],
                  "yaxis": "y"
                },
                {
                  "hovertemplate": "v2ProductName=Android Hard Cover Journal<br>date=%{x}<br>transactions=%{y}<extra></extra>",
                  "legendgroup": "Android Hard Cover Journal",
                  "marker": {
                    "color": "#ab63fa",
                    "opacity": 0.6,
                    "symbol": "circle"
                  },
                  "mode": "markers",
                  "name": "Android Hard Cover Journal",
                  "showlegend": true,
                  "type": "scattergl",
                  "x": [
                    "2017-02-26T00:00:00",
                    "2017-04-25T00:00:00"
                  ],
                  "xaxis": "x",
                  "y": [
                    0,
                    0
                  ],
                  "yaxis": "y"
                },
                {
                  "hovertemplate": "v2ProductName=Gunmetal Roller Ball Pen<br>date=%{x}<br>transactions=%{y}<extra></extra>",
                  "legendgroup": "Gunmetal Roller Ball Pen",
                  "marker": {
                    "color": "#FFA15A",
                    "opacity": 0.6,
                    "symbol": "circle"
                  },
                  "mode": "markers",
                  "name": "Gunmetal Roller Ball Pen",
                  "showlegend": true,
                  "type": "scattergl",
                  "x": [
                    "2017-03-05T00:00:00",
                    "2017-03-06T00:00:00",
                    "2017-03-23T00:00:00"
                  ],
                  "xaxis": "x",
                  "y": [
                    0,
                    0,
                    0
                  ],
                  "yaxis": "y"
                },
                {
                  "hovertemplate": "v2ProductName=Maze Pen<br>date=%{x}<br>transactions=%{y}<extra></extra>",
                  "legendgroup": "Maze Pen",
                  "marker": {
                    "color": "#19d3f3",
                    "opacity": 0.6,
                    "symbol": "circle"
                  },
                  "mode": "markers",
                  "name": "Maze Pen",
                  "showlegend": true,
                  "type": "scattergl",
                  "x": [
                    "2017-03-05T00:00:00"
                  ],
                  "xaxis": "x",
                  "y": [
                    0
                  ],
                  "yaxis": "y"
                },
                {
                  "hovertemplate": "v2ProductName=Google Men's Pullover Hoodie Grey<br>date=%{x}<br>transactions=%{y}<extra></extra>",
                  "legendgroup": "Google Men's Pullover Hoodie Grey",
                  "marker": {
                    "color": "#FF6692",
                    "opacity": 0.6,
                    "symbol": "circle"
                  },
                  "mode": "markers",
                  "name": "Google Men's Pullover Hoodie Grey",
                  "showlegend": true,
                  "type": "scattergl",
                  "x": [
                    "2017-03-06T00:00:00",
                    "2017-03-14T00:00:00"
                  ],
                  "xaxis": "x",
                  "y": [
                    0,
                    0
                  ],
                  "yaxis": "y"
                },
                {
                  "hovertemplate": "v2ProductName=Google Toddler Short Sleeve T-shirt Yellow<br>date=%{x}<br>transactions=%{y}<extra></extra>",
                  "legendgroup": "Google Toddler Short Sleeve T-shirt Yellow",
                  "marker": {
                    "color": "#B6E880",
                    "opacity": 0.6,
                    "symbol": "circle"
                  },
                  "mode": "markers",
                  "name": "Google Toddler Short Sleeve T-shirt Yellow",
                  "showlegend": true,
                  "type": "scattergl",
                  "x": [
                    "2017-03-08T00:00:00"
                  ],
                  "xaxis": "x",
                  "y": [
                    0
                  ],
                  "yaxis": "y"
                },
                {
                  "hovertemplate": "v2ProductName=Google Women's Short Sleeve Badge Tee Red Heather<br>date=%{x}<br>transactions=%{y}<extra></extra>",
                  "legendgroup": "Google Women's Short Sleeve Badge Tee Red Heather",
                  "marker": {
                    "color": "#FF97FF",
                    "opacity": 0.6,
                    "symbol": "circle"
                  },
                  "mode": "markers",
                  "name": "Google Women's Short Sleeve Badge Tee Red Heather",
                  "showlegend": true,
                  "type": "scattergl",
                  "x": [
                    "2017-03-10T00:00:00"
                  ],
                  "xaxis": "x",
                  "y": [
                    0
                  ],
                  "yaxis": "y"
                },
                {
                  "hovertemplate": "v2ProductName=Google G Noise-reducing Bluetooth Headphones<br>date=%{x}<br>transactions=%{y}<extra></extra>",
                  "legendgroup": "Google G Noise-reducing Bluetooth Headphones",
                  "marker": {
                    "color": "#FECB52",
                    "opacity": 0.6,
                    "symbol": "circle"
                  },
                  "mode": "markers",
                  "name": "Google G Noise-reducing Bluetooth Headphones",
                  "showlegend": true,
                  "type": "scattergl",
                  "x": [
                    "2017-03-13T00:00:00",
                    "2017-07-07T00:00:00"
                  ],
                  "xaxis": "x",
                  "y": [
                    0,
                    0
                  ],
                  "yaxis": "y"
                },
                {
                  "hovertemplate": "v2ProductName=YouTube RFID Journal<br>date=%{x}<br>transactions=%{y}<extra></extra>",
                  "legendgroup": "YouTube RFID Journal",
                  "marker": {
                    "color": "#636efa",
                    "opacity": 0.6,
                    "symbol": "circle"
                  },
                  "mode": "markers",
                  "name": "YouTube RFID Journal",
                  "showlegend": true,
                  "type": "scattergl",
                  "x": [
                    "2017-04-07T00:00:00",
                    "2017-04-08T00:00:00"
                  ],
                  "xaxis": "x",
                  "y": [
                    1,
                    0
                  ],
                  "yaxis": "y"
                },
                {
                  "hovertemplate": "v2ProductName=Google Men's 100% Cotton Short Sleeve Hero Tee White<br>date=%{x}<br>transactions=%{y}<extra></extra>",
                  "legendgroup": "Google Men's 100% Cotton Short Sleeve Hero Tee White",
                  "marker": {
                    "color": "#EF553B",
                    "opacity": 0.6,
                    "symbol": "circle"
                  },
                  "mode": "markers",
                  "name": "Google Men's 100% Cotton Short Sleeve Hero Tee White",
                  "showlegend": true,
                  "type": "scattergl",
                  "x": [
                    "2017-04-08T00:00:00"
                  ],
                  "xaxis": "x",
                  "y": [
                    0
                  ],
                  "yaxis": "y"
                },
                {
                  "hovertemplate": "v2ProductName=26 oz Double Wall Insulated Bottle<br>date=%{x}<br>transactions=%{y}<extra></extra>",
                  "legendgroup": "26 oz Double Wall Insulated Bottle",
                  "marker": {
                    "color": "#00cc96",
                    "opacity": 0.6,
                    "symbol": "circle"
                  },
                  "mode": "markers",
                  "name": "26 oz Double Wall Insulated Bottle",
                  "showlegend": true,
                  "type": "scattergl",
                  "x": [
                    "2017-04-13T00:00:00"
                  ],
                  "xaxis": "x",
                  "y": [
                    0
                  ],
                  "yaxis": "y"
                },
                {
                  "hovertemplate": "v2ProductName=Google Spiral Leather Journal<br>date=%{x}<br>transactions=%{y}<extra></extra>",
                  "legendgroup": "Google Spiral Leather Journal",
                  "marker": {
                    "color": "#ab63fa",
                    "opacity": 0.6,
                    "symbol": "circle"
                  },
                  "mode": "markers",
                  "name": "Google Spiral Leather Journal",
                  "showlegend": true,
                  "type": "scattergl",
                  "x": [
                    "2017-04-18T00:00:00"
                  ],
                  "xaxis": "x",
                  "y": [
                    1
                  ],
                  "yaxis": "y"
                },
                {
                  "hovertemplate": "v2ProductName=Google Men's Vintage Tank<br>date=%{x}<br>transactions=%{y}<extra></extra>",
                  "legendgroup": "Google Men's Vintage Tank",
                  "marker": {
                    "color": "#FFA15A",
                    "opacity": 0.6,
                    "symbol": "circle"
                  },
                  "mode": "markers",
                  "name": "Google Men's Vintage Tank",
                  "showlegend": true,
                  "type": "scattergl",
                  "x": [
                    "2017-04-27T00:00:00"
                  ],
                  "xaxis": "x",
                  "y": [
                    0
                  ],
                  "yaxis": "y"
                },
                {
                  "hovertemplate": "v2ProductName=Google Leather Journal<br>date=%{x}<br>transactions=%{y}<extra></extra>",
                  "legendgroup": "Google Leather Journal",
                  "marker": {
                    "color": "#19d3f3",
                    "opacity": 0.6,
                    "symbol": "circle"
                  },
                  "mode": "markers",
                  "name": "Google Leather Journal",
                  "showlegend": true,
                  "type": "scattergl",
                  "x": [
                    "2017-05-10T00:00:00"
                  ],
                  "xaxis": "x",
                  "y": [
                    0
                  ],
                  "yaxis": "y"
                },
                {
                  "hovertemplate": "v2ProductName=Android RFID Journal<br>date=%{x}<br>transactions=%{y}<extra></extra>",
                  "legendgroup": "Android RFID Journal",
                  "marker": {
                    "color": "#FF6692",
                    "opacity": 0.6,
                    "symbol": "circle"
                  },
                  "mode": "markers",
                  "name": "Android RFID Journal",
                  "showlegend": true,
                  "type": "scattergl",
                  "x": [
                    "2017-05-14T00:00:00",
                    "2017-05-16T00:00:00"
                  ],
                  "xaxis": "x",
                  "y": [
                    0,
                    0
                  ],
                  "yaxis": "y"
                },
                {
                  "hovertemplate": "v2ProductName=Android Men's  Zip Hoodie<br>date=%{x}<br>transactions=%{y}<extra></extra>",
                  "legendgroup": "Android Men's  Zip Hoodie",
                  "marker": {
                    "color": "#B6E880",
                    "opacity": 0.6,
                    "symbol": "circle"
                  },
                  "mode": "markers",
                  "name": "Android Men's  Zip Hoodie",
                  "showlegend": true,
                  "type": "scattergl",
                  "x": [
                    "2017-05-19T00:00:00",
                    "2017-05-22T00:00:00"
                  ],
                  "xaxis": "x",
                  "y": [
                    0,
                    0
                  ],
                  "yaxis": "y"
                },
                {
                  "hovertemplate": "v2ProductName=Google Women's Short Sleeve Hero Tee White<br>date=%{x}<br>transactions=%{y}<extra></extra>",
                  "legendgroup": "Google Women's Short Sleeve Hero Tee White",
                  "marker": {
                    "color": "#FF97FF",
                    "opacity": 0.6,
                    "symbol": "circle"
                  },
                  "mode": "markers",
                  "name": "Google Women's Short Sleeve Hero Tee White",
                  "showlegend": true,
                  "type": "scattergl",
                  "x": [
                    "2017-06-28T00:00:00",
                    "2017-06-29T00:00:00"
                  ],
                  "xaxis": "x",
                  "y": [
                    0,
                    1
                  ],
                  "yaxis": "y"
                },
                {
                  "hovertemplate": "v2ProductName=Google Hard Cover Journal<br>date=%{x}<br>transactions=%{y}<extra></extra>",
                  "legendgroup": "Google Hard Cover Journal",
                  "marker": {
                    "color": "#FECB52",
                    "opacity": 0.6,
                    "symbol": "circle"
                  },
                  "mode": "markers",
                  "name": "Google Hard Cover Journal",
                  "showlegend": true,
                  "type": "scattergl",
                  "x": [
                    "2017-06-30T00:00:00"
                  ],
                  "xaxis": "x",
                  "y": [
                    0
                  ],
                  "yaxis": "y"
                },
                {
                  "hovertemplate": "v2ProductName=Google Leather Perforated Journal<br>date=%{x}<br>transactions=%{y}<extra></extra>",
                  "legendgroup": "Google Leather Perforated Journal",
                  "marker": {
                    "color": "#636efa",
                    "opacity": 0.6,
                    "symbol": "circle"
                  },
                  "mode": "markers",
                  "name": "Google Leather Perforated Journal",
                  "showlegend": true,
                  "type": "scattergl",
                  "x": [
                    "2017-07-12T00:00:00",
                    "2017-07-22T00:00:00"
                  ],
                  "xaxis": "x",
                  "y": [
                    1,
                    1
                  ],
                  "yaxis": "y"
                },
                {
                  "hovertemplate": "v2ProductName=Google Men's  Zip Hoodie<br>date=%{x}<br>transactions=%{y}<extra></extra>",
                  "legendgroup": "Google Men's  Zip Hoodie",
                  "marker": {
                    "color": "#EF553B",
                    "opacity": 0.6,
                    "symbol": "circle"
                  },
                  "mode": "markers",
                  "name": "Google Men's  Zip Hoodie",
                  "showlegend": true,
                  "type": "scattergl",
                  "x": [
                    "2017-07-15T00:00:00"
                  ],
                  "xaxis": "x",
                  "y": [
                    1
                  ],
                  "yaxis": "y"
                },
                {
                  "hovertemplate": "v2ProductName=YouTube Men's Short Sleeve Hero Tee Black<br>date=%{x}<br>transactions=%{y}<extra></extra>",
                  "legendgroup": "YouTube Men's Short Sleeve Hero Tee Black",
                  "marker": {
                    "color": "#00cc96",
                    "opacity": 0.6,
                    "symbol": "circle"
                  },
                  "mode": "markers",
                  "name": "YouTube Men's Short Sleeve Hero Tee Black",
                  "showlegend": true,
                  "type": "scattergl",
                  "x": [
                    "2017-07-22T00:00:00"
                  ],
                  "xaxis": "x",
                  "y": [
                    0
                  ],
                  "yaxis": "y"
                },
                {
                  "hovertemplate": "v2ProductName=Metal Texture Roller Pen<br>date=%{x}<br>transactions=%{y}<extra></extra>",
                  "legendgroup": "Metal Texture Roller Pen",
                  "marker": {
                    "color": "#ab63fa",
                    "opacity": 0.6,
                    "symbol": "circle"
                  },
                  "mode": "markers",
                  "name": "Metal Texture Roller Pen",
                  "showlegend": true,
                  "type": "scattergl",
                  "x": [
                    "2017-07-26T00:00:00",
                    "2017-07-27T00:00:00",
                    "2017-07-28T00:00:00",
                    "2017-07-31T00:00:00"
                  ],
                  "xaxis": "x",
                  "y": [
                    1,
                    1,
                    0,
                    0
                  ],
                  "yaxis": "y"
                },
                {
                  "marker": {
                    "color": "red",
                    "size": 10
                  },
                  "mode": "markers",
                  "name": "Anomaly",
                  "type": "scatter",
                  "x": [
                    "2016-08-18T00:00:00",
                    "2016-08-25T00:00:00",
                    "2016-08-26T00:00:00",
                    "2016-09-03T00:00:00",
                    "2016-09-08T00:00:00",
                    "2016-09-15T00:00:00",
                    "2016-09-15T00:00:00",
                    "2016-09-15T00:00:00",
                    "2016-09-16T00:00:00",
                    "2016-09-16T00:00:00",
                    "2016-09-16T00:00:00",
                    "2016-09-16T00:00:00",
                    "2016-09-16T00:00:00",
                    "2016-09-20T00:00:00",
                    "2016-09-22T00:00:00",
                    "2016-09-23T00:00:00",
                    "2016-09-25T00:00:00",
                    "2016-09-26T00:00:00",
                    "2016-09-26T00:00:00",
                    "2016-09-26T00:00:00",
                    "2016-09-28T00:00:00",
                    "2016-09-28T00:00:00",
                    "2016-09-30T00:00:00",
                    "2016-10-06T00:00:00"
                  ],
                  "y": [
                    4,
                    6,
                    6,
                    3,
                    2,
                    2,
                    1,
                    1,
                    5,
                    3,
                    4,
                    1,
                    4,
                    1,
                    1,
                    1,
                    1,
                    1,
                    1,
                    1,
                    1,
                    1,
                    1,
                    1
                  ]
                }
              ],
              "layout": {
                "legend": {
                  "title": {
                    "text": "v2ProductName"
                  },
                  "tracegroupgap": 0
                },
                "template": {
                  "data": {
                    "bar": [
                      {
                        "error_x": {
                          "color": "#2a3f5f"
                        },
                        "error_y": {
                          "color": "#2a3f5f"
                        },
                        "marker": {
                          "line": {
                            "color": "#E5ECF6",
                            "width": 0.5
                          },
                          "pattern": {
                            "fillmode": "overlay",
                            "size": 10,
                            "solidity": 0.2
                          }
                        },
                        "type": "bar"
                      }
                    ],
                    "barpolar": [
                      {
                        "marker": {
                          "line": {
                            "color": "#E5ECF6",
                            "width": 0.5
                          },
                          "pattern": {
                            "fillmode": "overlay",
                            "size": 10,
                            "solidity": 0.2
                          }
                        },
                        "type": "barpolar"
                      }
                    ],
                    "carpet": [
                      {
                        "aaxis": {
                          "endlinecolor": "#2a3f5f",
                          "gridcolor": "white",
                          "linecolor": "white",
                          "minorgridcolor": "white",
                          "startlinecolor": "#2a3f5f"
                        },
                        "baxis": {
                          "endlinecolor": "#2a3f5f",
                          "gridcolor": "white",
                          "linecolor": "white",
                          "minorgridcolor": "white",
                          "startlinecolor": "#2a3f5f"
                        },
                        "type": "carpet"
                      }
                    ],
                    "choropleth": [
                      {
                        "colorbar": {
                          "outlinewidth": 0,
                          "ticks": ""
                        },
                        "type": "choropleth"
                      }
                    ],
                    "contour": [
                      {
                        "colorbar": {
                          "outlinewidth": 0,
                          "ticks": ""
                        },
                        "colorscale": [
                          [
                            0,
                            "#0d0887"
                          ],
                          [
                            0.1111111111111111,
                            "#46039f"
                          ],
                          [
                            0.2222222222222222,
                            "#7201a8"
                          ],
                          [
                            0.3333333333333333,
                            "#9c179e"
                          ],
                          [
                            0.4444444444444444,
                            "#bd3786"
                          ],
                          [
                            0.5555555555555556,
                            "#d8576b"
                          ],
                          [
                            0.6666666666666666,
                            "#ed7953"
                          ],
                          [
                            0.7777777777777778,
                            "#fb9f3a"
                          ],
                          [
                            0.8888888888888888,
                            "#fdca26"
                          ],
                          [
                            1,
                            "#f0f921"
                          ]
                        ],
                        "type": "contour"
                      }
                    ],
                    "contourcarpet": [
                      {
                        "colorbar": {
                          "outlinewidth": 0,
                          "ticks": ""
                        },
                        "type": "contourcarpet"
                      }
                    ],
                    "heatmap": [
                      {
                        "colorbar": {
                          "outlinewidth": 0,
                          "ticks": ""
                        },
                        "colorscale": [
                          [
                            0,
                            "#0d0887"
                          ],
                          [
                            0.1111111111111111,
                            "#46039f"
                          ],
                          [
                            0.2222222222222222,
                            "#7201a8"
                          ],
                          [
                            0.3333333333333333,
                            "#9c179e"
                          ],
                          [
                            0.4444444444444444,
                            "#bd3786"
                          ],
                          [
                            0.5555555555555556,
                            "#d8576b"
                          ],
                          [
                            0.6666666666666666,
                            "#ed7953"
                          ],
                          [
                            0.7777777777777778,
                            "#fb9f3a"
                          ],
                          [
                            0.8888888888888888,
                            "#fdca26"
                          ],
                          [
                            1,
                            "#f0f921"
                          ]
                        ],
                        "type": "heatmap"
                      }
                    ],
                    "heatmapgl": [
                      {
                        "colorbar": {
                          "outlinewidth": 0,
                          "ticks": ""
                        },
                        "colorscale": [
                          [
                            0,
                            "#0d0887"
                          ],
                          [
                            0.1111111111111111,
                            "#46039f"
                          ],
                          [
                            0.2222222222222222,
                            "#7201a8"
                          ],
                          [
                            0.3333333333333333,
                            "#9c179e"
                          ],
                          [
                            0.4444444444444444,
                            "#bd3786"
                          ],
                          [
                            0.5555555555555556,
                            "#d8576b"
                          ],
                          [
                            0.6666666666666666,
                            "#ed7953"
                          ],
                          [
                            0.7777777777777778,
                            "#fb9f3a"
                          ],
                          [
                            0.8888888888888888,
                            "#fdca26"
                          ],
                          [
                            1,
                            "#f0f921"
                          ]
                        ],
                        "type": "heatmapgl"
                      }
                    ],
                    "histogram": [
                      {
                        "marker": {
                          "pattern": {
                            "fillmode": "overlay",
                            "size": 10,
                            "solidity": 0.2
                          }
                        },
                        "type": "histogram"
                      }
                    ],
                    "histogram2d": [
                      {
                        "colorbar": {
                          "outlinewidth": 0,
                          "ticks": ""
                        },
                        "colorscale": [
                          [
                            0,
                            "#0d0887"
                          ],
                          [
                            0.1111111111111111,
                            "#46039f"
                          ],
                          [
                            0.2222222222222222,
                            "#7201a8"
                          ],
                          [
                            0.3333333333333333,
                            "#9c179e"
                          ],
                          [
                            0.4444444444444444,
                            "#bd3786"
                          ],
                          [
                            0.5555555555555556,
                            "#d8576b"
                          ],
                          [
                            0.6666666666666666,
                            "#ed7953"
                          ],
                          [
                            0.7777777777777778,
                            "#fb9f3a"
                          ],
                          [
                            0.8888888888888888,
                            "#fdca26"
                          ],
                          [
                            1,
                            "#f0f921"
                          ]
                        ],
                        "type": "histogram2d"
                      }
                    ],
                    "histogram2dcontour": [
                      {
                        "colorbar": {
                          "outlinewidth": 0,
                          "ticks": ""
                        },
                        "colorscale": [
                          [
                            0,
                            "#0d0887"
                          ],
                          [
                            0.1111111111111111,
                            "#46039f"
                          ],
                          [
                            0.2222222222222222,
                            "#7201a8"
                          ],
                          [
                            0.3333333333333333,
                            "#9c179e"
                          ],
                          [
                            0.4444444444444444,
                            "#bd3786"
                          ],
                          [
                            0.5555555555555556,
                            "#d8576b"
                          ],
                          [
                            0.6666666666666666,
                            "#ed7953"
                          ],
                          [
                            0.7777777777777778,
                            "#fb9f3a"
                          ],
                          [
                            0.8888888888888888,
                            "#fdca26"
                          ],
                          [
                            1,
                            "#f0f921"
                          ]
                        ],
                        "type": "histogram2dcontour"
                      }
                    ],
                    "mesh3d": [
                      {
                        "colorbar": {
                          "outlinewidth": 0,
                          "ticks": ""
                        },
                        "type": "mesh3d"
                      }
                    ],
                    "parcoords": [
                      {
                        "line": {
                          "colorbar": {
                            "outlinewidth": 0,
                            "ticks": ""
                          }
                        },
                        "type": "parcoords"
                      }
                    ],
                    "pie": [
                      {
                        "automargin": true,
                        "type": "pie"
                      }
                    ],
                    "scatter": [
                      {
                        "fillpattern": {
                          "fillmode": "overlay",
                          "size": 10,
                          "solidity": 0.2
                        },
                        "type": "scatter"
                      }
                    ],
                    "scatter3d": [
                      {
                        "line": {
                          "colorbar": {
                            "outlinewidth": 0,
                            "ticks": ""
                          }
                        },
                        "marker": {
                          "colorbar": {
                            "outlinewidth": 0,
                            "ticks": ""
                          }
                        },
                        "type": "scatter3d"
                      }
                    ],
                    "scattercarpet": [
                      {
                        "marker": {
                          "colorbar": {
                            "outlinewidth": 0,
                            "ticks": ""
                          }
                        },
                        "type": "scattercarpet"
                      }
                    ],
                    "scattergeo": [
                      {
                        "marker": {
                          "colorbar": {
                            "outlinewidth": 0,
                            "ticks": ""
                          }
                        },
                        "type": "scattergeo"
                      }
                    ],
                    "scattergl": [
                      {
                        "marker": {
                          "colorbar": {
                            "outlinewidth": 0,
                            "ticks": ""
                          }
                        },
                        "type": "scattergl"
                      }
                    ],
                    "scattermapbox": [
                      {
                        "marker": {
                          "colorbar": {
                            "outlinewidth": 0,
                            "ticks": ""
                          }
                        },
                        "type": "scattermapbox"
                      }
                    ],
                    "scatterpolar": [
                      {
                        "marker": {
                          "colorbar": {
                            "outlinewidth": 0,
                            "ticks": ""
                          }
                        },
                        "type": "scatterpolar"
                      }
                    ],
                    "scatterpolargl": [
                      {
                        "marker": {
                          "colorbar": {
                            "outlinewidth": 0,
                            "ticks": ""
                          }
                        },
                        "type": "scatterpolargl"
                      }
                    ],
                    "scatterternary": [
                      {
                        "marker": {
                          "colorbar": {
                            "outlinewidth": 0,
                            "ticks": ""
                          }
                        },
                        "type": "scatterternary"
                      }
                    ],
                    "surface": [
                      {
                        "colorbar": {
                          "outlinewidth": 0,
                          "ticks": ""
                        },
                        "colorscale": [
                          [
                            0,
                            "#0d0887"
                          ],
                          [
                            0.1111111111111111,
                            "#46039f"
                          ],
                          [
                            0.2222222222222222,
                            "#7201a8"
                          ],
                          [
                            0.3333333333333333,
                            "#9c179e"
                          ],
                          [
                            0.4444444444444444,
                            "#bd3786"
                          ],
                          [
                            0.5555555555555556,
                            "#d8576b"
                          ],
                          [
                            0.6666666666666666,
                            "#ed7953"
                          ],
                          [
                            0.7777777777777778,
                            "#fb9f3a"
                          ],
                          [
                            0.8888888888888888,
                            "#fdca26"
                          ],
                          [
                            1,
                            "#f0f921"
                          ]
                        ],
                        "type": "surface"
                      }
                    ],
                    "table": [
                      {
                        "cells": {
                          "fill": {
                            "color": "#EBF0F8"
                          },
                          "line": {
                            "color": "white"
                          }
                        },
                        "header": {
                          "fill": {
                            "color": "#C8D4E3"
                          },
                          "line": {
                            "color": "white"
                          }
                        },
                        "type": "table"
                      }
                    ]
                  },
                  "layout": {
                    "annotationdefaults": {
                      "arrowcolor": "#2a3f5f",
                      "arrowhead": 0,
                      "arrowwidth": 1
                    },
                    "autotypenumbers": "strict",
                    "coloraxis": {
                      "colorbar": {
                        "outlinewidth": 0,
                        "ticks": ""
                      }
                    },
                    "colorscale": {
                      "diverging": [
                        [
                          0,
                          "#8e0152"
                        ],
                        [
                          0.1,
                          "#c51b7d"
                        ],
                        [
                          0.2,
                          "#de77ae"
                        ],
                        [
                          0.3,
                          "#f1b6da"
                        ],
                        [
                          0.4,
                          "#fde0ef"
                        ],
                        [
                          0.5,
                          "#f7f7f7"
                        ],
                        [
                          0.6,
                          "#e6f5d0"
                        ],
                        [
                          0.7,
                          "#b8e186"
                        ],
                        [
                          0.8,
                          "#7fbc41"
                        ],
                        [
                          0.9,
                          "#4d9221"
                        ],
                        [
                          1,
                          "#276419"
                        ]
                      ],
                      "sequential": [
                        [
                          0,
                          "#0d0887"
                        ],
                        [
                          0.1111111111111111,
                          "#46039f"
                        ],
                        [
                          0.2222222222222222,
                          "#7201a8"
                        ],
                        [
                          0.3333333333333333,
                          "#9c179e"
                        ],
                        [
                          0.4444444444444444,
                          "#bd3786"
                        ],
                        [
                          0.5555555555555556,
                          "#d8576b"
                        ],
                        [
                          0.6666666666666666,
                          "#ed7953"
                        ],
                        [
                          0.7777777777777778,
                          "#fb9f3a"
                        ],
                        [
                          0.8888888888888888,
                          "#fdca26"
                        ],
                        [
                          1,
                          "#f0f921"
                        ]
                      ],
                      "sequentialminus": [
                        [
                          0,
                          "#0d0887"
                        ],
                        [
                          0.1111111111111111,
                          "#46039f"
                        ],
                        [
                          0.2222222222222222,
                          "#7201a8"
                        ],
                        [
                          0.3333333333333333,
                          "#9c179e"
                        ],
                        [
                          0.4444444444444444,
                          "#bd3786"
                        ],
                        [
                          0.5555555555555556,
                          "#d8576b"
                        ],
                        [
                          0.6666666666666666,
                          "#ed7953"
                        ],
                        [
                          0.7777777777777778,
                          "#fb9f3a"
                        ],
                        [
                          0.8888888888888888,
                          "#fdca26"
                        ],
                        [
                          1,
                          "#f0f921"
                        ]
                      ]
                    },
                    "colorway": [
                      "#636efa",
                      "#EF553B",
                      "#00cc96",
                      "#ab63fa",
                      "#FFA15A",
                      "#19d3f3",
                      "#FF6692",
                      "#B6E880",
                      "#FF97FF",
                      "#FECB52"
                    ],
                    "font": {
                      "color": "#2a3f5f"
                    },
                    "geo": {
                      "bgcolor": "white",
                      "lakecolor": "white",
                      "landcolor": "#E5ECF6",
                      "showlakes": true,
                      "showland": true,
                      "subunitcolor": "white"
                    },
                    "hoverlabel": {
                      "align": "left"
                    },
                    "hovermode": "closest",
                    "mapbox": {
                      "style": "light"
                    },
                    "paper_bgcolor": "white",
                    "plot_bgcolor": "#E5ECF6",
                    "polar": {
                      "angularaxis": {
                        "gridcolor": "white",
                        "linecolor": "white",
                        "ticks": ""
                      },
                      "bgcolor": "#E5ECF6",
                      "radialaxis": {
                        "gridcolor": "white",
                        "linecolor": "white",
                        "ticks": ""
                      }
                    },
                    "scene": {
                      "xaxis": {
                        "backgroundcolor": "#E5ECF6",
                        "gridcolor": "white",
                        "gridwidth": 2,
                        "linecolor": "white",
                        "showbackground": true,
                        "ticks": "",
                        "zerolinecolor": "white"
                      },
                      "yaxis": {
                        "backgroundcolor": "#E5ECF6",
                        "gridcolor": "white",
                        "gridwidth": 2,
                        "linecolor": "white",
                        "showbackground": true,
                        "ticks": "",
                        "zerolinecolor": "white"
                      },
                      "zaxis": {
                        "backgroundcolor": "#E5ECF6",
                        "gridcolor": "white",
                        "gridwidth": 2,
                        "linecolor": "white",
                        "showbackground": true,
                        "ticks": "",
                        "zerolinecolor": "white"
                      }
                    },
                    "shapedefaults": {
                      "line": {
                        "color": "#2a3f5f"
                      }
                    },
                    "ternary": {
                      "aaxis": {
                        "gridcolor": "white",
                        "linecolor": "white",
                        "ticks": ""
                      },
                      "baxis": {
                        "gridcolor": "white",
                        "linecolor": "white",
                        "ticks": ""
                      },
                      "bgcolor": "#E5ECF6",
                      "caxis": {
                        "gridcolor": "white",
                        "linecolor": "white",
                        "ticks": ""
                      }
                    },
                    "title": {
                      "x": 0.05
                    },
                    "xaxis": {
                      "automargin": true,
                      "gridcolor": "white",
                      "linecolor": "white",
                      "ticks": "",
                      "title": {
                        "standoff": 15
                      },
                      "zerolinecolor": "white",
                      "zerolinewidth": 2
                    },
                    "yaxis": {
                      "automargin": true,
                      "gridcolor": "white",
                      "linecolor": "white",
                      "ticks": "",
                      "title": {
                        "standoff": 15
                      },
                      "zerolinecolor": "white",
                      "zerolinewidth": 2
                    }
                  }
                },
                "title": {
                  "text": "Transaction Anomalies"
                },
                "xaxis": {
                  "anchor": "y",
                  "domain": [
                    0,
                    1
                  ],
                  "title": {
                    "text": "date"
                  }
                },
                "yaxis": {
                  "anchor": "x",
                  "domain": [
                    0,
                    1
                  ],
                  "title": {
                    "text": "transactions"
                  }
                }
              }
            }
          },
          "metadata": {},
          "output_type": "display_data"
        },
        {
          "data": {
            "application/vnd.plotly.v1+json": {
              "config": {
                "plotlyServerURL": "https://plot.ly"
              },
              "data": [
                {
                  "alignmentgroup": "True",
                  "hovertemplate": "city=%{x}<br>totalTransactionRevenue=%{text}<extra></extra>",
                  "legendgroup": "",
                  "marker": {
                    "color": "#636efa",
                    "pattern": {
                      "shape": ""
                    }
                  },
                  "name": "",
                  "offsetgroup": "",
                  "orientation": "v",
                  "showlegend": false,
                  "text": [
                    65102440000,
                    21250810000,
                    7774340000,
                    5713290000,
                    5427980000,
                    4621840000,
                    3898660000,
                    3182210000,
                    2853540000,
                    1674930000
                  ],
                  "textposition": "auto",
                  "type": "bar",
                  "x": [
                    "not available in demo dataset",
                    "New York",
                    "San Francisco",
                    "Mountain View",
                    "Toronto",
                    "Chicago",
                    "Ann Arbor",
                    "Atlanta",
                    "Maracaibo",
                    "Los Angeles"
                  ],
                  "xaxis": "x",
                  "y": [
                    65102440000,
                    21250810000,
                    7774340000,
                    5713290000,
                    5427980000,
                    4621840000,
                    3898660000,
                    3182210000,
                    2853540000,
                    1674930000
                  ],
                  "yaxis": "y"
                }
              ],
              "layout": {
                "barmode": "relative",
                "legend": {
                  "tracegroupgap": 0
                },
                "template": {
                  "data": {
                    "bar": [
                      {
                        "error_x": {
                          "color": "#2a3f5f"
                        },
                        "error_y": {
                          "color": "#2a3f5f"
                        },
                        "marker": {
                          "line": {
                            "color": "#E5ECF6",
                            "width": 0.5
                          },
                          "pattern": {
                            "fillmode": "overlay",
                            "size": 10,
                            "solidity": 0.2
                          }
                        },
                        "type": "bar"
                      }
                    ],
                    "barpolar": [
                      {
                        "marker": {
                          "line": {
                            "color": "#E5ECF6",
                            "width": 0.5
                          },
                          "pattern": {
                            "fillmode": "overlay",
                            "size": 10,
                            "solidity": 0.2
                          }
                        },
                        "type": "barpolar"
                      }
                    ],
                    "carpet": [
                      {
                        "aaxis": {
                          "endlinecolor": "#2a3f5f",
                          "gridcolor": "white",
                          "linecolor": "white",
                          "minorgridcolor": "white",
                          "startlinecolor": "#2a3f5f"
                        },
                        "baxis": {
                          "endlinecolor": "#2a3f5f",
                          "gridcolor": "white",
                          "linecolor": "white",
                          "minorgridcolor": "white",
                          "startlinecolor": "#2a3f5f"
                        },
                        "type": "carpet"
                      }
                    ],
                    "choropleth": [
                      {
                        "colorbar": {
                          "outlinewidth": 0,
                          "ticks": ""
                        },
                        "type": "choropleth"
                      }
                    ],
                    "contour": [
                      {
                        "colorbar": {
                          "outlinewidth": 0,
                          "ticks": ""
                        },
                        "colorscale": [
                          [
                            0,
                            "#0d0887"
                          ],
                          [
                            0.1111111111111111,
                            "#46039f"
                          ],
                          [
                            0.2222222222222222,
                            "#7201a8"
                          ],
                          [
                            0.3333333333333333,
                            "#9c179e"
                          ],
                          [
                            0.4444444444444444,
                            "#bd3786"
                          ],
                          [
                            0.5555555555555556,
                            "#d8576b"
                          ],
                          [
                            0.6666666666666666,
                            "#ed7953"
                          ],
                          [
                            0.7777777777777778,
                            "#fb9f3a"
                          ],
                          [
                            0.8888888888888888,
                            "#fdca26"
                          ],
                          [
                            1,
                            "#f0f921"
                          ]
                        ],
                        "type": "contour"
                      }
                    ],
                    "contourcarpet": [
                      {
                        "colorbar": {
                          "outlinewidth": 0,
                          "ticks": ""
                        },
                        "type": "contourcarpet"
                      }
                    ],
                    "heatmap": [
                      {
                        "colorbar": {
                          "outlinewidth": 0,
                          "ticks": ""
                        },
                        "colorscale": [
                          [
                            0,
                            "#0d0887"
                          ],
                          [
                            0.1111111111111111,
                            "#46039f"
                          ],
                          [
                            0.2222222222222222,
                            "#7201a8"
                          ],
                          [
                            0.3333333333333333,
                            "#9c179e"
                          ],
                          [
                            0.4444444444444444,
                            "#bd3786"
                          ],
                          [
                            0.5555555555555556,
                            "#d8576b"
                          ],
                          [
                            0.6666666666666666,
                            "#ed7953"
                          ],
                          [
                            0.7777777777777778,
                            "#fb9f3a"
                          ],
                          [
                            0.8888888888888888,
                            "#fdca26"
                          ],
                          [
                            1,
                            "#f0f921"
                          ]
                        ],
                        "type": "heatmap"
                      }
                    ],
                    "heatmapgl": [
                      {
                        "colorbar": {
                          "outlinewidth": 0,
                          "ticks": ""
                        },
                        "colorscale": [
                          [
                            0,
                            "#0d0887"
                          ],
                          [
                            0.1111111111111111,
                            "#46039f"
                          ],
                          [
                            0.2222222222222222,
                            "#7201a8"
                          ],
                          [
                            0.3333333333333333,
                            "#9c179e"
                          ],
                          [
                            0.4444444444444444,
                            "#bd3786"
                          ],
                          [
                            0.5555555555555556,
                            "#d8576b"
                          ],
                          [
                            0.6666666666666666,
                            "#ed7953"
                          ],
                          [
                            0.7777777777777778,
                            "#fb9f3a"
                          ],
                          [
                            0.8888888888888888,
                            "#fdca26"
                          ],
                          [
                            1,
                            "#f0f921"
                          ]
                        ],
                        "type": "heatmapgl"
                      }
                    ],
                    "histogram": [
                      {
                        "marker": {
                          "pattern": {
                            "fillmode": "overlay",
                            "size": 10,
                            "solidity": 0.2
                          }
                        },
                        "type": "histogram"
                      }
                    ],
                    "histogram2d": [
                      {
                        "colorbar": {
                          "outlinewidth": 0,
                          "ticks": ""
                        },
                        "colorscale": [
                          [
                            0,
                            "#0d0887"
                          ],
                          [
                            0.1111111111111111,
                            "#46039f"
                          ],
                          [
                            0.2222222222222222,
                            "#7201a8"
                          ],
                          [
                            0.3333333333333333,
                            "#9c179e"
                          ],
                          [
                            0.4444444444444444,
                            "#bd3786"
                          ],
                          [
                            0.5555555555555556,
                            "#d8576b"
                          ],
                          [
                            0.6666666666666666,
                            "#ed7953"
                          ],
                          [
                            0.7777777777777778,
                            "#fb9f3a"
                          ],
                          [
                            0.8888888888888888,
                            "#fdca26"
                          ],
                          [
                            1,
                            "#f0f921"
                          ]
                        ],
                        "type": "histogram2d"
                      }
                    ],
                    "histogram2dcontour": [
                      {
                        "colorbar": {
                          "outlinewidth": 0,
                          "ticks": ""
                        },
                        "colorscale": [
                          [
                            0,
                            "#0d0887"
                          ],
                          [
                            0.1111111111111111,
                            "#46039f"
                          ],
                          [
                            0.2222222222222222,
                            "#7201a8"
                          ],
                          [
                            0.3333333333333333,
                            "#9c179e"
                          ],
                          [
                            0.4444444444444444,
                            "#bd3786"
                          ],
                          [
                            0.5555555555555556,
                            "#d8576b"
                          ],
                          [
                            0.6666666666666666,
                            "#ed7953"
                          ],
                          [
                            0.7777777777777778,
                            "#fb9f3a"
                          ],
                          [
                            0.8888888888888888,
                            "#fdca26"
                          ],
                          [
                            1,
                            "#f0f921"
                          ]
                        ],
                        "type": "histogram2dcontour"
                      }
                    ],
                    "mesh3d": [
                      {
                        "colorbar": {
                          "outlinewidth": 0,
                          "ticks": ""
                        },
                        "type": "mesh3d"
                      }
                    ],
                    "parcoords": [
                      {
                        "line": {
                          "colorbar": {
                            "outlinewidth": 0,
                            "ticks": ""
                          }
                        },
                        "type": "parcoords"
                      }
                    ],
                    "pie": [
                      {
                        "automargin": true,
                        "type": "pie"
                      }
                    ],
                    "scatter": [
                      {
                        "fillpattern": {
                          "fillmode": "overlay",
                          "size": 10,
                          "solidity": 0.2
                        },
                        "type": "scatter"
                      }
                    ],
                    "scatter3d": [
                      {
                        "line": {
                          "colorbar": {
                            "outlinewidth": 0,
                            "ticks": ""
                          }
                        },
                        "marker": {
                          "colorbar": {
                            "outlinewidth": 0,
                            "ticks": ""
                          }
                        },
                        "type": "scatter3d"
                      }
                    ],
                    "scattercarpet": [
                      {
                        "marker": {
                          "colorbar": {
                            "outlinewidth": 0,
                            "ticks": ""
                          }
                        },
                        "type": "scattercarpet"
                      }
                    ],
                    "scattergeo": [
                      {
                        "marker": {
                          "colorbar": {
                            "outlinewidth": 0,
                            "ticks": ""
                          }
                        },
                        "type": "scattergeo"
                      }
                    ],
                    "scattergl": [
                      {
                        "marker": {
                          "colorbar": {
                            "outlinewidth": 0,
                            "ticks": ""
                          }
                        },
                        "type": "scattergl"
                      }
                    ],
                    "scattermapbox": [
                      {
                        "marker": {
                          "colorbar": {
                            "outlinewidth": 0,
                            "ticks": ""
                          }
                        },
                        "type": "scattermapbox"
                      }
                    ],
                    "scatterpolar": [
                      {
                        "marker": {
                          "colorbar": {
                            "outlinewidth": 0,
                            "ticks": ""
                          }
                        },
                        "type": "scatterpolar"
                      }
                    ],
                    "scatterpolargl": [
                      {
                        "marker": {
                          "colorbar": {
                            "outlinewidth": 0,
                            "ticks": ""
                          }
                        },
                        "type": "scatterpolargl"
                      }
                    ],
                    "scatterternary": [
                      {
                        "marker": {
                          "colorbar": {
                            "outlinewidth": 0,
                            "ticks": ""
                          }
                        },
                        "type": "scatterternary"
                      }
                    ],
                    "surface": [
                      {
                        "colorbar": {
                          "outlinewidth": 0,
                          "ticks": ""
                        },
                        "colorscale": [
                          [
                            0,
                            "#0d0887"
                          ],
                          [
                            0.1111111111111111,
                            "#46039f"
                          ],
                          [
                            0.2222222222222222,
                            "#7201a8"
                          ],
                          [
                            0.3333333333333333,
                            "#9c179e"
                          ],
                          [
                            0.4444444444444444,
                            "#bd3786"
                          ],
                          [
                            0.5555555555555556,
                            "#d8576b"
                          ],
                          [
                            0.6666666666666666,
                            "#ed7953"
                          ],
                          [
                            0.7777777777777778,
                            "#fb9f3a"
                          ],
                          [
                            0.8888888888888888,
                            "#fdca26"
                          ],
                          [
                            1,
                            "#f0f921"
                          ]
                        ],
                        "type": "surface"
                      }
                    ],
                    "table": [
                      {
                        "cells": {
                          "fill": {
                            "color": "#EBF0F8"
                          },
                          "line": {
                            "color": "white"
                          }
                        },
                        "header": {
                          "fill": {
                            "color": "#C8D4E3"
                          },
                          "line": {
                            "color": "white"
                          }
                        },
                        "type": "table"
                      }
                    ]
                  },
                  "layout": {
                    "annotationdefaults": {
                      "arrowcolor": "#2a3f5f",
                      "arrowhead": 0,
                      "arrowwidth": 1
                    },
                    "autotypenumbers": "strict",
                    "coloraxis": {
                      "colorbar": {
                        "outlinewidth": 0,
                        "ticks": ""
                      }
                    },
                    "colorscale": {
                      "diverging": [
                        [
                          0,
                          "#8e0152"
                        ],
                        [
                          0.1,
                          "#c51b7d"
                        ],
                        [
                          0.2,
                          "#de77ae"
                        ],
                        [
                          0.3,
                          "#f1b6da"
                        ],
                        [
                          0.4,
                          "#fde0ef"
                        ],
                        [
                          0.5,
                          "#f7f7f7"
                        ],
                        [
                          0.6,
                          "#e6f5d0"
                        ],
                        [
                          0.7,
                          "#b8e186"
                        ],
                        [
                          0.8,
                          "#7fbc41"
                        ],
                        [
                          0.9,
                          "#4d9221"
                        ],
                        [
                          1,
                          "#276419"
                        ]
                      ],
                      "sequential": [
                        [
                          0,
                          "#0d0887"
                        ],
                        [
                          0.1111111111111111,
                          "#46039f"
                        ],
                        [
                          0.2222222222222222,
                          "#7201a8"
                        ],
                        [
                          0.3333333333333333,
                          "#9c179e"
                        ],
                        [
                          0.4444444444444444,
                          "#bd3786"
                        ],
                        [
                          0.5555555555555556,
                          "#d8576b"
                        ],
                        [
                          0.6666666666666666,
                          "#ed7953"
                        ],
                        [
                          0.7777777777777778,
                          "#fb9f3a"
                        ],
                        [
                          0.8888888888888888,
                          "#fdca26"
                        ],
                        [
                          1,
                          "#f0f921"
                        ]
                      ],
                      "sequentialminus": [
                        [
                          0,
                          "#0d0887"
                        ],
                        [
                          0.1111111111111111,
                          "#46039f"
                        ],
                        [
                          0.2222222222222222,
                          "#7201a8"
                        ],
                        [
                          0.3333333333333333,
                          "#9c179e"
                        ],
                        [
                          0.4444444444444444,
                          "#bd3786"
                        ],
                        [
                          0.5555555555555556,
                          "#d8576b"
                        ],
                        [
                          0.6666666666666666,
                          "#ed7953"
                        ],
                        [
                          0.7777777777777778,
                          "#fb9f3a"
                        ],
                        [
                          0.8888888888888888,
                          "#fdca26"
                        ],
                        [
                          1,
                          "#f0f921"
                        ]
                      ]
                    },
                    "colorway": [
                      "#636efa",
                      "#EF553B",
                      "#00cc96",
                      "#ab63fa",
                      "#FFA15A",
                      "#19d3f3",
                      "#FF6692",
                      "#B6E880",
                      "#FF97FF",
                      "#FECB52"
                    ],
                    "font": {
                      "color": "#2a3f5f"
                    },
                    "geo": {
                      "bgcolor": "white",
                      "lakecolor": "white",
                      "landcolor": "#E5ECF6",
                      "showlakes": true,
                      "showland": true,
                      "subunitcolor": "white"
                    },
                    "hoverlabel": {
                      "align": "left"
                    },
                    "hovermode": "closest",
                    "mapbox": {
                      "style": "light"
                    },
                    "paper_bgcolor": "white",
                    "plot_bgcolor": "#E5ECF6",
                    "polar": {
                      "angularaxis": {
                        "gridcolor": "white",
                        "linecolor": "white",
                        "ticks": ""
                      },
                      "bgcolor": "#E5ECF6",
                      "radialaxis": {
                        "gridcolor": "white",
                        "linecolor": "white",
                        "ticks": ""
                      }
                    },
                    "scene": {
                      "xaxis": {
                        "backgroundcolor": "#E5ECF6",
                        "gridcolor": "white",
                        "gridwidth": 2,
                        "linecolor": "white",
                        "showbackground": true,
                        "ticks": "",
                        "zerolinecolor": "white"
                      },
                      "yaxis": {
                        "backgroundcolor": "#E5ECF6",
                        "gridcolor": "white",
                        "gridwidth": 2,
                        "linecolor": "white",
                        "showbackground": true,
                        "ticks": "",
                        "zerolinecolor": "white"
                      },
                      "zaxis": {
                        "backgroundcolor": "#E5ECF6",
                        "gridcolor": "white",
                        "gridwidth": 2,
                        "linecolor": "white",
                        "showbackground": true,
                        "ticks": "",
                        "zerolinecolor": "white"
                      }
                    },
                    "shapedefaults": {
                      "line": {
                        "color": "#2a3f5f"
                      }
                    },
                    "ternary": {
                      "aaxis": {
                        "gridcolor": "white",
                        "linecolor": "white",
                        "ticks": ""
                      },
                      "baxis": {
                        "gridcolor": "white",
                        "linecolor": "white",
                        "ticks": ""
                      },
                      "bgcolor": "#E5ECF6",
                      "caxis": {
                        "gridcolor": "white",
                        "linecolor": "white",
                        "ticks": ""
                      }
                    },
                    "title": {
                      "x": 0.05
                    },
                    "xaxis": {
                      "automargin": true,
                      "gridcolor": "white",
                      "linecolor": "white",
                      "ticks": "",
                      "title": {
                        "standoff": 15
                      },
                      "zerolinecolor": "white",
                      "zerolinewidth": 2
                    },
                    "yaxis": {
                      "automargin": true,
                      "gridcolor": "white",
                      "linecolor": "white",
                      "ticks": "",
                      "title": {
                        "standoff": 15
                      },
                      "zerolinecolor": "white",
                      "zerolinewidth": 2
                    }
                  }
                },
                "title": {
                  "text": "Top 10 Most Profitable Cities"
                },
                "xaxis": {
                  "anchor": "y",
                  "domain": [
                    0,
                    1
                  ],
                  "title": {
                    "text": "city"
                  }
                },
                "yaxis": {
                  "anchor": "x",
                  "domain": [
                    0,
                    1
                  ],
                  "title": {
                    "text": "totalTransactionRevenue"
                  }
                }
              }
            }
          },
          "metadata": {},
          "output_type": "display_data"
        }
      ],
      "source": [
        "# 1. Identify top products based on the total transaction revenue per day\n",
        "top_products = (\n",
        "    df.groupby(['date', 'v2ProductName'])\n",
        "    .agg({'totalTransactionRevenue': 'sum'})\n",
        "    .reset_index()\n",
        "    .sort_values(by=['date', 'totalTransactionRevenue'], ascending=[True, False])\n",
        ")\n",
        "\n",
        "# 2. Detect anomalies in transactions\n",
        "transaction_anomalies = (\n",
        "    df.groupby(['date', 'v2ProductName'])\n",
        "    .agg({'transactions': 'sum'})\n",
        "    .reset_index()\n",
        ")\n",
        "\n",
        "# Add rolling mean and standard deviation for anomaly detection\n",
        "transaction_anomalies['rolling_mean'] = (\n",
        "    transaction_anomalies.groupby('v2ProductName')['transactions'].transform(lambda x: x.rolling(7, min_periods=1).mean())\n",
        ")\n",
        "transaction_anomalies['rolling_std'] = (\n",
        "    transaction_anomalies.groupby('v2ProductName')['transactions'].transform(lambda x: x.rolling(7, min_periods=1).std())\n",
        ")\n",
        "transaction_anomalies['anomaly'] = abs(transaction_anomalies['transactions'] - transaction_anomalies['rolling_mean']) > (\n",
        "    2 * transaction_anomalies['rolling_std']\n",
        ")\n",
        "\n",
        "# 3. Identify the most profitable city\n",
        "profitable_city = (\n",
        "    df.groupby('city')\n",
        "    .agg({'totalTransactionRevenue': 'sum'})\n",
        "    .reset_index()\n",
        "    .sort_values(by='totalTransactionRevenue', ascending=False)\n",
        ")\n",
        "\n",
        "# --- Visualization ---\n",
        "\n",
        "# 1. Top products based on total transaction revenue per day\n",
        "fig1 = px.line(\n",
        "    top_products, \n",
        "    x='date', \n",
        "    y='totalTransactionRevenue', \n",
        "    color='v2ProductName', \n",
        "    title='Top Products Based on Total Transaction Revenue Per Day'\n",
        ")\n",
        "fig1.show()\n",
        "\n",
        "# 2. Detect anomalies\n",
        "anomaly_products = transaction_anomalies[transaction_anomalies['anomaly']]\n",
        "fig2 = px.scatter(\n",
        "    transaction_anomalies, \n",
        "    x='date', \n",
        "    y='transactions', \n",
        "    color='v2ProductName', \n",
        "    title='Transaction Anomalies',\n",
        "    opacity=0.6\n",
        ")\n",
        "fig2.add_scatter(\n",
        "    x=anomaly_products['date'], \n",
        "    y=anomaly_products['transactions'], \n",
        "    mode='markers', \n",
        "    marker=dict(size=10, color='red'), \n",
        "    name='Anomaly'\n",
        ")\n",
        "fig2.show()\n",
        "\n",
        "# 3. Most profitable city\n",
        "fig3 = px.bar(\n",
        "    profitable_city.head(10), \n",
        "    x='city', \n",
        "    y='totalTransactionRevenue', \n",
        "    title='Top 10 Most Profitable Cities',\n",
        "    text='totalTransactionRevenue'\n",
        ")\n",
        "fig3.show()"
      ]
    },
    {
      "cell_type": "markdown",
      "metadata": {},
      "source": [
        "# Save Data"
      ]
    },
    {
      "cell_type": "code",
      "execution_count": 14,
      "metadata": {},
      "outputs": [
        {
          "name": "stdout",
          "output_type": "stream",
          "text": [
            "Data has been saved to local\n"
          ]
        }
      ],
      "source": [
        "try:\n",
        "    # Saving the cleaned dataset to a CSV file and by the name 'e_commerce_session.csv'\n",
        "    df.to_csv('C:/Users/G2 Academy/OneDrive/Desktop/NTX_Solusi_Teknologi/data/data_transform/e_commerce_session.csv', index=False)  # Please select where you want to save the data\n",
        "    print(\"Data has been saved to local\")\n",
        "except Exception as e:\n",
        "    # Catching any exception that occurs and printing an error message\n",
        "    print(f\"An error occurred while saving the data: {e}\")"
      ]
    }
  ],
  "metadata": {
    "colab": {
      "provenance": []
    },
    "kernelspec": {
      "display_name": "Python 3",
      "name": "python3"
    },
    "language_info": {
      "codemirror_mode": {
        "name": "ipython",
        "version": 3
      },
      "file_extension": ".py",
      "mimetype": "text/x-python",
      "name": "python",
      "nbconvert_exporter": "python",
      "pygments_lexer": "ipython3",
      "version": "3.13.0"
    }
  },
  "nbformat": 4,
  "nbformat_minor": 0
}
